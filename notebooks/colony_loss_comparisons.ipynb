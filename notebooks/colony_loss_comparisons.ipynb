{
 "cells": [
  {
   "cell_type": "markdown",
   "id": "cd45b4c1",
   "metadata": {},
   "source": [
    "- determine severity of bee loss with colony loss numbers over the years (or by period, noting that 2019 has missing data for one period)\n",
    "- look at top 10 honey producing or agriculturally significant states to see if any of these states do not compare with the same colony loss trends as over all US \n",
    "- compare colony growth/loss findings with national honey report on weight/value of honey production overall and state by state\n",
    "- determine if honey production is affected by colony growth/loss \n"
   ]
  },
  {
   "cell_type": "markdown",
   "id": "16c59e71",
   "metadata": {},
   "source": [
    "notes: for over all numbers on years will need to skip 2019 and not inlcude 2021 due to missing periods\n",
    "\n",
    "to fix issue of (x) in US max colonies column which prevents changing the dtype to numeric, i will sub in 0 for that value which is obviously not correct and will sub as na \n",
    "\n",
    "for the issue of (z) meaning less than half a unit, i will change to zero"
   ]
  },
  {
   "cell_type": "code",
   "execution_count": null,
   "id": "84cfac52",
   "metadata": {},
   "outputs": [],
   "source": [
    "import pandas as pd\n",
    "import matplotlib.pyplot as plt\n",
    "import seaborn as sns"
   ]
  },
  {
   "cell_type": "markdown",
   "id": "6c05bfaa",
   "metadata": {},
   "source": [
    "# Colony Counts"
   ]
  },
  {
   "cell_type": "code",
   "execution_count": null,
   "id": "877c0822",
   "metadata": {},
   "outputs": [],
   "source": [
    "colony_counts = pd.read_csv('../data/honeybee_colonies/colony_counts.csv')"
   ]
  },
  {
   "cell_type": "code",
   "execution_count": null,
   "id": "6e730d45",
   "metadata": {},
   "outputs": [],
   "source": [
    "colony_counts = colony_counts.drop(columns = ['Unnamed: 0'])"
   ]
  },
  {
   "cell_type": "code",
   "execution_count": null,
   "id": "f676f6f0",
   "metadata": {},
   "outputs": [],
   "source": [
    "colony_counts.shape"
   ]
  },
  {
   "cell_type": "code",
   "execution_count": null,
   "id": "464f9c00",
   "metadata": {
    "scrolled": false
   },
   "outputs": [],
   "source": [
    "# to fix issues with datatypes, need to change all non numerical values ( like (z) and -)\n",
    "colony_counts.dtypes"
   ]
  },
  {
   "cell_type": "code",
   "execution_count": null,
   "id": "c309034e",
   "metadata": {},
   "outputs": [],
   "source": [
    "colony_counts['lost_colonies'] = colony_counts['lost_colonies'].str.replace('-', '0')\n",
    "colony_counts['percent_lost'] = colony_counts['percent_lost'].str.replace('-', '0')\n",
    "colony_counts['added_colonies'] = colony_counts['added_colonies'].str.replace('-', '0')\n",
    "colony_counts['renovated'] = colony_counts['renovated'].str.replace('-', '0')\n",
    "colony_counts['percent_renovated'] = colony_counts['percent_renovated'].str.replace('-', '0')"
   ]
  },
  {
   "cell_type": "code",
   "execution_count": null,
   "id": "8bcbd16b",
   "metadata": {
    "scrolled": false
   },
   "outputs": [],
   "source": [
    "#because (z) and (x) are in parenthesis, need to individually replace each side of parenthesis, or it will only replace\n",
    "# what is inside ie z and x, while leaving the ()\n",
    "colony_counts['max_colonies'] = colony_counts['max_colonies'].str.replace('(', '')"
   ]
  },
  {
   "cell_type": "code",
   "execution_count": null,
   "id": "44bd5f26",
   "metadata": {},
   "outputs": [],
   "source": [
    "colony_counts['max_colonies'] = colony_counts['max_colonies'].str.replace(')', '')"
   ]
  },
  {
   "cell_type": "code",
   "execution_count": null,
   "id": "f7e0e677",
   "metadata": {},
   "outputs": [],
   "source": [
    "colony_counts['max_colonies'] = colony_counts['max_colonies'].str.replace('X', '0')"
   ]
  },
  {
   "cell_type": "code",
   "execution_count": null,
   "id": "cc28c6dd",
   "metadata": {},
   "outputs": [],
   "source": [
    "colony_counts['start_colonies'] = colony_counts['start_colonies'].str.replace('(', '')\n",
    "colony_counts['max_colonies'] = colony_counts['max_colonies'].str.replace('(', '')\n",
    "colony_counts['lost_colonies'] = colony_counts['lost_colonies'].str.replace('(', '')\n",
    "colony_counts['percent_lost'] = colony_counts['percent_lost'].str.replace('(', '')\n",
    "colony_counts['added_colonies'] = colony_counts['added_colonies'].str.replace('(', '')\n",
    "colony_counts['renovated'] = colony_counts['renovated'].str.replace('(', '')\n",
    "colony_counts['percent_renovated'] = colony_counts['percent_renovated'].str.replace('(', '')"
   ]
  },
  {
   "cell_type": "code",
   "execution_count": null,
   "id": "af607fe5",
   "metadata": {},
   "outputs": [],
   "source": [
    "colony_counts['start_colonies'] = colony_counts['start_colonies'].str.replace(')', '')\n",
    "colony_counts['max_colonies'] = colony_counts['max_colonies'].str.replace(')', '')\n",
    "colony_counts['lost_colonies'] = colony_counts['lost_colonies'].str.replace(')', '')\n",
    "colony_counts['percent_lost'] = colony_counts['percent_lost'].str.replace(')', '')\n",
    "colony_counts['added_colonies'] = colony_counts['added_colonies'].str.replace(')', '')\n",
    "colony_counts['renovated'] = colony_counts['renovated'].str.replace(')', '')\n",
    "colony_counts['percent_renovated'] = colony_counts['percent_renovated'].str.replace(')', '')"
   ]
  },
  {
   "cell_type": "code",
   "execution_count": null,
   "id": "c4e80e96",
   "metadata": {},
   "outputs": [],
   "source": [
    "colony_counts['start_colonies'] = colony_counts['start_colonies'].str.replace('Z', '0')\n",
    "colony_counts['max_colonies'] = colony_counts['max_colonies'].str.replace('Z', '0')\n",
    "colony_counts['lost_colonies'] = colony_counts['lost_colonies'].str.replace('Z', '0')\n",
    "colony_counts['percent_lost'] = colony_counts['percent_lost'].str.replace('Z', '0')\n",
    "colony_counts['added_colonies'] = colony_counts['added_colonies'].str.replace('Z', '0')\n",
    "colony_counts['renovated'] = colony_counts['renovated'].str.replace('Z', '0')\n",
    "colony_counts['percent_renovated'] = colony_counts['percent_renovated'].str.replace('Z', '0')"
   ]
  },
  {
   "cell_type": "code",
   "execution_count": null,
   "id": "d109ec16",
   "metadata": {},
   "outputs": [],
   "source": [
    "# need to remove commas from numbers to convert to int\n",
    "colony_counts['start_colonies'] = colony_counts['start_colonies'].str.replace(',', '')\n",
    "colony_counts['max_colonies'] = colony_counts['max_colonies'].str.replace(',', '')\n",
    "colony_counts['lost_colonies'] = colony_counts['lost_colonies'].str.replace(',', '')\n",
    "colony_counts['percent_lost'] = colony_counts['percent_lost'].str.replace(',', '')\n",
    "colony_counts['added_colonies'] = colony_counts['added_colonies'].str.replace(',', '')\n",
    "colony_counts['renovated'] = colony_counts['renovated'].str.replace(',', '')\n",
    "colony_counts['percent_renovated'] = colony_counts['percent_renovated'].str.replace(',', '')"
   ]
  },
  {
   "cell_type": "code",
   "execution_count": null,
   "id": "5946df3d",
   "metadata": {},
   "outputs": [],
   "source": [
    "colony_counts['start_colonies'] = pd.to_numeric(colony_counts['start_colonies'])"
   ]
  },
  {
   "cell_type": "code",
   "execution_count": null,
   "id": "15eca247",
   "metadata": {},
   "outputs": [],
   "source": [
    "colony_counts['max_colonies'] = pd.to_numeric(colony_counts['max_colonies'])"
   ]
  },
  {
   "cell_type": "code",
   "execution_count": null,
   "id": "16738a0c",
   "metadata": {},
   "outputs": [],
   "source": [
    "colony_counts['lost_colonies'] = pd.to_numeric(colony_counts['lost_colonies'])\n",
    "colony_counts['percent_lost'] = pd.to_numeric(colony_counts['percent_lost'])\n",
    "colony_counts['added_colonies'] = pd.to_numeric(colony_counts['added_colonies'])\n",
    "colony_counts['renovated'] = pd.to_numeric(colony_counts['renovated'])\n",
    "colony_counts['percent_renovated'] = pd.to_numeric(colony_counts['percent_renovated'])"
   ]
  },
  {
   "cell_type": "code",
   "execution_count": null,
   "id": "32d03902",
   "metadata": {
    "scrolled": true
   },
   "outputs": [],
   "source": [
    "colony_counts.head()"
   ]
  },
  {
   "cell_type": "code",
   "execution_count": null,
   "id": "369fac2a",
   "metadata": {},
   "outputs": [],
   "source": [
    "# csv for colony counts with cleaned numeric values (for use in tableau)\n",
    "# colony_counts.to_csv('../data/honeybee_colonies/colony_counts_clean.csv')"
   ]
  },
  {
   "cell_type": "code",
   "execution_count": null,
   "id": "0fab51ac",
   "metadata": {},
   "outputs": [],
   "source": [
    "us_colony_counts = colony_counts.loc[colony_counts['state'] == 'United States']"
   ]
  },
  {
   "cell_type": "code",
   "execution_count": null,
   "id": "9796d326",
   "metadata": {},
   "outputs": [],
   "source": [
    "us_colony_counts"
   ]
  },
  {
   "cell_type": "code",
   "execution_count": null,
   "id": "6d7a5f17",
   "metadata": {},
   "outputs": [],
   "source": [
    "# because 2019 and 2021 do not have full accounts of colonies for the year, I need to drop those from the list\n",
    "us_colony_counts = us_colony_counts.loc[~us_colony_counts['year'].isin([2019, 2021])]"
   ]
  },
  {
   "cell_type": "code",
   "execution_count": null,
   "id": "1add538b",
   "metadata": {},
   "outputs": [],
   "source": [
    "us_colony_counts.head()"
   ]
  },
  {
   "cell_type": "markdown",
   "id": "c34ca267",
   "metadata": {},
   "source": [
    "### for years observed 2015 - 2020 (excluding 2019) entire colonies tend to die off in colder months, and new colonies are formed with renovation( new queen and implanted workers) but the numbers are struggling to grow, though over all US colony count in the past 5 years has not dropped. \n",
    "\n",
    "### lets compare this to honey production values to get an idea of colony health (which can then be compared to stressor data!"
   ]
  },
  {
   "cell_type": "code",
   "execution_count": null,
   "id": "8625bb04",
   "metadata": {},
   "outputs": [],
   "source": [
    "#i put the two below facet grids together in tableau\n",
    "us_counts_grid = sns.FacetGrid(us_colony_counts, col = 'year')\n",
    "us_counts_grid.map(sns.barplot, 'period', 'start_colonies')"
   ]
  },
  {
   "cell_type": "code",
   "execution_count": null,
   "id": "c5e3cad7",
   "metadata": {},
   "outputs": [],
   "source": [
    "us_counts_grid = sns.FacetGrid(us_colony_counts, col = 'year')\n",
    "us_counts_grid.map(sns.barplot, 'period', 'lost_colonies')"
   ]
  },
  {
   "cell_type": "code",
   "execution_count": null,
   "id": "d0655a39",
   "metadata": {},
   "outputs": [],
   "source": [
    "# eventally find states with over all top number of colonies, first look at colony numbers by state and year\n",
    "states_colony_counts = colony_counts.loc[~colony_counts['state'].isin(['United States'])]"
   ]
  },
  {
   "cell_type": "code",
   "execution_count": null,
   "id": "1a8a6e5c",
   "metadata": {},
   "outputs": [],
   "source": [
    "states_colony_counts = states_colony_counts.loc[~states_colony_counts['year'].isin([2019, 2021])]"
   ]
  },
  {
   "cell_type": "code",
   "execution_count": null,
   "id": "47f9bdb3",
   "metadata": {},
   "outputs": [],
   "source": [
    "states_colony_counts.head()"
   ]
  },
  {
   "cell_type": "code",
   "execution_count": null,
   "id": "1a2dc4bd",
   "metadata": {},
   "outputs": [],
   "source": [
    "states_yearly = states_colony_counts.groupby(['state', 'year'])['start_colonies', 'lost_colonies', 'renovated'].agg('mean').reset_index()"
   ]
  },
  {
   "cell_type": "code",
   "execution_count": null,
   "id": "6651af24",
   "metadata": {
    "scrolled": false
   },
   "outputs": [],
   "source": [
    "states_yearly"
   ]
  },
  {
   "cell_type": "code",
   "execution_count": null,
   "id": "5dcddd53",
   "metadata": {},
   "outputs": [],
   "source": [
    "# csv for states yearly (for use in tableau)\n",
    "# states_yearly.to_csv('../data/honeybee_colonies/states_yearly.csv')"
   ]
  },
  {
   "cell_type": "markdown",
   "id": "ae4809c6",
   "metadata": {},
   "source": [
    "### Top 5 states with over all most colonies : How do these colonies compare to national trends? looked at graph comparison of top 3 states in tableau. US overall is on a slight downtrend in colony size, where as cali and florida are on an up trend of overall colonies. \n",
    "\n",
    " #### California\n",
    " #### North Dakota\n",
    " #### Florida\n",
    " #### Texas\n",
    " #### Georgia"
   ]
  },
  {
   "cell_type": "code",
   "execution_count": null,
   "id": "8bd9d463",
   "metadata": {
    "scrolled": true
   },
   "outputs": [],
   "source": [
    "# over all years, top 5 states with most colonies\n",
    "states_yearly.groupby('state')['start_colonies'].mean().sort_values(ascending = False).head()"
   ]
  },
  {
   "cell_type": "markdown",
   "id": "d0956dbc",
   "metadata": {},
   "source": [
    "### With over all view of colonies in past 5 years, what is their honey production like, and how does that compare to honey prices. After this, see if trends in stressors affect honey production"
   ]
  },
  {
   "cell_type": "markdown",
   "id": "1311cf75",
   "metadata": {},
   "source": [
    "# Honey production"
   ]
  },
  {
   "cell_type": "code",
   "execution_count": null,
   "id": "43e5533c",
   "metadata": {},
   "outputs": [],
   "source": [
    "honey_yield = pd.read_csv('../data/honey_nass/honey_yield.csv')"
   ]
  },
  {
   "cell_type": "code",
   "execution_count": null,
   "id": "978426d3",
   "metadata": {},
   "outputs": [],
   "source": [
    "honey_yield"
   ]
  },
  {
   "cell_type": "code",
   "execution_count": null,
   "id": "9a8b46d1",
   "metadata": {},
   "outputs": [],
   "source": [
    "honey_yield = honey_yield.drop(columns = ['Unnamed: 0'])"
   ]
  },
  {
   "cell_type": "code",
   "execution_count": null,
   "id": "5ea329ce",
   "metadata": {},
   "outputs": [],
   "source": [
    "honey_yield.shape"
   ]
  },
  {
   "cell_type": "code",
   "execution_count": null,
   "id": "93527abe",
   "metadata": {},
   "outputs": [],
   "source": [
    "honey_yield['state'] = honey_yield['state'].str.replace('United States 6 7', 'United States')"
   ]
  },
  {
   "cell_type": "code",
   "execution_count": null,
   "id": "1891cdcf",
   "metadata": {},
   "outputs": [],
   "source": [
    "honey_yield['state'] = honey_yield['state'].str.replace('Other States 5 6', 'Other States')"
   ]
  },
  {
   "cell_type": "code",
   "execution_count": null,
   "id": "aa7d22d4",
   "metadata": {},
   "outputs": [],
   "source": [
    "honey_yield.dtypes"
   ]
  },
  {
   "cell_type": "code",
   "execution_count": null,
   "id": "f5097847",
   "metadata": {},
   "outputs": [],
   "source": [
    "honey_yield.head()"
   ]
  },
  {
   "cell_type": "code",
   "execution_count": null,
   "id": "15d353b9",
   "metadata": {},
   "outputs": [],
   "source": [
    "honey_yield['honey_producing_colony_thousands'] = honey_yield['honey_producing_colony_thousands'].str.replace(',', '')\n",
    "honey_yield['production_1000_pounds'] = honey_yield['production_1000_pounds'].str.replace(',', '')\n",
    "honey_yield['stocks_dec_15_1000_pounds'] = honey_yield['stocks_dec_15_1000_pounds'].str.replace(',', '')\n",
    "honey_yield['value_1000_dollars'] = honey_yield['value_1000_dollars'].str.replace(',', '')"
   ]
  },
  {
   "cell_type": "code",
   "execution_count": null,
   "id": "4fa9e6da",
   "metadata": {},
   "outputs": [],
   "source": [
    "honey_yield['honey_producing_colony_thousands'] = pd.to_numeric(honey_yield['honey_producing_colony_thousands'])\n",
    "honey_yield['production_1000_pounds'] = pd.to_numeric(honey_yield['production_1000_pounds'])\n",
    "honey_yield['stocks_dec_15_1000_pounds'] = pd.to_numeric(honey_yield['stocks_dec_15_1000_pounds'])\n",
    "honey_yield['value_1000_dollars'] = pd.to_numeric(honey_yield['value_1000_dollars'])"
   ]
  },
  {
   "cell_type": "code",
   "execution_count": null,
   "id": "18a33712",
   "metadata": {},
   "outputs": [],
   "source": [
    "honey_yield.dtypes"
   ]
  },
  {
   "cell_type": "code",
   "execution_count": null,
   "id": "27cb51bd",
   "metadata": {},
   "outputs": [],
   "source": [
    "honey_yield['honey_producing_colony_thousands'] = honey_yield['honey_producing_colony_thousands'] * 1000\n",
    "honey_yield['production_1000_pounds'] = honey_yield['production_1000_pounds'] * 1000\n",
    "honey_yield['stocks_dec_15_1000_pounds'] = honey_yield['stocks_dec_15_1000_pounds'] * 1000\n",
    "honey_yield['value_1000_dollars'] = honey_yield['value_1000_dollars'] * 1000"
   ]
  },
  {
   "cell_type": "code",
   "execution_count": null,
   "id": "29358628",
   "metadata": {},
   "outputs": [],
   "source": [
    "honey_yield.head()"
   ]
  },
  {
   "cell_type": "code",
   "execution_count": null,
   "id": "637cc959",
   "metadata": {},
   "outputs": [],
   "source": [
    "honey_yield = honey_yield.rename(columns = {'honey_producing_colony_thousands': 'honey_producing_colonies', 'production_1000_pounds': 'production_pounds', 'stocks_dec_15_1000_pounds': 'stocks_dec_15_pounds', 'value_1000_dollars': 'value_dollars'})"
   ]
  },
  {
   "cell_type": "code",
   "execution_count": null,
   "id": "77bff341",
   "metadata": {},
   "outputs": [],
   "source": [
    "honey_yield"
   ]
  },
  {
   "cell_type": "code",
   "execution_count": null,
   "id": "559e3fab",
   "metadata": {},
   "outputs": [],
   "source": [
    "us_honey_yield = honey_yield.loc[honey_yield['state'] == 'United States']"
   ]
  },
  {
   "cell_type": "code",
   "execution_count": null,
   "id": "1159dcf7",
   "metadata": {},
   "outputs": [],
   "source": [
    "us_honey_yield"
   ]
  },
  {
   "cell_type": "code",
   "execution_count": null,
   "id": "6ecca569",
   "metadata": {},
   "outputs": [],
   "source": [
    "# change yticks from scientific notation at some point\n",
    "plt.figure(figsize = (10,6))\n",
    "ax = sns.lineplot(data = us_honey_yield, \n",
    "                  x = 'year', \n",
    "                  y = 'production_pounds',\n",
    "                  marker = 'o',\n",
    "                  markersize = 10,\n",
    "                  color = 'darkgoldenrod',\n",
    "                  linewidth = 3);\n",
    "\n",
    "plt.title('U.S. Honey Production By Year', fontsize = 16)\n",
    "plt.ylabel('Pounds of Honey', fontsize = 12)\n",
    "plt.ylim(50000000,200000000)\n",
    "plt.yticks([50000000, 100000000, 150000000, 200000000], ['$50M', '$100M', '$150M', '$200M'])\n",
    "ax.set(xlabel = None)\n",
    ";\n"
   ]
  },
  {
   "cell_type": "code",
   "execution_count": null,
   "id": "d8102bfb",
   "metadata": {},
   "outputs": [],
   "source": [
    "# supplemental \n",
    "plt.figure(figsize = (10,6))\n",
    "ax = sns.lineplot(data = us_honey_yield, \n",
    "                  x = 'year', \n",
    "                  y = 'value_dollars',\n",
    "                  marker = 'o',\n",
    "                  markersize = 10,\n",
    "                  color = 'blue',\n",
    "                  linewidth = 3);\n",
    "\n",
    "plt.title('U.S. Total Honey Production Value By Year', fontsize = 16)\n",
    "plt.ylabel('Value in Dollars', fontsize = 12)\n",
    "plt.ylim(100000000,400000000)\n",
    "plt.yticks([100000000, 150000000, 200000000, 250000000, 300000000, 350000000], ['$100M', '$150M', '$200M', '$250M', '$300M', '$350M'])\n",
    "ax.set(xlabel = None);"
   ]
  },
  {
   "cell_type": "code",
   "execution_count": null,
   "id": "8d2369a6",
   "metadata": {},
   "outputs": [],
   "source": [
    "plt.figure(figsize = (10,6))\n",
    "ax = sns.lineplot(data = us_honey_yield, \n",
    "                  x = 'year', \n",
    "                  y = 'avg_price_per_pound_dollars',\n",
    "                  marker = 'o',\n",
    "                  markersize = 10,\n",
    "                  color = 'darkgreen',\n",
    "                  linewidth = 3);\n",
    "\n",
    "plt.title('U.S. Honey Price per Pound', fontsize = 16)\n",
    "plt.ylabel('Value in Dollars', fontsize = 12)\n",
    "plt.ylim(1,3)\n",
    "plt.yticks([1, 1.5, 2, 2.5, 3], ['$1.00', '$1.50', '$2.00', '$2.50', '$3.00'])\n",
    "ax.set(xlabel = None);"
   ]
  },
  {
   "cell_type": "markdown",
   "id": "5d8417c7",
   "metadata": {},
   "source": [
    "### As shown by the above three graphs, despite steady colony numbers, honey production is declining, but the price of honey is increasing. Likely the lower yield is driving up the market"
   ]
  },
  {
   "cell_type": "code",
   "execution_count": null,
   "id": "fc5318c0",
   "metadata": {},
   "outputs": [],
   "source": [
    "# for curiosity, make dataframe of avg colonies per year by avg seasons for us_colony_counts and \n",
    "# merge with us_honey_yield to get idea of total colonies vs honey producing colonies\n",
    "us_colony_counts.shape"
   ]
  },
  {
   "cell_type": "code",
   "execution_count": null,
   "id": "a577f186",
   "metadata": {
    "scrolled": false
   },
   "outputs": [],
   "source": [
    "us_colony_counts.head()"
   ]
  },
  {
   "cell_type": "code",
   "execution_count": null,
   "id": "d9aa36c8",
   "metadata": {},
   "outputs": [],
   "source": [
    "us_colonies_yearly = us_colony_counts.groupby('year')['start_colonies'].mean().reset_index()"
   ]
  },
  {
   "cell_type": "code",
   "execution_count": null,
   "id": "41f0a5cd",
   "metadata": {},
   "outputs": [],
   "source": [
    "us_colonies_yearly.columns = ['year', 'avg_total_colonies']"
   ]
  },
  {
   "cell_type": "code",
   "execution_count": null,
   "id": "7cff477d",
   "metadata": {},
   "outputs": [],
   "source": [
    "us_colonies_yearly"
   ]
  },
  {
   "cell_type": "code",
   "execution_count": null,
   "id": "7e8bc197",
   "metadata": {},
   "outputs": [],
   "source": [
    "# total colonies and honey colonies\n",
    "us_totcol_honcol = pd.merge(us_colonies_yearly, us_honey_yield, on = 'year', how = 'left')"
   ]
  },
  {
   "cell_type": "code",
   "execution_count": null,
   "id": "3481a196",
   "metadata": {
    "scrolled": false
   },
   "outputs": [],
   "source": [
    "us_totcol_honcol"
   ]
  },
  {
   "cell_type": "code",
   "execution_count": null,
   "id": "f00676d4",
   "metadata": {},
   "outputs": [],
   "source": [
    "us_totcol_honcol_meltprep = us_totcol_honcol[['year', 'avg_total_colonies', 'honey_producing_colonies']]"
   ]
  },
  {
   "cell_type": "code",
   "execution_count": null,
   "id": "0297c2c5",
   "metadata": {},
   "outputs": [],
   "source": [
    "us_totcol_honcol_melt = us_totcol_honcol_meltprep.melt('year')"
   ]
  },
  {
   "cell_type": "code",
   "execution_count": null,
   "id": "f698403e",
   "metadata": {
    "scrolled": true
   },
   "outputs": [],
   "source": [
    "us_totcol_honcol_melt"
   ]
  },
  {
   "cell_type": "code",
   "execution_count": null,
   "id": "153ecc22",
   "metadata": {},
   "outputs": [],
   "source": [
    "us_totcol_honcol_melt.columns = ['year', 'colonies', 'colony_counts']"
   ]
  },
  {
   "cell_type": "code",
   "execution_count": null,
   "id": "b70aa93f",
   "metadata": {},
   "outputs": [],
   "source": [
    "# notice in 2018 there are more honey producing than total, probably due to \n",
    "# having to avg yearly colonies, basically just want to show that most honey bees kept\n",
    "# by farms are for honey or honey and pollination services, and even with lower yields, most\n",
    "# colonies can sucessfully produce some honey\n",
    "plt.figure(figsize = (10,6))\n",
    "ax = sns.barplot(data = us_totcol_honcol_melt, \n",
    "            x = 'year',\n",
    "            y = 'colony_counts',\n",
    "            hue = 'colonies',\n",
    "            palette = ['black', 'gold']);\n",
    "\n",
    "plt.title('Total Colonies vs Honey Producing Colonies', fontsize = 16)\n",
    "plt.legend(bbox_to_anchor = (1,1))\n",
    "plt.ylabel('Colonies', fontsize = 12)\n",
    "plt.ylim(0, 3000000)\n",
    "plt.yticks([0, 1000000, 2000000, 3000000, 4000000], ['0', '1M', '2M', '3M', '4M'])\n",
    "ax.set(xlabel = None);"
   ]
  },
  {
   "cell_type": "markdown",
   "id": "94f5d835",
   "metadata": {},
   "source": [
    "# Stressors (dont forget lil collapse disorder table too, and the lil expenditures table)"
   ]
  },
  {
   "cell_type": "markdown",
   "id": "57af4d1c",
   "metadata": {},
   "source": [
    "### Clean up stressors, collapse disorder, and expenditures tables"
   ]
  },
  {
   "cell_type": "code",
   "execution_count": null,
   "id": "f9c99ca0",
   "metadata": {},
   "outputs": [],
   "source": [
    "stressors = pd.read_csv('../data/honeybee_colonies/stressors.csv')"
   ]
  },
  {
   "cell_type": "code",
   "execution_count": null,
   "id": "25a5171a",
   "metadata": {},
   "outputs": [],
   "source": [
    "stressors.shape"
   ]
  },
  {
   "cell_type": "code",
   "execution_count": null,
   "id": "c1e8cabf",
   "metadata": {},
   "outputs": [],
   "source": [
    "stressors.head()"
   ]
  },
  {
   "cell_type": "code",
   "execution_count": null,
   "id": "814b3c7d",
   "metadata": {},
   "outputs": [],
   "source": [
    "collapse_disorder = pd.read_csv('../data/honeybee_colonies/collapse_disorder.csv')"
   ]
  },
  {
   "cell_type": "code",
   "execution_count": null,
   "id": "d982c4b8",
   "metadata": {},
   "outputs": [],
   "source": [
    "# may need a melt later to compare with other stressors\n",
    "# also note that the values indicate count of colonies lost over all in US\n",
    "collapse_disorder"
   ]
  },
  {
   "cell_type": "code",
   "execution_count": null,
   "id": "0c473874",
   "metadata": {},
   "outputs": [],
   "source": [
    "collapse_disorder = collapse_disorder.drop(columns = ('Unnamed: 0'))"
   ]
  },
  {
   "cell_type": "code",
   "execution_count": null,
   "id": "0fcffc66",
   "metadata": {
    "scrolled": true
   },
   "outputs": [],
   "source": [
    "collapse_disorder.dtypes"
   ]
  },
  {
   "cell_type": "code",
   "execution_count": null,
   "id": "5e5c42dc",
   "metadata": {},
   "outputs": [],
   "source": [
    "collapse_disorder['jul-sep'] = collapse_disorder['jul-sep'].str.replace(',', '')\n",
    "collapse_disorder['jan-mar'] = collapse_disorder['jan-mar'].str.replace(',', '')\n",
    "collapse_disorder['apr-jun'] = collapse_disorder['apr-jun'].str.replace(',', '')\n",
    "collapse_disorder['oct-dec'] = collapse_disorder['oct-dec'].str.replace(',', '')"
   ]
  },
  {
   "cell_type": "code",
   "execution_count": null,
   "id": "2c1d20bd",
   "metadata": {},
   "outputs": [],
   "source": [
    "collapse_disorder = collapse_disorder.loc[~collapse_disorder['year'].isin([2019, 2021])]"
   ]
  },
  {
   "cell_type": "code",
   "execution_count": null,
   "id": "f6fa751e",
   "metadata": {
    "scrolled": true
   },
   "outputs": [],
   "source": [
    "collapse_disorder['jan-mar'] = pd.to_numeric(collapse_disorder['jan-mar'])\n",
    "collapse_disorder['apr-jun'] = pd.to_numeric(collapse_disorder['apr-jun'])\n",
    "collapse_disorder['jul-sep'] = pd.to_numeric(collapse_disorder['jul-sep'])\n",
    "collapse_disorder['oct-dec'] = pd.to_numeric(collapse_disorder['oct-dec'])"
   ]
  },
  {
   "cell_type": "code",
   "execution_count": null,
   "id": "36351e3c",
   "metadata": {
    "scrolled": true
   },
   "outputs": [],
   "source": [
    "collapse_disorder.dtypes"
   ]
  },
  {
   "cell_type": "code",
   "execution_count": null,
   "id": "9c2471e7",
   "metadata": {},
   "outputs": [],
   "source": [
    "collapse_disorder"
   ]
  },
  {
   "cell_type": "code",
   "execution_count": null,
   "id": "1ad3ce3c",
   "metadata": {},
   "outputs": [],
   "source": [
    "income_expend = pd.read_csv('../data/honey_nass/income_expend.csv')"
   ]
  },
  {
   "cell_type": "code",
   "execution_count": null,
   "id": "84ff917b",
   "metadata": {},
   "outputs": [],
   "source": [
    "income_expend"
   ]
  },
  {
   "cell_type": "code",
   "execution_count": null,
   "id": "699710be",
   "metadata": {},
   "outputs": [],
   "source": [
    "income_expend = income_expend.drop(columns = ('Unnamed: 0'))"
   ]
  },
  {
   "cell_type": "code",
   "execution_count": null,
   "id": "26d9298f",
   "metadata": {},
   "outputs": [],
   "source": [
    "income_expend.dtypes"
   ]
  },
  {
   "cell_type": "code",
   "execution_count": null,
   "id": "7b3ddc1a",
   "metadata": {},
   "outputs": [],
   "source": [
    "income_expend['poll_income_1000_dollars'] = income_expend['poll_income_1000_dollars'] * 1000\n",
    "income_expend['other_income_1000_dollars'] = income_expend['other_income_1000_dollars'] * 1000\n",
    "income_expend['honey_production_value_1000_dollars'] = income_expend['honey_production_value_1000_dollars'] * 1000\n",
    "income_expend['varroa_control_1000_dollars'] = income_expend['varroa_control_1000_dollars'] * 1000\n",
    "income_expend['other_issues_control_1000_dollars'] = income_expend['other_issues_control_1000_dollars'] * 1000\n",
    "income_expend['feed_1000_dollars'] = income_expend['feed_1000_dollars'] * 1000\n",
    "income_expend['foundation_1000_dollars'] = income_expend['foundation_1000_dollars'] * 1000\n",
    "income_expend['hives_woodenware_1000_dollars'] = income_expend['hives_woodenware_1000_dollars'] * 1000"
   ]
  },
  {
   "cell_type": "markdown",
   "id": "810bfc76",
   "metadata": {},
   "source": [
    "## interesting to note that beekeepers make about as much from honey production as they do for pollination services, and make another large % of profit from other sources such as selling queens, queen cells, beeswax and propolis (resin made by bees used for hippie medicine stuff)"
   ]
  },
  {
   "cell_type": "code",
   "execution_count": null,
   "id": "8ca9f871",
   "metadata": {
    "scrolled": true
   },
   "outputs": [],
   "source": [
    "income_expend"
   ]
  },
  {
   "cell_type": "code",
   "execution_count": null,
   "id": "cab4b5f1",
   "metadata": {},
   "outputs": [],
   "source": [
    "income_expend = income_expend.rename(columns = {'poll_income_1000_dollars': 'poll_income_dollars',\n",
    "                                                'other_income_1000_dollars': 'other_income_dollars',\n",
    "                                                'honey_production_value_1000_dollars': 'honey_production_value_dollars',\n",
    "                                                'varroa_control_1000_dollars': 'varroa_control_dollars',\n",
    "                                                'other_issues_control_1000_dollars': 'other_issues_control_dollars',\n",
    "                                                'feed_1000_dollars': 'feed_dollars',\n",
    "                                                'foundation_1000_dollars': 'foundation_dollars',\n",
    "                                                'hives_woodenware_1000_dollars': 'hives_woodenware_dollars'})"
   ]
  },
  {
   "cell_type": "code",
   "execution_count": null,
   "id": "abf47990",
   "metadata": {},
   "outputs": [],
   "source": [
    "income_expend"
   ]
  },
  {
   "cell_type": "markdown",
   "id": "12c99f06",
   "metadata": {},
   "source": [
    "## clean stressors table and make comparisons of stressors by area/year/period and how it compares to colony loss or honey production\n",
    "\n",
    "## also can make comparison in above income_expend table of poll income vs honey income, and changes in cost of dealing with pests over the years \n",
    "\n",
    "## after looking at stressors can look at how collapse disorder trends aligns with other stressors on coloines"
   ]
  },
  {
   "cell_type": "code",
   "execution_count": null,
   "id": "07e81a2a",
   "metadata": {},
   "outputs": [],
   "source": []
  }
 ],
 "metadata": {
  "kernelspec": {
   "display_name": "Python 3 (ipykernel)",
   "language": "python",
   "name": "python3"
  },
  "language_info": {
   "codemirror_mode": {
    "name": "ipython",
    "version": 3
   },
   "file_extension": ".py",
   "mimetype": "text/x-python",
   "name": "python",
   "nbconvert_exporter": "python",
   "pygments_lexer": "ipython3",
   "version": "3.9.7"
  }
 },
 "nbformat": 4,
 "nbformat_minor": 5
}
