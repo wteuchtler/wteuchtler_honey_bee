{
 "cells": [
  {
   "cell_type": "markdown",
   "id": "cd45b4c1",
   "metadata": {},
   "source": [
    "- determine severity of bee loss with colony loss numbers over the years (or by period, noting that 2019 has missing data for one period)\n",
    "- look at top 10 honey producing or agriculturally significant states to see if any of these states do not compare with the same colony loss trends as over all US \n",
    "- compare colony growth/loss findings with national honey report on weight/value of honey production overall and state by state\n",
    "- determine if honey production is affected by colony growth/loss \n"
   ]
  },
  {
   "cell_type": "markdown",
   "id": "16c59e71",
   "metadata": {},
   "source": [
    "notes: for over all numbers on years will need to skip 2019 and not inlcude 2021 due to missing periods\n",
    "\n",
    "to fix issue of (x) in US max colonies column which prevents changing the dtype to numeric, i will sub in 0 for that value which is obviously not correct and will sub as na \n",
    "\n",
    "for the issue of (z) meaning less than half a unit, i will change to zero"
   ]
  },
  {
   "cell_type": "code",
   "execution_count": null,
   "id": "84cfac52",
   "metadata": {},
   "outputs": [],
   "source": [
    "import pandas as pd\n",
    "import matplotlib.pyplot as plt\n",
    "import seaborn as sns"
   ]
  },
  {
   "cell_type": "markdown",
   "id": "6c05bfaa",
   "metadata": {},
   "source": [
    "# Colony Counts"
   ]
  },
  {
   "cell_type": "code",
   "execution_count": null,
   "id": "877c0822",
   "metadata": {},
   "outputs": [],
   "source": [
    "colony_counts = pd.read_csv('../data/honeybee_colonies/colony_counts.csv')"
   ]
  },
  {
   "cell_type": "code",
   "execution_count": null,
   "id": "6e730d45",
   "metadata": {},
   "outputs": [],
   "source": [
    "colony_counts = colony_counts.drop(columns = ['Unnamed: 0'])"
   ]
  },
  {
   "cell_type": "code",
   "execution_count": null,
   "id": "f676f6f0",
   "metadata": {},
   "outputs": [],
   "source": [
    "colony_counts.shape"
   ]
  },
  {
   "cell_type": "code",
   "execution_count": null,
   "id": "464f9c00",
   "metadata": {
    "scrolled": false
   },
   "outputs": [],
   "source": [
    "# to fix issues with datatypes, need to change all non numerical values ( like (z) and -)\n",
    "colony_counts.dtypes"
   ]
  },
  {
   "cell_type": "code",
   "execution_count": null,
   "id": "c309034e",
   "metadata": {},
   "outputs": [],
   "source": [
    "colony_counts['lost_colonies'] = colony_counts['lost_colonies'].str.replace('-', '0')\n",
    "colony_counts['percent_lost'] = colony_counts['percent_lost'].str.replace('-', '0')\n",
    "colony_counts['added_colonies'] = colony_counts['added_colonies'].str.replace('-', '0')\n",
    "colony_counts['renovated'] = colony_counts['renovated'].str.replace('-', '0')\n",
    "colony_counts['percent_renovated'] = colony_counts['percent_renovated'].str.replace('-', '0')"
   ]
  },
  {
   "cell_type": "code",
   "execution_count": null,
   "id": "8bcbd16b",
   "metadata": {
    "scrolled": false
   },
   "outputs": [],
   "source": [
    "#because (z) and (x) are in parenthesis, need to individually replace each side of parenthesis, or it will only replace\n",
    "# what is inside ie z and x, while leaving the ()\n",
    "colony_counts['max_colonies'] = colony_counts['max_colonies'].str.replace('(', '')"
   ]
  },
  {
   "cell_type": "code",
   "execution_count": null,
   "id": "44bd5f26",
   "metadata": {},
   "outputs": [],
   "source": [
    "colony_counts['max_colonies'] = colony_counts['max_colonies'].str.replace(')', '')"
   ]
  },
  {
   "cell_type": "code",
   "execution_count": null,
   "id": "f7e0e677",
   "metadata": {},
   "outputs": [],
   "source": [
    "colony_counts['max_colonies'] = colony_counts['max_colonies'].str.replace('X', '0')"
   ]
  },
  {
   "cell_type": "code",
   "execution_count": null,
   "id": "cc28c6dd",
   "metadata": {},
   "outputs": [],
   "source": [
    "colony_counts['start_colonies'] = colony_counts['start_colonies'].str.replace('(', '')\n",
    "colony_counts['max_colonies'] = colony_counts['max_colonies'].str.replace('(', '')\n",
    "colony_counts['lost_colonies'] = colony_counts['lost_colonies'].str.replace('(', '')\n",
    "colony_counts['percent_lost'] = colony_counts['percent_lost'].str.replace('(', '')\n",
    "colony_counts['added_colonies'] = colony_counts['added_colonies'].str.replace('(', '')\n",
    "colony_counts['renovated'] = colony_counts['renovated'].str.replace('(', '')\n",
    "colony_counts['percent_renovated'] = colony_counts['percent_renovated'].str.replace('(', '')"
   ]
  },
  {
   "cell_type": "code",
   "execution_count": null,
   "id": "af607fe5",
   "metadata": {},
   "outputs": [],
   "source": [
    "colony_counts['start_colonies'] = colony_counts['start_colonies'].str.replace(')', '')\n",
    "colony_counts['max_colonies'] = colony_counts['max_colonies'].str.replace(')', '')\n",
    "colony_counts['lost_colonies'] = colony_counts['lost_colonies'].str.replace(')', '')\n",
    "colony_counts['percent_lost'] = colony_counts['percent_lost'].str.replace(')', '')\n",
    "colony_counts['added_colonies'] = colony_counts['added_colonies'].str.replace(')', '')\n",
    "colony_counts['renovated'] = colony_counts['renovated'].str.replace(')', '')\n",
    "colony_counts['percent_renovated'] = colony_counts['percent_renovated'].str.replace(')', '')"
   ]
  },
  {
   "cell_type": "code",
   "execution_count": null,
   "id": "c4e80e96",
   "metadata": {},
   "outputs": [],
   "source": [
    "colony_counts['start_colonies'] = colony_counts['start_colonies'].str.replace('Z', '0')\n",
    "colony_counts['max_colonies'] = colony_counts['max_colonies'].str.replace('Z', '0')\n",
    "colony_counts['lost_colonies'] = colony_counts['lost_colonies'].str.replace('Z', '0')\n",
    "colony_counts['percent_lost'] = colony_counts['percent_lost'].str.replace('Z', '0')\n",
    "colony_counts['added_colonies'] = colony_counts['added_colonies'].str.replace('Z', '0')\n",
    "colony_counts['renovated'] = colony_counts['renovated'].str.replace('Z', '0')\n",
    "colony_counts['percent_renovated'] = colony_counts['percent_renovated'].str.replace('Z', '0')"
   ]
  },
  {
   "cell_type": "code",
   "execution_count": null,
   "id": "d109ec16",
   "metadata": {},
   "outputs": [],
   "source": [
    "# need to remove commas from numbers to convert to int\n",
    "colony_counts['start_colonies'] = colony_counts['start_colonies'].str.replace(',', '')\n",
    "colony_counts['max_colonies'] = colony_counts['max_colonies'].str.replace(',', '')\n",
    "colony_counts['lost_colonies'] = colony_counts['lost_colonies'].str.replace(',', '')\n",
    "colony_counts['percent_lost'] = colony_counts['percent_lost'].str.replace(',', '')\n",
    "colony_counts['added_colonies'] = colony_counts['added_colonies'].str.replace(',', '')\n",
    "colony_counts['renovated'] = colony_counts['renovated'].str.replace(',', '')\n",
    "colony_counts['percent_renovated'] = colony_counts['percent_renovated'].str.replace(',', '')"
   ]
  },
  {
   "cell_type": "code",
   "execution_count": null,
   "id": "5946df3d",
   "metadata": {},
   "outputs": [],
   "source": [
    "colony_counts['start_colonies'] = pd.to_numeric(colony_counts['start_colonies'])"
   ]
  },
  {
   "cell_type": "code",
   "execution_count": null,
   "id": "15eca247",
   "metadata": {},
   "outputs": [],
   "source": [
    "colony_counts['max_colonies'] = pd.to_numeric(colony_counts['max_colonies'])"
   ]
  },
  {
   "cell_type": "code",
   "execution_count": null,
   "id": "16738a0c",
   "metadata": {},
   "outputs": [],
   "source": [
    "colony_counts['lost_colonies'] = pd.to_numeric(colony_counts['lost_colonies'])\n",
    "colony_counts['percent_lost'] = pd.to_numeric(colony_counts['percent_lost'])\n",
    "colony_counts['added_colonies'] = pd.to_numeric(colony_counts['added_colonies'])\n",
    "colony_counts['renovated'] = pd.to_numeric(colony_counts['renovated'])\n",
    "colony_counts['percent_renovated'] = pd.to_numeric(colony_counts['percent_renovated'])"
   ]
  },
  {
   "cell_type": "code",
   "execution_count": null,
   "id": "32d03902",
   "metadata": {
    "scrolled": true
   },
   "outputs": [],
   "source": [
    "colony_counts.head()"
   ]
  },
  {
   "cell_type": "code",
   "execution_count": null,
   "id": "369fac2a",
   "metadata": {},
   "outputs": [],
   "source": [
    "# csv for colony counts with cleaned numeric values (for use in tableau)\n",
    "# colony_counts.to_csv('../data/honeybee_colonies/colony_counts_clean.csv')"
   ]
  },
  {
   "cell_type": "code",
   "execution_count": null,
   "id": "0fab51ac",
   "metadata": {},
   "outputs": [],
   "source": [
    "us_colony_counts = colony_counts.loc[colony_counts['state'] == 'United States']"
   ]
  },
  {
   "cell_type": "code",
   "execution_count": null,
   "id": "9796d326",
   "metadata": {},
   "outputs": [],
   "source": [
    "us_colony_counts"
   ]
  },
  {
   "cell_type": "code",
   "execution_count": null,
   "id": "6d7a5f17",
   "metadata": {},
   "outputs": [],
   "source": [
    "# because 2019 and 2021 do not have full accounts of colonies for the year, I need to drop those from the list\n",
    "us_colony_counts = us_colony_counts.loc[~us_colony_counts['year'].isin([2019, 2021])]"
   ]
  },
  {
   "cell_type": "code",
   "execution_count": null,
   "id": "1add538b",
   "metadata": {},
   "outputs": [],
   "source": [
    "us_colony_counts.head()"
   ]
  },
  {
   "cell_type": "markdown",
   "id": "c34ca267",
   "metadata": {},
   "source": [
    "### for years observed 2015 - 2020 (excluding 2019) entire colonies tend to die off in colder months, and new colonies are formed with renovation( new queen and implanted workers) but the numbers are struggling to grow, though over all US colony count in the past 5 years has not dropped. \n",
    "\n",
    "### lets compare this to honey production values to get an idea of colony health (which can then be compared to stressor data!"
   ]
  },
  {
   "cell_type": "code",
   "execution_count": null,
   "id": "8625bb04",
   "metadata": {},
   "outputs": [],
   "source": [
    "#i put the two below facet grids together in tableau\n",
    "us_counts_grid = sns.FacetGrid(us_colony_counts, col = 'year')\n",
    "us_counts_grid.map(sns.barplot, 'period', 'start_colonies')"
   ]
  },
  {
   "cell_type": "code",
   "execution_count": null,
   "id": "c5e3cad7",
   "metadata": {},
   "outputs": [],
   "source": [
    "us_counts_grid = sns.FacetGrid(us_colony_counts, col = 'year')\n",
    "us_counts_grid.map(sns.barplot, 'period', 'lost_colonies')"
   ]
  },
  {
   "cell_type": "code",
   "execution_count": null,
   "id": "d0655a39",
   "metadata": {},
   "outputs": [],
   "source": [
    "# eventally find states with over all top number of colonies, first look at colony numbers by state and year\n",
    "states_colony_counts = colony_counts.loc[~colony_counts['state'].isin(['United States'])]"
   ]
  },
  {
   "cell_type": "code",
   "execution_count": null,
   "id": "1a8a6e5c",
   "metadata": {},
   "outputs": [],
   "source": [
    "states_colony_counts = states_colony_counts.loc[~states_colony_counts['year'].isin([2019, 2021])]"
   ]
  },
  {
   "cell_type": "code",
   "execution_count": null,
   "id": "47f9bdb3",
   "metadata": {},
   "outputs": [],
   "source": [
    "states_colony_counts.head()"
   ]
  },
  {
   "cell_type": "code",
   "execution_count": null,
   "id": "1a2dc4bd",
   "metadata": {},
   "outputs": [],
   "source": [
    "states_yearly = states_colony_counts.groupby(['state', 'year'])['start_colonies', 'lost_colonies', 'renovated'].agg('mean').reset_index()"
   ]
  },
  {
   "cell_type": "code",
   "execution_count": null,
   "id": "6651af24",
   "metadata": {
    "scrolled": false
   },
   "outputs": [],
   "source": [
    "states_yearly"
   ]
  },
  {
   "cell_type": "code",
   "execution_count": null,
   "id": "5dcddd53",
   "metadata": {},
   "outputs": [],
   "source": [
    "# csv for states yearly (for use in tableau)\n",
    "# states_yearly.to_csv('../data/honeybee_colonies/states_yearly.csv')"
   ]
  },
  {
   "cell_type": "markdown",
   "id": "ae4809c6",
   "metadata": {},
   "source": [
    "### Top 5 states with over all most colonies : How do these colonies compare to national trends? looked at graph comparison of top 3 states in tableau. US overall is on a slight downtrend in colony size, where as cali and florida are on an up trend of overall colonies. \n",
    "\n",
    " #### California\n",
    " #### North Dakota\n",
    " #### Florida\n",
    " #### Texas\n",
    " #### Georgia"
   ]
  },
  {
   "cell_type": "code",
   "execution_count": null,
   "id": "8bd9d463",
   "metadata": {},
   "outputs": [],
   "source": [
    "# over all years, top 5 states with most colonies\n",
    "states_yearly.groupby('state')['start_colonies'].mean().sort_values(ascending = False).head()"
   ]
  },
  {
   "cell_type": "markdown",
   "id": "d0956dbc",
   "metadata": {},
   "source": [
    "### With over all view of colonies in past 5 years, what is their honey production like, and how does that compare to honey prices. After this, see if trends in stressors affect honey production"
   ]
  },
  {
   "cell_type": "markdown",
   "id": "1311cf75",
   "metadata": {},
   "source": [
    "# Honey production"
   ]
  },
  {
   "cell_type": "code",
   "execution_count": null,
   "id": "43e5533c",
   "metadata": {},
   "outputs": [],
   "source": [
    "honey_yield = pd.read_csv('../data/honey_nass/honey_yield.csv')"
   ]
  },
  {
   "cell_type": "code",
   "execution_count": null,
   "id": "978426d3",
   "metadata": {},
   "outputs": [],
   "source": [
    "honey_yield"
   ]
  },
  {
   "cell_type": "code",
   "execution_count": null,
   "id": "9a8b46d1",
   "metadata": {},
   "outputs": [],
   "source": [
    "honey_yield = honey_yield.drop(columns = ['Unnamed: 0'])"
   ]
  },
  {
   "cell_type": "code",
   "execution_count": null,
   "id": "5ea329ce",
   "metadata": {},
   "outputs": [],
   "source": [
    "honey_yield.shape"
   ]
  },
  {
   "cell_type": "code",
   "execution_count": null,
   "id": "93527abe",
   "metadata": {},
   "outputs": [],
   "source": [
    "honey_yield['state'] = honey_yield['state'].str.replace('United States 6 7', 'United States')"
   ]
  },
  {
   "cell_type": "code",
   "execution_count": null,
   "id": "1891cdcf",
   "metadata": {},
   "outputs": [],
   "source": [
    "honey_yield['state'] = honey_yield['state'].str.replace('Other States 5 6', 'Other States')"
   ]
  },
  {
   "cell_type": "code",
   "execution_count": null,
   "id": "aa7d22d4",
   "metadata": {},
   "outputs": [],
   "source": [
    "honey_yield.dtypes"
   ]
  },
  {
   "cell_type": "code",
   "execution_count": null,
   "id": "f5097847",
   "metadata": {},
   "outputs": [],
   "source": [
    "honey_yield.head()"
   ]
  },
  {
   "cell_type": "code",
   "execution_count": null,
   "id": "15d353b9",
   "metadata": {},
   "outputs": [],
   "source": [
    "honey_yield['honey_producing_colony_thousands'] = honey_yield['honey_producing_colony_thousands'].str.replace(',', '')\n",
    "honey_yield['production_1000_pounds'] = honey_yield['production_1000_pounds'].str.replace(',', '')\n",
    "honey_yield['stocks_dec_15_1000_pounds'] = honey_yield['stocks_dec_15_1000_pounds'].str.replace(',', '')\n",
    "honey_yield['value_1000_dollars'] = honey_yield['value_1000_dollars'].str.replace(',', '')"
   ]
  },
  {
   "cell_type": "code",
   "execution_count": null,
   "id": "4fa9e6da",
   "metadata": {},
   "outputs": [],
   "source": [
    "honey_yield['honey_producing_colony_thousands'] = pd.to_numeric(honey_yield['honey_producing_colony_thousands'])\n",
    "honey_yield['production_1000_pounds'] = pd.to_numeric(honey_yield['production_1000_pounds'])\n",
    "honey_yield['stocks_dec_15_1000_pounds'] = pd.to_numeric(honey_yield['stocks_dec_15_1000_pounds'])\n",
    "honey_yield['value_1000_dollars'] = pd.to_numeric(honey_yield['value_1000_dollars'])"
   ]
  },
  {
   "cell_type": "code",
   "execution_count": null,
   "id": "18a33712",
   "metadata": {},
   "outputs": [],
   "source": [
    "honey_yield.dtypes"
   ]
  },
  {
   "cell_type": "code",
   "execution_count": null,
   "id": "27cb51bd",
   "metadata": {},
   "outputs": [],
   "source": [
    "honey_yield['honey_producing_colony_thousands'] = honey_yield['honey_producing_colony_thousands'] * 1000\n",
    "honey_yield['production_1000_pounds'] = honey_yield['production_1000_pounds'] * 1000\n",
    "honey_yield['stocks_dec_15_1000_pounds'] = honey_yield['stocks_dec_15_1000_pounds'] * 1000\n",
    "honey_yield['value_1000_dollars'] = honey_yield['value_1000_dollars'] * 1000"
   ]
  },
  {
   "cell_type": "code",
   "execution_count": null,
   "id": "29358628",
   "metadata": {},
   "outputs": [],
   "source": [
    "honey_yield.head()"
   ]
  },
  {
   "cell_type": "code",
   "execution_count": null,
   "id": "637cc959",
   "metadata": {},
   "outputs": [],
   "source": [
    "honey_yield = honey_yield.rename(columns = {'honey_producing_colony_thousands': 'honey_producing_colonies', 'production_1000_pounds': 'production_pounds', 'stocks_dec_15_1000_pounds': 'stocks_dec_15_pounds', 'value_1000_dollars': 'value_dollars'})"
   ]
  },
  {
   "cell_type": "code",
   "execution_count": null,
   "id": "77bff341",
   "metadata": {},
   "outputs": [],
   "source": [
    "honey_yield"
   ]
  },
  {
   "cell_type": "code",
   "execution_count": null,
   "id": "559e3fab",
   "metadata": {},
   "outputs": [],
   "source": [
    "us_honey_yield = honey_yield.loc[honey_yield['state'] == 'United States']"
   ]
  },
  {
   "cell_type": "code",
   "execution_count": null,
   "id": "1159dcf7",
   "metadata": {},
   "outputs": [],
   "source": [
    "us_honey_yield"
   ]
  },
  {
   "cell_type": "code",
   "execution_count": null,
   "id": "6ecca569",
   "metadata": {},
   "outputs": [],
   "source": [
    "# change yticks from scientific notation at some point\n",
    "plt.figure(figsize = (10,6))\n",
    "ax = sns.lineplot(data = us_honey_yield, \n",
    "                  x = 'year', \n",
    "                  y = 'production_pounds',\n",
    "                  marker = 'o',\n",
    "                  markersize = 5,\n",
    "                  color = 'darkgoldenrod');\n",
    "\n",
    "plt.title('U.S. Honey Production By Year', fontsize = 16)\n",
    "plt.ylabel('Pounds of Honey', fontsize = 12)\n",
    "ax.set(xlabel = None);\n"
   ]
  },
  {
   "cell_type": "code",
   "execution_count": null,
   "id": "d8102bfb",
   "metadata": {},
   "outputs": [],
   "source": [
    "plt.figure(figsize = (10,6))\n",
    "ax = sns.lineplot(data = us_honey_yield, \n",
    "                  x = 'year', \n",
    "                  y = 'value_dollars',\n",
    "                  marker = 'o',\n",
    "                  markersize = 5,\n",
    "                  color = 'darkgreen');\n",
    "\n",
    "plt.title('U.S. Total Honey Production Value By Year', fontsize = 16)\n",
    "plt.ylabel('Value in Dollars', fontsize = 12)\n",
    "ax.set(xlabel = None);"
   ]
  },
  {
   "cell_type": "code",
   "execution_count": null,
   "id": "8d2369a6",
   "metadata": {},
   "outputs": [],
   "source": [
    "plt.figure(figsize = (10,6))\n",
    "ax = sns.lineplot(data = us_honey_yield, \n",
    "                  x = 'year', \n",
    "                  y = 'avg_price_per_pound_dollars',\n",
    "                  marker = 'o',\n",
    "                  markersize = 5,\n",
    "                  color = 'slategrey');\n",
    "\n",
    "plt.title('U.S. Honey Price per Pound', fontsize = 16)\n",
    "plt.ylabel('Value in Dollars', fontsize = 12)\n",
    "ax.set(xlabel = None);"
   ]
  },
  {
   "cell_type": "markdown",
   "id": "5d8417c7",
   "metadata": {},
   "source": [
    "### As shown by the above three graphs, despite steady colony numbers, honey production is declining, but the price of honey is increasing. Likely the lower yield is driving up the market"
   ]
  },
  {
   "cell_type": "markdown",
   "id": "57af4d1c",
   "metadata": {},
   "source": [
    "### Next steps: see how stressors have changed over the years!"
   ]
  },
  {
   "cell_type": "code",
   "execution_count": null,
   "id": "0325e9c7",
   "metadata": {},
   "outputs": [],
   "source": []
  }
 ],
 "metadata": {
  "kernelspec": {
   "display_name": "Python 3 (ipykernel)",
   "language": "python",
   "name": "python3"
  },
  "language_info": {
   "codemirror_mode": {
    "name": "ipython",
    "version": 3
   },
   "file_extension": ".py",
   "mimetype": "text/x-python",
   "name": "python",
   "nbconvert_exporter": "python",
   "pygments_lexer": "ipython3",
   "version": "3.9.7"
  }
 },
 "nbformat": 4,
 "nbformat_minor": 5
}
