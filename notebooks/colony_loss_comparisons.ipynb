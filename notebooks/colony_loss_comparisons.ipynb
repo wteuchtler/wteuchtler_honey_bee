{
 "cells": [
  {
   "cell_type": "markdown",
   "id": "cd45b4c1",
   "metadata": {},
   "source": [
    "- determine severity of bee loss with colony loss numbers over the years (or by period, noting that 2019 has missing data for one period)\n",
    "- look at top 10 honey producing or agriculturally significant states to see if any of these states do not compare with the same colony loss trends as over all US \n",
    "- compare colony growth/loss findings with national honey report on weight/value of honey production overall and state by state\n",
    "- determine if honey production is affected by colony growth/loss \n"
   ]
  },
  {
   "cell_type": "markdown",
   "id": "16c59e71",
   "metadata": {},
   "source": [
    "notes: for over all numbers on years will need to skip 2019 and not inlcude 2021 due to missing periods\n",
    "\n",
    "to fix issue of (x) in US max colonies column which prevents changing the dtype to numeric, i will sub in 0 for that value which is obviously not correct and will sub as na \n",
    "\n",
    "for the issue of (z) meaning less than half a unit, i will change to zero"
   ]
  },
  {
   "cell_type": "code",
   "execution_count": null,
   "id": "84cfac52",
   "metadata": {},
   "outputs": [],
   "source": [
    "import pandas as pd\n",
    "import matplotlib.pyplot as plt\n",
    "import seaborn as sns\n",
    "import numpy as np"
   ]
  },
  {
   "cell_type": "markdown",
   "id": "6c05bfaa",
   "metadata": {},
   "source": [
    "# Colony Counts"
   ]
  },
  {
   "cell_type": "code",
   "execution_count": null,
   "id": "877c0822",
   "metadata": {},
   "outputs": [],
   "source": [
    "colony_counts = pd.read_csv('../data/honeybee_colonies/colony_counts.csv')"
   ]
  },
  {
   "cell_type": "code",
   "execution_count": null,
   "id": "6e730d45",
   "metadata": {},
   "outputs": [],
   "source": [
    "colony_counts = colony_counts.drop(columns = ['Unnamed: 0'])"
   ]
  },
  {
   "cell_type": "code",
   "execution_count": null,
   "id": "f676f6f0",
   "metadata": {},
   "outputs": [],
   "source": [
    "colony_counts.shape"
   ]
  },
  {
   "cell_type": "code",
   "execution_count": null,
   "id": "464f9c00",
   "metadata": {
    "scrolled": false
   },
   "outputs": [],
   "source": [
    "# to fix issues with datatypes, need to change all non numerical values ( like (z) and -)\n",
    "colony_counts.dtypes"
   ]
  },
  {
   "cell_type": "code",
   "execution_count": null,
   "id": "c309034e",
   "metadata": {},
   "outputs": [],
   "source": [
    "colony_counts['lost_colonies'] = colony_counts['lost_colonies'].str.replace('-', '0')\n",
    "colony_counts['percent_lost'] = colony_counts['percent_lost'].str.replace('-', '0')\n",
    "colony_counts['added_colonies'] = colony_counts['added_colonies'].str.replace('-', '0')\n",
    "colony_counts['renovated'] = colony_counts['renovated'].str.replace('-', '0')\n",
    "colony_counts['percent_renovated'] = colony_counts['percent_renovated'].str.replace('-', '0')"
   ]
  },
  {
   "cell_type": "code",
   "execution_count": null,
   "id": "8bcbd16b",
   "metadata": {
    "scrolled": false
   },
   "outputs": [],
   "source": [
    "#because (z) and (x) are in parenthesis, need to individually replace each side of parenthesis, or it will only replace\n",
    "# what is inside ie z and x, while leaving the ()\n",
    "colony_counts['max_colonies'] = colony_counts['max_colonies'].str.replace('(', '')"
   ]
  },
  {
   "cell_type": "code",
   "execution_count": null,
   "id": "44bd5f26",
   "metadata": {},
   "outputs": [],
   "source": [
    "colony_counts['max_colonies'] = colony_counts['max_colonies'].str.replace(')', '')"
   ]
  },
  {
   "cell_type": "code",
   "execution_count": null,
   "id": "f7e0e677",
   "metadata": {},
   "outputs": [],
   "source": [
    "colony_counts['max_colonies'] = colony_counts['max_colonies'].str.replace('X', '0')"
   ]
  },
  {
   "cell_type": "code",
   "execution_count": null,
   "id": "cc28c6dd",
   "metadata": {},
   "outputs": [],
   "source": [
    "colony_counts['start_colonies'] = colony_counts['start_colonies'].str.replace('(', '')\n",
    "colony_counts['max_colonies'] = colony_counts['max_colonies'].str.replace('(', '')\n",
    "colony_counts['lost_colonies'] = colony_counts['lost_colonies'].str.replace('(', '')\n",
    "colony_counts['percent_lost'] = colony_counts['percent_lost'].str.replace('(', '')\n",
    "colony_counts['added_colonies'] = colony_counts['added_colonies'].str.replace('(', '')\n",
    "colony_counts['renovated'] = colony_counts['renovated'].str.replace('(', '')\n",
    "colony_counts['percent_renovated'] = colony_counts['percent_renovated'].str.replace('(', '')"
   ]
  },
  {
   "cell_type": "code",
   "execution_count": null,
   "id": "af607fe5",
   "metadata": {},
   "outputs": [],
   "source": [
    "colony_counts['start_colonies'] = colony_counts['start_colonies'].str.replace(')', '')\n",
    "colony_counts['max_colonies'] = colony_counts['max_colonies'].str.replace(')', '')\n",
    "colony_counts['lost_colonies'] = colony_counts['lost_colonies'].str.replace(')', '')\n",
    "colony_counts['percent_lost'] = colony_counts['percent_lost'].str.replace(')', '')\n",
    "colony_counts['added_colonies'] = colony_counts['added_colonies'].str.replace(')', '')\n",
    "colony_counts['renovated'] = colony_counts['renovated'].str.replace(')', '')\n",
    "colony_counts['percent_renovated'] = colony_counts['percent_renovated'].str.replace(')', '')"
   ]
  },
  {
   "cell_type": "code",
   "execution_count": null,
   "id": "c4e80e96",
   "metadata": {},
   "outputs": [],
   "source": [
    "colony_counts['start_colonies'] = colony_counts['start_colonies'].str.replace('Z', '0')\n",
    "colony_counts['max_colonies'] = colony_counts['max_colonies'].str.replace('Z', '0')\n",
    "colony_counts['lost_colonies'] = colony_counts['lost_colonies'].str.replace('Z', '0')\n",
    "colony_counts['percent_lost'] = colony_counts['percent_lost'].str.replace('Z', '0')\n",
    "colony_counts['added_colonies'] = colony_counts['added_colonies'].str.replace('Z', '0')\n",
    "colony_counts['renovated'] = colony_counts['renovated'].str.replace('Z', '0')\n",
    "colony_counts['percent_renovated'] = colony_counts['percent_renovated'].str.replace('Z', '0')"
   ]
  },
  {
   "cell_type": "code",
   "execution_count": null,
   "id": "d109ec16",
   "metadata": {},
   "outputs": [],
   "source": [
    "# need to remove commas from numbers to convert to int\n",
    "colony_counts['start_colonies'] = colony_counts['start_colonies'].str.replace(',', '')\n",
    "colony_counts['max_colonies'] = colony_counts['max_colonies'].str.replace(',', '')\n",
    "colony_counts['lost_colonies'] = colony_counts['lost_colonies'].str.replace(',', '')\n",
    "colony_counts['percent_lost'] = colony_counts['percent_lost'].str.replace(',', '')\n",
    "colony_counts['added_colonies'] = colony_counts['added_colonies'].str.replace(',', '')\n",
    "colony_counts['renovated'] = colony_counts['renovated'].str.replace(',', '')\n",
    "colony_counts['percent_renovated'] = colony_counts['percent_renovated'].str.replace(',', '')"
   ]
  },
  {
   "cell_type": "code",
   "execution_count": null,
   "id": "5946df3d",
   "metadata": {},
   "outputs": [],
   "source": [
    "colony_counts['start_colonies'] = pd.to_numeric(colony_counts['start_colonies'])"
   ]
  },
  {
   "cell_type": "code",
   "execution_count": null,
   "id": "15eca247",
   "metadata": {},
   "outputs": [],
   "source": [
    "colony_counts['max_colonies'] = pd.to_numeric(colony_counts['max_colonies'])"
   ]
  },
  {
   "cell_type": "code",
   "execution_count": null,
   "id": "16738a0c",
   "metadata": {},
   "outputs": [],
   "source": [
    "colony_counts['lost_colonies'] = pd.to_numeric(colony_counts['lost_colonies'])\n",
    "colony_counts['percent_lost'] = pd.to_numeric(colony_counts['percent_lost'])\n",
    "colony_counts['added_colonies'] = pd.to_numeric(colony_counts['added_colonies'])\n",
    "colony_counts['renovated'] = pd.to_numeric(colony_counts['renovated'])\n",
    "colony_counts['percent_renovated'] = pd.to_numeric(colony_counts['percent_renovated'])"
   ]
  },
  {
   "cell_type": "code",
   "execution_count": null,
   "id": "32d03902",
   "metadata": {
    "scrolled": true
   },
   "outputs": [],
   "source": [
    "colony_counts.head()"
   ]
  },
  {
   "cell_type": "code",
   "execution_count": null,
   "id": "369fac2a",
   "metadata": {},
   "outputs": [],
   "source": [
    "# csv for colony counts with cleaned numeric values (for use in tableau)\n",
    "# colony_counts.to_csv('../data/honeybee_colonies/colony_counts_clean.csv')"
   ]
  },
  {
   "cell_type": "code",
   "execution_count": null,
   "id": "0fab51ac",
   "metadata": {},
   "outputs": [],
   "source": [
    "us_colony_counts = colony_counts.loc[colony_counts['state'] == 'United States']"
   ]
  },
  {
   "cell_type": "code",
   "execution_count": null,
   "id": "9796d326",
   "metadata": {},
   "outputs": [],
   "source": [
    "us_colony_counts"
   ]
  },
  {
   "cell_type": "code",
   "execution_count": null,
   "id": "6d7a5f17",
   "metadata": {},
   "outputs": [],
   "source": [
    "# because 2019 and 2021 do not have full accounts of colonies for the year, I need to drop those from the list\n",
    "us_colony_counts = us_colony_counts.loc[~us_colony_counts['year'].isin([2019, 2021])]"
   ]
  },
  {
   "cell_type": "code",
   "execution_count": null,
   "id": "1add538b",
   "metadata": {},
   "outputs": [],
   "source": [
    "us_colony_counts.head()"
   ]
  },
  {
   "cell_type": "markdown",
   "id": "c34ca267",
   "metadata": {},
   "source": [
    "### for years observed 2015 - 2020 (excluding 2019) entire colonies tend to die off in colder months (although healthy colonies wont, only colonies weakend by varroa or viruses), and new colonies are formed with renovation( new queen and implanted workers) but the numbers are struggling to grow, though over all US colony count in the past 5 years has not dropped. \n",
    "\n",
    "### also notice (on tableau graph) how keepers seem to renovate most durring the apr period and dont bother as much in oct period (makes sense because colonies are strongest in warm weather)\n",
    "\n",
    "### lets compare this to honey production values to get an idea of colony health (which can then be compared to stressor data!"
   ]
  },
  {
   "cell_type": "code",
   "execution_count": null,
   "id": "8625bb04",
   "metadata": {},
   "outputs": [],
   "source": [
    "#i put the two below facet grids together in tableau\n",
    "us_counts_grid = sns.FacetGrid(us_colony_counts, col = 'year')\n",
    "us_counts_grid.map(sns.barplot, 'period', 'start_colonies')"
   ]
  },
  {
   "cell_type": "code",
   "execution_count": null,
   "id": "c5e3cad7",
   "metadata": {
    "scrolled": true
   },
   "outputs": [],
   "source": [
    "us_counts_grid = sns.FacetGrid(us_colony_counts, col = 'year')\n",
    "us_counts_grid.map(sns.barplot, 'period', 'lost_colonies')"
   ]
  },
  {
   "cell_type": "code",
   "execution_count": null,
   "id": "d0655a39",
   "metadata": {},
   "outputs": [],
   "source": [
    "# eventally find states with over all top number of colonies, first look at colony numbers by state and year\n",
    "states_colony_counts = colony_counts.loc[~colony_counts['state'].isin(['United States'])]"
   ]
  },
  {
   "cell_type": "code",
   "execution_count": null,
   "id": "1a8a6e5c",
   "metadata": {},
   "outputs": [],
   "source": [
    "states_colony_counts = states_colony_counts.loc[~states_colony_counts['year'].isin([2019, 2021])]"
   ]
  },
  {
   "cell_type": "code",
   "execution_count": null,
   "id": "47f9bdb3",
   "metadata": {},
   "outputs": [],
   "source": [
    "states_colony_counts.head()"
   ]
  },
  {
   "cell_type": "code",
   "execution_count": null,
   "id": "1a2dc4bd",
   "metadata": {},
   "outputs": [],
   "source": [
    "states_yearly = states_colony_counts.groupby(['state', 'year'])['start_colonies', 'lost_colonies', 'renovated'].agg('mean').reset_index()"
   ]
  },
  {
   "cell_type": "code",
   "execution_count": null,
   "id": "6651af24",
   "metadata": {
    "scrolled": false
   },
   "outputs": [],
   "source": [
    "states_yearly"
   ]
  },
  {
   "cell_type": "code",
   "execution_count": null,
   "id": "5dcddd53",
   "metadata": {},
   "outputs": [],
   "source": [
    "# csv for states yearly (for use in tableau)\n",
    "# states_yearly.to_csv('../data/honeybee_colonies/states_yearly.csv')"
   ]
  },
  {
   "cell_type": "markdown",
   "id": "ae4809c6",
   "metadata": {},
   "source": [
    "### Top 5 states with over all most colonies : How do these colonies compare to national trends? looked at graph comparison of top 3 states in tableau. US overall is on a slight downtrend in colony size, where as cali and florida are on an up trend of overall colonies. \n",
    "\n",
    " #### California\n",
    " #### North Dakota\n",
    " #### Florida\n",
    " #### Texas\n",
    " #### Georgia"
   ]
  },
  {
   "cell_type": "code",
   "execution_count": null,
   "id": "8bd9d463",
   "metadata": {
    "scrolled": true
   },
   "outputs": [],
   "source": [
    "# over all years, top 5 states with most colonies\n",
    "states_yearly.groupby('state')['start_colonies'].mean().sort_values(ascending = False).head()"
   ]
  },
  {
   "cell_type": "markdown",
   "id": "d0956dbc",
   "metadata": {},
   "source": [
    "### With over all view of colonies in past 5 years, what is their honey production like, and how does that compare to honey prices. After this, see if trends in stressors affect honey production"
   ]
  },
  {
   "cell_type": "markdown",
   "id": "1311cf75",
   "metadata": {},
   "source": [
    "# Honey production"
   ]
  },
  {
   "cell_type": "code",
   "execution_count": null,
   "id": "43e5533c",
   "metadata": {},
   "outputs": [],
   "source": [
    "honey_yield = pd.read_csv('../data/honey_nass/honey_yield.csv')"
   ]
  },
  {
   "cell_type": "code",
   "execution_count": null,
   "id": "978426d3",
   "metadata": {},
   "outputs": [],
   "source": [
    "honey_yield"
   ]
  },
  {
   "cell_type": "code",
   "execution_count": null,
   "id": "9a8b46d1",
   "metadata": {},
   "outputs": [],
   "source": [
    "honey_yield = honey_yield.drop(columns = ['Unnamed: 0'])"
   ]
  },
  {
   "cell_type": "code",
   "execution_count": null,
   "id": "5ea329ce",
   "metadata": {},
   "outputs": [],
   "source": [
    "honey_yield.shape"
   ]
  },
  {
   "cell_type": "code",
   "execution_count": null,
   "id": "93527abe",
   "metadata": {},
   "outputs": [],
   "source": [
    "honey_yield['state'] = honey_yield['state'].str.replace('United States 6 7', 'United States')"
   ]
  },
  {
   "cell_type": "code",
   "execution_count": null,
   "id": "1891cdcf",
   "metadata": {},
   "outputs": [],
   "source": [
    "honey_yield['state'] = honey_yield['state'].str.replace('Other States 5 6', 'Other States')"
   ]
  },
  {
   "cell_type": "code",
   "execution_count": null,
   "id": "aa7d22d4",
   "metadata": {},
   "outputs": [],
   "source": [
    "honey_yield.dtypes"
   ]
  },
  {
   "cell_type": "code",
   "execution_count": null,
   "id": "f5097847",
   "metadata": {},
   "outputs": [],
   "source": [
    "honey_yield.head()"
   ]
  },
  {
   "cell_type": "code",
   "execution_count": null,
   "id": "15d353b9",
   "metadata": {},
   "outputs": [],
   "source": [
    "honey_yield['honey_producing_colony_thousands'] = honey_yield['honey_producing_colony_thousands'].str.replace(',', '')\n",
    "honey_yield['production_1000_pounds'] = honey_yield['production_1000_pounds'].str.replace(',', '')\n",
    "honey_yield['stocks_dec_15_1000_pounds'] = honey_yield['stocks_dec_15_1000_pounds'].str.replace(',', '')\n",
    "honey_yield['value_1000_dollars'] = honey_yield['value_1000_dollars'].str.replace(',', '')"
   ]
  },
  {
   "cell_type": "code",
   "execution_count": null,
   "id": "4fa9e6da",
   "metadata": {},
   "outputs": [],
   "source": [
    "honey_yield['honey_producing_colony_thousands'] = pd.to_numeric(honey_yield['honey_producing_colony_thousands'])\n",
    "honey_yield['production_1000_pounds'] = pd.to_numeric(honey_yield['production_1000_pounds'])\n",
    "honey_yield['stocks_dec_15_1000_pounds'] = pd.to_numeric(honey_yield['stocks_dec_15_1000_pounds'])\n",
    "honey_yield['value_1000_dollars'] = pd.to_numeric(honey_yield['value_1000_dollars'])"
   ]
  },
  {
   "cell_type": "code",
   "execution_count": null,
   "id": "18a33712",
   "metadata": {},
   "outputs": [],
   "source": [
    "honey_yield.dtypes"
   ]
  },
  {
   "cell_type": "code",
   "execution_count": null,
   "id": "27cb51bd",
   "metadata": {},
   "outputs": [],
   "source": [
    "honey_yield['honey_producing_colony_thousands'] = honey_yield['honey_producing_colony_thousands'] * 1000\n",
    "honey_yield['production_1000_pounds'] = honey_yield['production_1000_pounds'] * 1000\n",
    "honey_yield['stocks_dec_15_1000_pounds'] = honey_yield['stocks_dec_15_1000_pounds'] * 1000\n",
    "honey_yield['value_1000_dollars'] = honey_yield['value_1000_dollars'] * 1000"
   ]
  },
  {
   "cell_type": "code",
   "execution_count": null,
   "id": "29358628",
   "metadata": {},
   "outputs": [],
   "source": [
    "honey_yield.head()"
   ]
  },
  {
   "cell_type": "code",
   "execution_count": null,
   "id": "637cc959",
   "metadata": {},
   "outputs": [],
   "source": [
    "honey_yield = honey_yield.rename(columns = {'honey_producing_colony_thousands': 'honey_producing_colonies', 'production_1000_pounds': 'production_pounds', 'stocks_dec_15_1000_pounds': 'stocks_dec_15_pounds', 'value_1000_dollars': 'value_dollars'})"
   ]
  },
  {
   "cell_type": "code",
   "execution_count": null,
   "id": "77bff341",
   "metadata": {
    "scrolled": false
   },
   "outputs": [],
   "source": [
    "honey_yield"
   ]
  },
  {
   "cell_type": "markdown",
   "id": "eaee6764",
   "metadata": {},
   "source": [
    "## the below cell could be a good visual on the differences between yield per colony in the top 3 honey producing states"
   ]
  },
  {
   "cell_type": "code",
   "execution_count": null,
   "id": "763e2664",
   "metadata": {},
   "outputs": [],
   "source": [
    "top3_colony_yield = honey_yield.loc[honey_yield['state'].isin(['California', 'North Dakota', 'South Dakota'])]"
   ]
  },
  {
   "cell_type": "code",
   "execution_count": null,
   "id": "4bc815f4",
   "metadata": {},
   "outputs": [],
   "source": [
    "top3_colony_yield"
   ]
  },
  {
   "cell_type": "code",
   "execution_count": null,
   "id": "74caba0e",
   "metadata": {
    "scrolled": true
   },
   "outputs": [],
   "source": [
    "top3_colony_yield = top3_colony_yield.loc[~top3_colony_yield['year'].isin([2019])]"
   ]
  },
  {
   "cell_type": "code",
   "execution_count": null,
   "id": "b50cf179",
   "metadata": {},
   "outputs": [],
   "source": [
    "top3_colony_yield"
   ]
  },
  {
   "cell_type": "code",
   "execution_count": null,
   "id": "6498af1f",
   "metadata": {},
   "outputs": [],
   "source": [
    "top3_col_yield = sns.FacetGrid(top3_colony_yield, col = 'state', \n",
    "                               hue = 'state',\n",
    "                               palette = ['forestgreen', 'teal', 'darkturquoise'],\n",
    "                               height = 6)\n",
    "top3_col_yield.map(sns.barplot, 'year', 'yield_per_colony_pounds')\n",
    "\n",
    "top3_col_yield.fig.suptitle('Pounds of Honey per Colony in Top Honey Producing States', y=1.05, fontsize = 22)\n",
    "top3_col_yield.set_ylabels('Pounds of Honey');"
   ]
  },
  {
   "cell_type": "code",
   "execution_count": null,
   "id": "ea7223b3",
   "metadata": {},
   "outputs": [],
   "source": [
    "# csv for honey yield clean (for use in tableau)\n",
    "# honey_yield.to_csv('../data/honey_nass/honey_yield_clean.csv')"
   ]
  },
  {
   "cell_type": "markdown",
   "id": "d67dadb2",
   "metadata": {},
   "source": [
    "### the top states for amount of colonies and honey production are similar but exact rankings are different. Top honey producing states from 2015 - 2021 are:\n",
    "North Dakota\n",
    "\n",
    "California\n",
    "\n",
    "South Dakota\n",
    "\n",
    "Florida \n",
    "\n",
    "Montana \n",
    "\n",
    "(with the other states in top 5 amount of colonies within top 10)"
   ]
  },
  {
   "cell_type": "code",
   "execution_count": null,
   "id": "71ab3403",
   "metadata": {
    "scrolled": true
   },
   "outputs": [],
   "source": [
    "honey_yield.groupby('state')['honey_producing_colonies'].mean().sort_values(ascending = False)"
   ]
  },
  {
   "cell_type": "code",
   "execution_count": null,
   "id": "559e3fab",
   "metadata": {},
   "outputs": [],
   "source": [
    "us_honey_yield = honey_yield.loc[honey_yield['state'] == 'United States']"
   ]
  },
  {
   "cell_type": "code",
   "execution_count": null,
   "id": "1159dcf7",
   "metadata": {},
   "outputs": [],
   "source": [
    "us_honey_yield"
   ]
  },
  {
   "cell_type": "code",
   "execution_count": null,
   "id": "6ecca569",
   "metadata": {},
   "outputs": [],
   "source": [
    "# change yticks from scientific notation at some point\n",
    "plt.figure(figsize = (10,6))\n",
    "ax = sns.lineplot(data = us_honey_yield, \n",
    "                  x = 'year', \n",
    "                  y = 'production_pounds',\n",
    "                  marker = 'o',\n",
    "                  markersize = 10,\n",
    "                  color = 'darkgoldenrod',\n",
    "                  linewidth = 3);\n",
    "\n",
    "plt.title('U.S. Honey Production By Year', fontsize = 16)\n",
    "plt.ylabel('Pounds of Honey', fontsize = 12)\n",
    "plt.ylim(50000000,200000000)\n",
    "plt.yticks([50000000, 100000000, 150000000, 200000000], ['$50M', '$100M', '$150M', '$200M'])\n",
    "ax.set(xlabel = None)\n",
    ";\n"
   ]
  },
  {
   "cell_type": "code",
   "execution_count": null,
   "id": "d8102bfb",
   "metadata": {},
   "outputs": [],
   "source": [
    "# supplemental \n",
    "plt.figure(figsize = (10,6))\n",
    "ax = sns.lineplot(data = us_honey_yield, \n",
    "                  x = 'year', \n",
    "                  y = 'value_dollars',\n",
    "                  marker = 'o',\n",
    "                  markersize = 10,\n",
    "                  color = 'blue',\n",
    "                  linewidth = 3);\n",
    "\n",
    "plt.title('U.S. Total Honey Production Value By Year', fontsize = 16)\n",
    "plt.ylabel('Value in Dollars', fontsize = 12)\n",
    "plt.ylim(100000000,400000000)\n",
    "plt.yticks([100000000, 150000000, 200000000, 250000000, 300000000, 350000000], ['$100M', '$150M', '$200M', '$250M', '$300M', '$350M'])\n",
    "ax.set(xlabel = None);"
   ]
  },
  {
   "cell_type": "code",
   "execution_count": null,
   "id": "8d2369a6",
   "metadata": {},
   "outputs": [],
   "source": [
    "plt.figure(figsize = (10,6))\n",
    "ax = sns.lineplot(data = us_honey_yield, \n",
    "                  x = 'year', \n",
    "                  y = 'avg_price_per_pound_dollars',\n",
    "                  marker = 'o',\n",
    "                  markersize = 10,\n",
    "                  color = 'darkgreen',\n",
    "                  linewidth = 3);\n",
    "\n",
    "plt.title('U.S. Honey Price per Pound', fontsize = 16)\n",
    "plt.ylabel('Value in Dollars', fontsize = 12)\n",
    "plt.ylim(1,3)\n",
    "plt.yticks([1, 1.5, 2, 2.5, 3], ['$1.00', '$1.50', '$2.00', '$2.50', '$3.00'])\n",
    "ax.set(xlabel = None);"
   ]
  },
  {
   "cell_type": "markdown",
   "id": "5d8417c7",
   "metadata": {},
   "source": [
    "### As shown by the above three graphs, despite steady colony numbers, honey production is declining, but the price of honey is increasing. Likely the lower yield is driving up the market"
   ]
  },
  {
   "cell_type": "code",
   "execution_count": null,
   "id": "fc5318c0",
   "metadata": {},
   "outputs": [],
   "source": [
    "# for curiosity, make dataframe of avg colonies per year by avg seasons for us_colony_counts and \n",
    "# merge with us_honey_yield to get idea of total colonies vs honey producing colonies\n",
    "us_colony_counts.shape"
   ]
  },
  {
   "cell_type": "code",
   "execution_count": null,
   "id": "a577f186",
   "metadata": {
    "scrolled": false
   },
   "outputs": [],
   "source": [
    "us_colony_counts.head()"
   ]
  },
  {
   "cell_type": "code",
   "execution_count": null,
   "id": "d9aa36c8",
   "metadata": {},
   "outputs": [],
   "source": [
    "us_colonies_yearly = us_colony_counts.groupby('year')['start_colonies'].mean().reset_index()"
   ]
  },
  {
   "cell_type": "code",
   "execution_count": null,
   "id": "41f0a5cd",
   "metadata": {},
   "outputs": [],
   "source": [
    "us_colonies_yearly.columns = ['year', 'avg_total_colonies']"
   ]
  },
  {
   "cell_type": "code",
   "execution_count": null,
   "id": "7cff477d",
   "metadata": {},
   "outputs": [],
   "source": [
    "us_colonies_yearly"
   ]
  },
  {
   "cell_type": "code",
   "execution_count": null,
   "id": "7e8bc197",
   "metadata": {},
   "outputs": [],
   "source": [
    "# total colonies and honey colonies\n",
    "us_totcol_honcol = pd.merge(us_colonies_yearly, us_honey_yield, on = 'year', how = 'left')"
   ]
  },
  {
   "cell_type": "code",
   "execution_count": null,
   "id": "3481a196",
   "metadata": {
    "scrolled": false
   },
   "outputs": [],
   "source": [
    "us_totcol_honcol"
   ]
  },
  {
   "cell_type": "code",
   "execution_count": null,
   "id": "f00676d4",
   "metadata": {},
   "outputs": [],
   "source": [
    "us_totcol_honcol_meltprep = us_totcol_honcol[['year', 'avg_total_colonies', 'honey_producing_colonies']]"
   ]
  },
  {
   "cell_type": "code",
   "execution_count": null,
   "id": "0297c2c5",
   "metadata": {},
   "outputs": [],
   "source": [
    "us_totcol_honcol_melt = us_totcol_honcol_meltprep.melt('year')"
   ]
  },
  {
   "cell_type": "code",
   "execution_count": null,
   "id": "f698403e",
   "metadata": {
    "scrolled": true
   },
   "outputs": [],
   "source": [
    "us_totcol_honcol_melt"
   ]
  },
  {
   "cell_type": "code",
   "execution_count": null,
   "id": "153ecc22",
   "metadata": {},
   "outputs": [],
   "source": [
    "us_totcol_honcol_melt.columns = ['year', 'colonies', 'colony_counts']"
   ]
  },
  {
   "cell_type": "code",
   "execution_count": null,
   "id": "b70aa93f",
   "metadata": {},
   "outputs": [],
   "source": [
    "# notice in 2018 there are more honey producing than total, probably due to \n",
    "# having to avg yearly colonies, basically just want to show that most honey bees kept\n",
    "# by farms are for honey or honey and pollination services, and even with lower yields, most\n",
    "# colonies can sucessfully produce some honey\n",
    "plt.figure(figsize = (10,6))\n",
    "ax = sns.barplot(data = us_totcol_honcol_melt, \n",
    "            x = 'year',\n",
    "            y = 'colony_counts',\n",
    "            hue = 'colonies',\n",
    "            palette = ['black', 'gold']);\n",
    "\n",
    "plt.title('Total Colonies vs Honey Producing Colonies', fontsize = 16)\n",
    "plt.legend(bbox_to_anchor = (1,1))\n",
    "plt.ylabel('Colonies', fontsize = 12)\n",
    "plt.ylim(0, 3000000)\n",
    "plt.yticks([0, 1000000, 2000000, 3000000, 4000000], ['0', '1M', '2M', '3M', '4M'])\n",
    "ax.set(xlabel = None);"
   ]
  },
  {
   "cell_type": "markdown",
   "id": "2dd6f56e",
   "metadata": {},
   "source": [
    "## something may not be right with the above plot, honey producing colonies are similar to total colonies, but when you look at california, which has the most colonies by far, it does not have nearly as much honey producing colonies as it does over all colonies. look into this next!!!\n",
    "\n",
    "check more, but this is likely due to count being the avg of the flux of colonies over all, where as honey producing colonies are counted even if they die off or are merged with other colonies "
   ]
  },
  {
   "cell_type": "code",
   "execution_count": null,
   "id": "bb8e5673",
   "metadata": {},
   "outputs": [],
   "source": [
    "colony_counts"
   ]
  },
  {
   "cell_type": "code",
   "execution_count": null,
   "id": "75c21d49",
   "metadata": {},
   "outputs": [],
   "source": [
    "colonies_yearly = colony_counts.groupby(['state', 'year'])['start_colonies'].mean().reset_index()"
   ]
  },
  {
   "cell_type": "code",
   "execution_count": null,
   "id": "7792cb15",
   "metadata": {
    "scrolled": true
   },
   "outputs": [],
   "source": [
    "colonies_yearly"
   ]
  },
  {
   "cell_type": "code",
   "execution_count": null,
   "id": "bd607588",
   "metadata": {
    "scrolled": true
   },
   "outputs": [],
   "source": [
    "honey_yield"
   ]
  },
  {
   "cell_type": "code",
   "execution_count": null,
   "id": "b67625db",
   "metadata": {},
   "outputs": [],
   "source": [
    "states_totcol_honcol = pd.merge(honey_yield, colonies_yearly, how = 'outer', on = ['state', 'year'])"
   ]
  },
  {
   "cell_type": "code",
   "execution_count": null,
   "id": "beb1e89a",
   "metadata": {
    "scrolled": true
   },
   "outputs": [],
   "source": [
    "states_totcol_honcol.loc[states_totcol_honcol['state'] == 'California']"
   ]
  },
  {
   "cell_type": "code",
   "execution_count": null,
   "id": "5750308b",
   "metadata": {},
   "outputs": [],
   "source": [
    "states_totcol_honcol['start-hon_producing'] = states_totcol_honcol['start_colonies'] - states_totcol_honcol['honey_producing_colonies']"
   ]
  },
  {
   "cell_type": "code",
   "execution_count": null,
   "id": "89f0c72a",
   "metadata": {
    "scrolled": true
   },
   "outputs": [],
   "source": [
    "# if i get rid of 2019 and 2021, then avg colony numbers across all year, then I can see \n",
    "# where the difference between avg colony numbers and honey producing colonies are as less honey production is likely a sign\n",
    "# of areas where bees struggle \n",
    "states_totcol_honcol"
   ]
  },
  {
   "cell_type": "code",
   "execution_count": null,
   "id": "f826ac24",
   "metadata": {},
   "outputs": [],
   "source": [
    "states_totcol_honcol = states_totcol_honcol.loc[~states_totcol_honcol['year'].isin([2019, 2021])]\n",
    "states_totcol_honcol = states_totcol_honcol.loc[~states_totcol_honcol['state'].isin(['United States'])]"
   ]
  },
  {
   "cell_type": "code",
   "execution_count": null,
   "id": "0a06e57b",
   "metadata": {},
   "outputs": [],
   "source": [
    "state_honey_diff = states_totcol_honcol.groupby('state')['honey_producing_colonies', 'start_colonies', 'start-hon_producing'].mean()"
   ]
  },
  {
   "cell_type": "code",
   "execution_count": null,
   "id": "145454d7",
   "metadata": {},
   "outputs": [],
   "source": [
    "top_honey_diff = state_honey_diff['start-hon_producing'].sort_values(ascending = False)"
   ]
  },
  {
   "cell_type": "markdown",
   "id": "12d0b439",
   "metadata": {},
   "source": [
    "### Although I do think that the above list does indicate the states with the largest disparities in total colonies vs honey producing colonies, the data estimates are too complicated due to the different way in which the data was collected, as is made clear by the really high - numbers (indicating more honey prod colonies than total colonies, which doesnt make sense) which is due to the fact that colony numbers for the totals are not static, where as all colonies that produce some honey is permanantly counted\n",
    "\n",
    "It may just be worth noting verbally that states that have higher number of colonies that dont produce honey are drough states, as honey bees cant produce honey in drought conditions"
   ]
  },
  {
   "cell_type": "markdown",
   "id": "94f5d835",
   "metadata": {},
   "source": [
    "# Stressors (dont forget lil collapse disorder table too, and the lil expenditures table)"
   ]
  },
  {
   "cell_type": "markdown",
   "id": "57af4d1c",
   "metadata": {},
   "source": [
    "### Clean up stressors, collapse disorder, and expenditures tables"
   ]
  },
  {
   "cell_type": "code",
   "execution_count": null,
   "id": "f9c99ca0",
   "metadata": {},
   "outputs": [],
   "source": [
    "stressors = pd.read_csv('../data/honeybee_colonies/stressors.csv')"
   ]
  },
  {
   "cell_type": "code",
   "execution_count": null,
   "id": "25a5171a",
   "metadata": {},
   "outputs": [],
   "source": [
    "stressors.shape"
   ]
  },
  {
   "cell_type": "code",
   "execution_count": null,
   "id": "c1e8cabf",
   "metadata": {},
   "outputs": [],
   "source": [
    "stressors.head()"
   ]
  },
  {
   "cell_type": "code",
   "execution_count": null,
   "id": "814b3c7d",
   "metadata": {},
   "outputs": [],
   "source": [
    "collapse_disorder = pd.read_csv('../data/honeybee_colonies/collapse_disorder.csv')"
   ]
  },
  {
   "cell_type": "code",
   "execution_count": null,
   "id": "d982c4b8",
   "metadata": {},
   "outputs": [],
   "source": [
    "# may need a melt later to compare with other stressors\n",
    "# also note that the values indicate count of colonies lost over all in US\n",
    "collapse_disorder"
   ]
  },
  {
   "cell_type": "code",
   "execution_count": null,
   "id": "0c473874",
   "metadata": {},
   "outputs": [],
   "source": [
    "collapse_disorder = collapse_disorder.drop(columns = ('Unnamed: 0'))"
   ]
  },
  {
   "cell_type": "code",
   "execution_count": null,
   "id": "0fcffc66",
   "metadata": {
    "scrolled": true
   },
   "outputs": [],
   "source": [
    "collapse_disorder.dtypes"
   ]
  },
  {
   "cell_type": "code",
   "execution_count": null,
   "id": "5e5c42dc",
   "metadata": {},
   "outputs": [],
   "source": [
    "collapse_disorder['jul-sep'] = collapse_disorder['jul-sep'].str.replace(',', '')\n",
    "collapse_disorder['jan-mar'] = collapse_disorder['jan-mar'].str.replace(',', '')\n",
    "collapse_disorder['apr-jun'] = collapse_disorder['apr-jun'].str.replace(',', '')\n",
    "collapse_disorder['oct-dec'] = collapse_disorder['oct-dec'].str.replace(',', '')"
   ]
  },
  {
   "cell_type": "code",
   "execution_count": null,
   "id": "2c1d20bd",
   "metadata": {},
   "outputs": [],
   "source": [
    "collapse_disorder = collapse_disorder.loc[~collapse_disorder['year'].isin([2019, 2021])]"
   ]
  },
  {
   "cell_type": "code",
   "execution_count": null,
   "id": "f6fa751e",
   "metadata": {
    "scrolled": true
   },
   "outputs": [],
   "source": [
    "collapse_disorder['jan-mar'] = pd.to_numeric(collapse_disorder['jan-mar'])\n",
    "collapse_disorder['apr-jun'] = pd.to_numeric(collapse_disorder['apr-jun'])\n",
    "collapse_disorder['jul-sep'] = pd.to_numeric(collapse_disorder['jul-sep'])\n",
    "collapse_disorder['oct-dec'] = pd.to_numeric(collapse_disorder['oct-dec'])"
   ]
  },
  {
   "cell_type": "code",
   "execution_count": null,
   "id": "36351e3c",
   "metadata": {
    "scrolled": true
   },
   "outputs": [],
   "source": [
    "collapse_disorder.dtypes"
   ]
  },
  {
   "cell_type": "code",
   "execution_count": null,
   "id": "9c2471e7",
   "metadata": {},
   "outputs": [],
   "source": [
    "collapse_disorder"
   ]
  },
  {
   "cell_type": "code",
   "execution_count": null,
   "id": "1ad3ce3c",
   "metadata": {},
   "outputs": [],
   "source": [
    "income_expend = pd.read_csv('../data/honey_nass/income_expend.csv')"
   ]
  },
  {
   "cell_type": "code",
   "execution_count": null,
   "id": "84ff917b",
   "metadata": {},
   "outputs": [],
   "source": [
    "income_expend"
   ]
  },
  {
   "cell_type": "code",
   "execution_count": null,
   "id": "699710be",
   "metadata": {},
   "outputs": [],
   "source": [
    "income_expend = income_expend.drop(columns = ('Unnamed: 0'))"
   ]
  },
  {
   "cell_type": "code",
   "execution_count": null,
   "id": "26d9298f",
   "metadata": {},
   "outputs": [],
   "source": [
    "income_expend.dtypes"
   ]
  },
  {
   "cell_type": "code",
   "execution_count": null,
   "id": "7b3ddc1a",
   "metadata": {},
   "outputs": [],
   "source": [
    "income_expend['poll_income_1000_dollars'] = income_expend['poll_income_1000_dollars'] * 1000\n",
    "income_expend['other_income_1000_dollars'] = income_expend['other_income_1000_dollars'] * 1000\n",
    "income_expend['honey_production_value_1000_dollars'] = income_expend['honey_production_value_1000_dollars'] * 1000\n",
    "income_expend['varroa_control_1000_dollars'] = income_expend['varroa_control_1000_dollars'] * 1000\n",
    "income_expend['other_issues_control_1000_dollars'] = income_expend['other_issues_control_1000_dollars'] * 1000\n",
    "income_expend['feed_1000_dollars'] = income_expend['feed_1000_dollars'] * 1000\n",
    "income_expend['foundation_1000_dollars'] = income_expend['foundation_1000_dollars'] * 1000\n",
    "income_expend['hives_woodenware_1000_dollars'] = income_expend['hives_woodenware_1000_dollars'] * 1000"
   ]
  },
  {
   "cell_type": "markdown",
   "id": "810bfc76",
   "metadata": {},
   "source": [
    "## interesting to note that beekeepers make about as much from honey production as they do for pollination services, and make another large % of profit from other sources such as selling queens, queen cells, beeswax and propolis (resin made by bees used for hippie medicine stuff)"
   ]
  },
  {
   "cell_type": "code",
   "execution_count": null,
   "id": "8ca9f871",
   "metadata": {
    "scrolled": true
   },
   "outputs": [],
   "source": [
    "income_expend"
   ]
  },
  {
   "cell_type": "code",
   "execution_count": null,
   "id": "cab4b5f1",
   "metadata": {},
   "outputs": [],
   "source": [
    "income_expend = income_expend.rename(columns = {'poll_income_1000_dollars': 'poll_income_dollars',\n",
    "                                                'other_income_1000_dollars': 'other_income_dollars',\n",
    "                                                'honey_production_value_1000_dollars': 'honey_production_value_dollars',\n",
    "                                                'varroa_control_1000_dollars': 'varroa_control_dollars',\n",
    "                                                'other_issues_control_1000_dollars': 'other_issues_control_dollars',\n",
    "                                                'feed_1000_dollars': 'feed_dollars',\n",
    "                                                'foundation_1000_dollars': 'foundation_dollars',\n",
    "                                                'hives_woodenware_1000_dollars': 'hives_woodenware_dollars'})"
   ]
  },
  {
   "cell_type": "code",
   "execution_count": null,
   "id": "abf47990",
   "metadata": {},
   "outputs": [],
   "source": [
    "income_expend"
   ]
  },
  {
   "cell_type": "markdown",
   "id": "12c99f06",
   "metadata": {},
   "source": [
    "## clean stressors table and make comparisons of stressors by area/year/period and how it compares to colony loss or honey production, make a total column for total % colonies with stressors\n",
    "the total column for all stressors doesnt work because some colonies have multiple stressors which gives values of over 100% of colonies which isnt right\n",
    "\n",
    "## also can make comparison in above income_expend table of poll income vs honey income, and changes in cost of dealing with pests over the years \n",
    "\n",
    "## after looking at stressors can look at how collapse disorder trends aligns with other stressors on coloines"
   ]
  },
  {
   "cell_type": "code",
   "execution_count": null,
   "id": "07e81a2a",
   "metadata": {},
   "outputs": [],
   "source": [
    "# note that values represent percent of colonies affected by stressors at anytime during \n",
    "# the quarter\n",
    "stressors.head()"
   ]
  },
  {
   "cell_type": "code",
   "execution_count": null,
   "id": "90f475d6",
   "metadata": {},
   "outputs": [],
   "source": [
    "stressors = stressors.drop(columns = ('Unnamed: 0'))"
   ]
  },
  {
   "cell_type": "code",
   "execution_count": null,
   "id": "6d04b39b",
   "metadata": {},
   "outputs": [],
   "source": [
    "stressors['varroa_mites'] = stressors['varroa_mites'].str.replace('-', '0')\n",
    "stressors['other_pest_parasites'] = stressors['other_pest_parasites'].str.replace('-', '0')\n",
    "stressors['diseases'] = stressors['diseases'].str.replace('-', '0')\n",
    "stressors['pesticides'] = stressors['pesticides'].str.replace('-', '0')\n",
    "stressors['other'] = stressors['other'].str.replace('-', '0')\n",
    "stressors['unknown'] = stressors['unknown'].str.replace('-', '0')"
   ]
  },
  {
   "cell_type": "code",
   "execution_count": null,
   "id": "6d2a8e4e",
   "metadata": {},
   "outputs": [],
   "source": [
    "stressors['varroa_mites'] = stressors['varroa_mites'].str.replace('(', '')\n",
    "stressors['other_pest_parasites'] = stressors['other_pest_parasites'].str.replace('(', '')\n",
    "stressors['diseases'] = stressors['diseases'].str.replace('(', '')\n",
    "stressors['pesticides'] = stressors['pesticides'].str.replace('(', '')\n",
    "stressors['other'] = stressors['other'].str.replace('(', '')\n",
    "stressors['unknown'] = stressors['unknown'].str.replace('(', '')"
   ]
  },
  {
   "cell_type": "code",
   "execution_count": null,
   "id": "37ac4607",
   "metadata": {},
   "outputs": [],
   "source": [
    "stressors['varroa_mites'] = stressors['varroa_mites'].str.replace(')', '')\n",
    "stressors['other_pest_parasites'] = stressors['other_pest_parasites'].str.replace(')', '')\n",
    "stressors['diseases'] = stressors['diseases'].str.replace(')', '')\n",
    "stressors['pesticides'] = stressors['pesticides'].str.replace(')', '')\n",
    "stressors['other'] = stressors['other'].str.replace(')', '')\n",
    "stressors['unknown'] = stressors['unknown'].str.replace(')', '')"
   ]
  },
  {
   "cell_type": "code",
   "execution_count": null,
   "id": "6250c852",
   "metadata": {},
   "outputs": [],
   "source": [
    "stressors['varroa_mites'] = stressors['varroa_mites'].str.replace('Z', '0')\n",
    "stressors['other_pest_parasites'] = stressors['other_pest_parasites'].str.replace('Z', '0')\n",
    "stressors['diseases'] = stressors['diseases'].str.replace('Z', '0')\n",
    "stressors['pesticides'] = stressors['pesticides'].str.replace('Z', '0')\n",
    "stressors['other'] = stressors['other'].str.replace('Z', '0')\n",
    "stressors['unknown'] = stressors['unknown'].str.replace('Z', '0')"
   ]
  },
  {
   "cell_type": "code",
   "execution_count": null,
   "id": "63f258fc",
   "metadata": {},
   "outputs": [],
   "source": [
    "stressors.dtypes"
   ]
  },
  {
   "cell_type": "code",
   "execution_count": null,
   "id": "7efa181e",
   "metadata": {},
   "outputs": [],
   "source": [
    "stressors['varroa_mites'] = pd.to_numeric(stressors['varroa_mites'])\n",
    "stressors['other_pest_parasites'] = pd.to_numeric(stressors['other_pest_parasites'])\n",
    "stressors['diseases'] = pd.to_numeric(stressors['diseases'])\n",
    "stressors['pesticides'] = pd.to_numeric(stressors['pesticides'])\n",
    "stressors['other'] = pd.to_numeric(stressors['other'])\n",
    "stressors['unknown'] = pd.to_numeric(stressors['unknown'])"
   ]
  },
  {
   "cell_type": "code",
   "execution_count": null,
   "id": "99b14d92",
   "metadata": {},
   "outputs": [],
   "source": [
    "stressors.head()"
   ]
  },
  {
   "cell_type": "code",
   "execution_count": null,
   "id": "df9483a2",
   "metadata": {},
   "outputs": [],
   "source": [
    "stressors['total'] = stressors['varroa_mites'] + stressors['other_pest_parasites'] + stressors['diseases'] + stressors['pesticides'] + stressors['other'] + stressors['unknown']"
   ]
  },
  {
   "cell_type": "code",
   "execution_count": null,
   "id": "df528909",
   "metadata": {},
   "outputs": [],
   "source": [
    "stressors['state'] = stressors['state'].str.replace('Other States 4', 'Other States')"
   ]
  },
  {
   "cell_type": "code",
   "execution_count": null,
   "id": "3d497367",
   "metadata": {
    "scrolled": true
   },
   "outputs": [],
   "source": [
    "stressors"
   ]
  },
  {
   "cell_type": "code",
   "execution_count": null,
   "id": "9b93e9e4",
   "metadata": {},
   "outputs": [],
   "source": [
    "stressors = stressors.loc[~stressors['year'].isin([2019, 2021])]"
   ]
  },
  {
   "cell_type": "code",
   "execution_count": null,
   "id": "c22ab641",
   "metadata": {},
   "outputs": [],
   "source": [
    "# csv for stressors_clean (for use in tableau)\n",
    "# stressors.to_csv('../data/honeybee_colonies/stressors_clean.csv')"
   ]
  },
  {
   "cell_type": "code",
   "execution_count": null,
   "id": "266b210a",
   "metadata": {},
   "outputs": [],
   "source": [
    "us_stressors = stressors.loc[stressors['state'] == 'United States']"
   ]
  },
  {
   "cell_type": "code",
   "execution_count": null,
   "id": "8555879d",
   "metadata": {
    "scrolled": false
   },
   "outputs": [],
   "source": [
    "us_stressors"
   ]
  },
  {
   "cell_type": "markdown",
   "id": "495e07c5",
   "metadata": {},
   "source": [
    "## avg stressors by year and state to find states with the highest precent of different stressors to see what is stressin where"
   ]
  },
  {
   "cell_type": "code",
   "execution_count": null,
   "id": "1abea765",
   "metadata": {},
   "outputs": [],
   "source": [
    "stressors_by_year = stressors.groupby(['state', 'year'])['varroa_mites', 'other_pest_parasites', 'diseases', 'pesticides', 'other', 'unknown'].mean().reset_index()"
   ]
  },
  {
   "cell_type": "code",
   "execution_count": null,
   "id": "03994f15",
   "metadata": {
    "scrolled": true
   },
   "outputs": [],
   "source": [
    "stressors_by_year"
   ]
  },
  {
   "cell_type": "markdown",
   "id": "34c4320a",
   "metadata": {},
   "source": [
    "### 3 Top states for honey production (which have all dipped over the past 5 years) and how varroa mites have changed in the last 5 years"
   ]
  },
  {
   "cell_type": "code",
   "execution_count": null,
   "id": "6014be87",
   "metadata": {},
   "outputs": [],
   "source": [
    "stressors_by_year.loc[stressors_by_year['state'] == 'North Dakota']"
   ]
  },
  {
   "cell_type": "code",
   "execution_count": null,
   "id": "34f34ed4",
   "metadata": {},
   "outputs": [],
   "source": [
    "stressors_by_year.loc[stressors_by_year['state'] == 'California']"
   ]
  },
  {
   "cell_type": "code",
   "execution_count": null,
   "id": "df56924f",
   "metadata": {
    "scrolled": true
   },
   "outputs": [],
   "source": [
    "stressors_by_year.loc[stressors_by_year['state'] == 'South Dakota']"
   ]
  },
  {
   "cell_type": "code",
   "execution_count": null,
   "id": "775df3c6",
   "metadata": {},
   "outputs": [],
   "source": [
    "top3_hony_prod_stress = stressors_by_year.loc[stressors_by_year['state'].isin(['North Dakota', 'South Dakota', 'California'])]"
   ]
  },
  {
   "cell_type": "code",
   "execution_count": null,
   "id": "e29771f5",
   "metadata": {},
   "outputs": [],
   "source": [
    "top3_hony_prod_stress"
   ]
  },
  {
   "cell_type": "markdown",
   "id": "a58810e7",
   "metadata": {},
   "source": [
    "## Below graphs show varroa changes in past 5 years of top 3 honey producing states. \n",
    "## 2 have an increase in varroa mites (top contributor to collony stressors, and causes other stressors like other virus/pathogens) and other does not, though it is a drought state, which is why it is likely California is not the top honey producer, despite having the most colonies by far\n",
    "\n",
    "Basically california is an interesting state for honey production because it has the most colonies, but not the highest honey yield, even though its varroa issue is not increasing, it starts higher than other top 3 honey producers, and as seen in way above graph, it does not produce as much honey per colony (again, drought state)"
   ]
  },
  {
   "cell_type": "code",
   "execution_count": null,
   "id": "099a02f2",
   "metadata": {},
   "outputs": [],
   "source": [
    "top3_hon_stress = sns.FacetGrid(top3_hony_prod_stress, col = 'state', \n",
    "                                hue = 'state',\n",
    "                                palette = ['forestgreen', 'teal', 'darkturquoise'],\n",
    "                                height = 6)\n",
    "top3_hon_stress.map(sns.barplot, 'year', 'varroa_mites')\n",
    "\n",
    "top3_hon_stress.fig.suptitle('Percent of Colonies Affected by Varroa in Top Honey Producing States', y = 1.05, fontsize = 22)\n",
    "top3_hon_stress.set_ylabels('Percent Affected', fontsize = 18);"
   ]
  },
  {
   "cell_type": "markdown",
   "id": "d650f382",
   "metadata": {},
   "source": [
    "### After looking at findings on honey production per colony, I should look at the correlation of stressors to honey yield"
   ]
  },
  {
   "cell_type": "code",
   "execution_count": null,
   "id": "77c05614",
   "metadata": {
    "scrolled": false
   },
   "outputs": [],
   "source": [
    "honey_yield.head()"
   ]
  },
  {
   "cell_type": "code",
   "execution_count": null,
   "id": "effe4e9a",
   "metadata": {},
   "outputs": [],
   "source": [
    "honey_yield.shape"
   ]
  },
  {
   "cell_type": "code",
   "execution_count": null,
   "id": "637595ea",
   "metadata": {},
   "outputs": [],
   "source": [
    "# cutting out the years in honey yield that are not in stressors for a smooth merge\n",
    "honey_yield_fit = honey_yield.loc[~honey_yield['year'].isin([2019, 2021])]"
   ]
  },
  {
   "cell_type": "code",
   "execution_count": null,
   "id": "fa390149",
   "metadata": {
    "scrolled": true
   },
   "outputs": [],
   "source": [
    "honey_yield_fit.state.unique()"
   ]
  },
  {
   "cell_type": "code",
   "execution_count": null,
   "id": "d33faeb9",
   "metadata": {},
   "outputs": [],
   "source": [
    "honey_yield_fit.head()"
   ]
  },
  {
   "cell_type": "code",
   "execution_count": null,
   "id": "123491aa",
   "metadata": {
    "scrolled": true
   },
   "outputs": [],
   "source": [
    "stressors_by_year.head()"
   ]
  },
  {
   "cell_type": "code",
   "execution_count": null,
   "id": "817b8b1e",
   "metadata": {},
   "outputs": [],
   "source": [
    "stressors_by_year.state.unique()"
   ]
  },
  {
   "cell_type": "code",
   "execution_count": null,
   "id": "c9a6d0db",
   "metadata": {},
   "outputs": [],
   "source": [
    "#stressors have data on more states than honey, left join on stressors by year, should have the same amount of columns as stressors by year\n",
    "stressors_by_year.shape"
   ]
  },
  {
   "cell_type": "code",
   "execution_count": null,
   "id": "f5cdca56",
   "metadata": {},
   "outputs": [],
   "source": [
    "yearlystressors_honey = pd.merge(stressors_by_year, honey_yield_fit, how = 'left', on = ['state', 'year'])"
   ]
  },
  {
   "cell_type": "code",
   "execution_count": null,
   "id": "94840b82",
   "metadata": {},
   "outputs": [],
   "source": [
    "# shape looks good\n",
    "yearlystressors_honey"
   ]
  },
  {
   "cell_type": "code",
   "execution_count": null,
   "id": "a08a2344",
   "metadata": {
    "scrolled": true
   },
   "outputs": [],
   "source": [
    "np.corrcoef(yearlystressors_honey['varroa_mites'], yearlystressors_honey['yield_per_colony_pounds'])"
   ]
  },
  {
   "cell_type": "code",
   "execution_count": null,
   "id": "2be937b3",
   "metadata": {},
   "outputs": [],
   "source": [
    "# this is probably a mess because it is all the states, and also the US as a total is a state look at just 'state' US\n",
    "yearlystressors_honey.corr()"
   ]
  },
  {
   "cell_type": "code",
   "execution_count": null,
   "id": "c0e23065",
   "metadata": {},
   "outputs": [],
   "source": [
    "# interesting correlations with yield per colony pounds and varroa mites\n",
    "us_yearlystressors_honey = yearlystressors_honey.loc[yearlystressors_honey['state'] == 'United States']"
   ]
  },
  {
   "cell_type": "code",
   "execution_count": null,
   "id": "63a3f93a",
   "metadata": {},
   "outputs": [],
   "source": [
    "us_yearlystressors_honey.corr()"
   ]
  },
  {
   "cell_type": "code",
   "execution_count": null,
   "id": "4e00752a",
   "metadata": {},
   "outputs": [],
   "source": [
    "# so if i am understanding this right, there is little correlation with yields in pounds and varroa mites themselves, \n",
    "# but there is a correlation between having varroa and getting other diseases, being affected by pesticides, and other/unknown\n",
    "# stressors, many of which do have an affect on yield per colony \n",
    "yearlystressors_honey.loc[yearlystressors_honey['state'] == 'California'].corr()"
   ]
  },
  {
   "cell_type": "code",
   "execution_count": null,
   "id": "52138f20",
   "metadata": {},
   "outputs": [],
   "source": [
    "yearlystressors_honey.head()"
   ]
  },
  {
   "cell_type": "code",
   "execution_count": null,
   "id": "62de5ff3",
   "metadata": {
    "scrolled": true
   },
   "outputs": [],
   "source": [
    "# for over all us corrlelations, just having 5 points does not look great on a graph, maybe just show a table of correlations\n",
    "sns.scatterplot(data = yearlystressors_honey.loc[yearlystressors_honey['state'].isin(['United States'])], \n",
    "                x = 'varroa_mites', \n",
    "                y = 'unknown')"
   ]
  },
  {
   "cell_type": "code",
   "execution_count": null,
   "id": "c053ef43",
   "metadata": {
    "scrolled": false
   },
   "outputs": [],
   "source": [
    "# add collony collapse info below\n",
    "us_yearlystressors_honey"
   ]
  },
  {
   "cell_type": "markdown",
   "id": "250e4161",
   "metadata": {},
   "source": [
    "### Look at correlations between seasonal collapse numbers"
   ]
  },
  {
   "cell_type": "code",
   "execution_count": null,
   "id": "4fe921e2",
   "metadata": {},
   "outputs": [],
   "source": [
    "collapse_disorder['total_collapse'] = collapse_disorder['jan-mar'] + collapse_disorder['apr-jun'] + collapse_disorder['jul-sep'] + collapse_disorder['oct-dec']"
   ]
  },
  {
   "cell_type": "code",
   "execution_count": null,
   "id": "d2f84fd5",
   "metadata": {
    "scrolled": false
   },
   "outputs": [],
   "source": [
    "collapse_disorder"
   ]
  },
  {
   "cell_type": "code",
   "execution_count": null,
   "id": "8c7814fa",
   "metadata": {},
   "outputs": [],
   "source": [
    "us_yearlystressors_collapse = pd.merge(us_yearlystressors_honey, collapse_disorder, how = 'outer', on = 'year')"
   ]
  },
  {
   "cell_type": "code",
   "execution_count": null,
   "id": "033a19ce",
   "metadata": {
    "scrolled": true
   },
   "outputs": [],
   "source": [
    "us_yearlystressors_collapse.corr()"
   ]
  },
  {
   "cell_type": "code",
   "execution_count": null,
   "id": "820c7c09",
   "metadata": {},
   "outputs": [],
   "source": [
    "# correlation between stressors and collapse seasons\n",
    "us_yearlystressors_collapse_cor_col = us_yearlystressors_collapse[['varroa_mites', 'other_pest_parasites', 'diseases', 'pesticides', 'other', 'unknown', 'jan-mar', 'apr-jun', 'jul-sep', 'oct-dec']]"
   ]
  },
  {
   "cell_type": "code",
   "execution_count": null,
   "id": "1a4b386b",
   "metadata": {},
   "outputs": [],
   "source": [
    "us_stress_collapse_cor = us_yearlystressors_collapse_cor_col.corr()"
   ]
  },
  {
   "cell_type": "code",
   "execution_count": null,
   "id": "a7f6bce8",
   "metadata": {},
   "outputs": [],
   "source": [
    "# i think this is showing no strong correlation between collapse and others stressors (except they both increase in winter)\n",
    "# this lack of correlation is likely because by definition, collapse disorder is not caused by other stressors, but it \n",
    "# is prevalent in winter months\n",
    "plt.figure(figsize = (10,6))\n",
    "mask = np.triu(np.ones_like(us_stress_collapse_cor, dtype=bool))\n",
    "sns.heatmap(us_stress_collapse_cor, annot = True, vmax = 1, vmin = -1, center = 0, cmap = 'vlag', mask=mask)"
   ]
  },
  {
   "cell_type": "markdown",
   "id": "491dcad4",
   "metadata": {},
   "source": [
    "## back to stressors/honey production correlations"
   ]
  },
  {
   "cell_type": "code",
   "execution_count": null,
   "id": "4b2fc495",
   "metadata": {},
   "outputs": [],
   "source": [
    "#get just columns for correlation table \n",
    "us_yearlystressors_honey_cor_col = us_yearlystressors_honey[['varroa_mites', 'other_pest_parasites', 'diseases', 'pesticides', 'other', 'unknown', 'yield_per_colony_pounds']]"
   ]
  },
  {
   "cell_type": "code",
   "execution_count": null,
   "id": "303b444c",
   "metadata": {},
   "outputs": [],
   "source": [
    "# note when presenting other pests/parasites = tracheal mites, nosema, hive beetle, wax moths, and more\n",
    "# disease refers to American and European foulbrood, chalkbrood, stonebrood, paralysis (acute and chronic), kashmir, deformed wing, sacbrood, IAPV, Lake Sinai II, etc.\n",
    "# other refers to weather, starvation, insufficient forage, queen failure, hive damage/destroyed, etc.\n",
    "us_yearlystressors_honey_cor_col.columns = ['Varroa Mites', 'Other Parasites', 'Disease', 'Pesticides', 'Other', 'Unknown', 'Yield per Colony in Pounds']"
   ]
  },
  {
   "cell_type": "code",
   "execution_count": null,
   "id": "0b74cbbc",
   "metadata": {},
   "outputs": [],
   "source": [
    "us_stress_honey_cor = us_yearlystressors_honey_cor_col.corr()"
   ]
  },
  {
   "cell_type": "code",
   "execution_count": null,
   "id": "4c07c4e1",
   "metadata": {},
   "outputs": [],
   "source": [
    "plt.figure(figsize = (10,6))\n",
    "mask = np.triu(np.ones_like(us_stress_honey_cor, dtype=bool))\n",
    "sns.heatmap(us_stress_honey_cor, annot = True, vmax = 1, vmin = -1, center = 0, cmap = 'vlag', mask=mask)"
   ]
  },
  {
   "cell_type": "markdown",
   "id": "3e640b7f",
   "metadata": {},
   "source": [
    "### While Im at it, I will look in to correlation of stressors to colony size and colony losses as well"
   ]
  },
  {
   "cell_type": "code",
   "execution_count": null,
   "id": "8ec51c5b",
   "metadata": {
    "scrolled": true
   },
   "outputs": [],
   "source": [
    "stressors.head()"
   ]
  },
  {
   "cell_type": "code",
   "execution_count": null,
   "id": "22d5f9c9",
   "metadata": {},
   "outputs": [],
   "source": [
    "stressors.shape"
   ]
  },
  {
   "cell_type": "code",
   "execution_count": null,
   "id": "0a85be08",
   "metadata": {},
   "outputs": [],
   "source": [
    "colony_counts_cut = colony_counts.loc[~colony_counts['year'].isin([2019,2021])]"
   ]
  },
  {
   "cell_type": "code",
   "execution_count": null,
   "id": "d8f56d92",
   "metadata": {},
   "outputs": [],
   "source": [
    "colony_counts_cut['state'] = colony_counts_cut['state'].str.replace('Other States 5', 'Other States')"
   ]
  },
  {
   "cell_type": "code",
   "execution_count": null,
   "id": "e16d82ed",
   "metadata": {},
   "outputs": [],
   "source": [
    "colony_counts_cut.head()"
   ]
  },
  {
   "cell_type": "code",
   "execution_count": null,
   "id": "842b5480",
   "metadata": {},
   "outputs": [],
   "source": [
    "colony_counts_cut.shape"
   ]
  },
  {
   "cell_type": "code",
   "execution_count": null,
   "id": "f5fd5ba7",
   "metadata": {},
   "outputs": [],
   "source": [
    "# they should completely overlap, doing outer to ensure merge is good\n",
    "stress_colcount = pd.merge(stressors, colony_counts_cut, how = 'outer', on = ['state', 'year', 'period'])"
   ]
  },
  {
   "cell_type": "code",
   "execution_count": null,
   "id": "0ee6c42a",
   "metadata": {},
   "outputs": [],
   "source": [
    "# looks good\n",
    "stress_colcount"
   ]
  },
  {
   "cell_type": "code",
   "execution_count": null,
   "id": "06d8f298",
   "metadata": {},
   "outputs": [],
   "source": [
    "# too many variables, maybe collect by period\n",
    "stress_colcount.corr()"
   ]
  },
  {
   "cell_type": "code",
   "execution_count": null,
   "id": "ce3e60f1",
   "metadata": {},
   "outputs": [],
   "source": [
    "stress_colcount_jan = stress_colcount.loc[stress_colcount['period'] == 'jan-mar']"
   ]
  },
  {
   "cell_type": "code",
   "execution_count": null,
   "id": "51ce16bf",
   "metadata": {
    "scrolled": true
   },
   "outputs": [],
   "source": [
    "stress_colcount_jan.corr()"
   ]
  },
  {
   "cell_type": "code",
   "execution_count": null,
   "id": "6283444e",
   "metadata": {},
   "outputs": [],
   "source": [
    "stress_colcount_jul = stress_colcount.loc[stress_colcount['period'] == 'jul-sep']"
   ]
  },
  {
   "cell_type": "code",
   "execution_count": null,
   "id": "4bd4c09b",
   "metadata": {
    "scrolled": true
   },
   "outputs": [],
   "source": [
    "stress_colcount_jul.corr()"
   ]
  },
  {
   "cell_type": "code",
   "execution_count": null,
   "id": "73c22129",
   "metadata": {},
   "outputs": [],
   "source": [
    "stress_colcount.loc[stress_colcount['period'] == 'apr-jun'].corr()"
   ]
  },
  {
   "cell_type": "code",
   "execution_count": null,
   "id": "e75399b1",
   "metadata": {},
   "outputs": [],
   "source": [
    "stress_colcount.loc[stress_colcount['period'] == 'oct-dec'].corr()"
   ]
  },
  {
   "cell_type": "markdown",
   "id": "0888dacc",
   "metadata": {},
   "source": [
    "## cant find strong correlation between stressors and colony numbers, i think this is because while % affected by stress can determine health (which i am measuring by honey yield) over all colonies can be affected by stressors whether there are many colonies or not"
   ]
  },
  {
   "cell_type": "code",
   "execution_count": null,
   "id": "34cde40c",
   "metadata": {},
   "outputs": [],
   "source": [
    "#need melt here i think\n",
    "collapse_disorder"
   ]
  },
  {
   "cell_type": "code",
   "execution_count": null,
   "id": "ca4ccbc7",
   "metadata": {},
   "outputs": [],
   "source": [
    "collapse_disorder_melt = collapse_disorder.melt('year')"
   ]
  },
  {
   "cell_type": "code",
   "execution_count": null,
   "id": "6b5a54a4",
   "metadata": {},
   "outputs": [],
   "source": [
    "collapse_disorder_melt.columns = ['year', 'period', 'collapsed_colonies']"
   ]
  },
  {
   "cell_type": "code",
   "execution_count": null,
   "id": "2c4415c6",
   "metadata": {
    "scrolled": true
   },
   "outputs": [],
   "source": [
    "collapse_disorder_melt"
   ]
  },
  {
   "cell_type": "code",
   "execution_count": null,
   "id": "c57110e7",
   "metadata": {},
   "outputs": [],
   "source": [
    "# make this look nicer\n",
    "collapse_grid = sns.FacetGrid(collapse_disorder_melt, col = 'year')\n",
    "collapse_grid.map(sns.barplot, 'period', 'collapsed_colonies')"
   ]
  }
 ],
 "metadata": {
  "kernelspec": {
   "display_name": "Python 3 (ipykernel)",
   "language": "python",
   "name": "python3"
  },
  "language_info": {
   "codemirror_mode": {
    "name": "ipython",
    "version": 3
   },
   "file_extension": ".py",
   "mimetype": "text/x-python",
   "name": "python",
   "nbconvert_exporter": "python",
   "pygments_lexer": "ipython3",
   "version": "3.9.7"
  }
 },
 "nbformat": 4,
 "nbformat_minor": 5
}
