{
 "cells": [
  {
   "cell_type": "code",
   "execution_count": null,
   "id": "b55f76e1",
   "metadata": {},
   "outputs": [],
   "source": [
    "import pandas as pd\n",
    "import matplotlib.pyplot as plt\n",
    "import seaborn as sns"
   ]
  },
  {
   "cell_type": "code",
   "execution_count": null,
   "id": "ede051b3",
   "metadata": {},
   "outputs": [],
   "source": [
    "colony_numbers = pd.read_excel('../data/honeybee_colonies/hcny0821.xlsx', sheet_name='colonies_lost_added')"
   ]
  },
  {
   "cell_type": "code",
   "execution_count": null,
   "id": "621d78e5",
   "metadata": {},
   "outputs": [],
   "source": [
    "colony_numbers.head()"
   ]
  },
  {
   "cell_type": "code",
   "execution_count": null,
   "id": "24c3639b",
   "metadata": {
    "scrolled": true
   },
   "outputs": [],
   "source": [
    "colony_aprjun20 = pd.read_csv('../data/honeybee_colonies/hcny0821.csv', skiprows = 150, nrows = 47, encoding='cp1252')"
   ]
  },
  {
   "cell_type": "code",
   "execution_count": null,
   "id": "7f38e40c",
   "metadata": {},
   "outputs": [],
   "source": [
    "colony_aprjun20.columns = ['state', 'start_colonies', 'max_colonies', 'lost_colonies', 'percent_lost', 'added_colonies', 'renovated', 'percent_renovated']"
   ]
  },
  {
   "cell_type": "code",
   "execution_count": null,
   "id": "63403bf6",
   "metadata": {},
   "outputs": [],
   "source": [
    "colony_aprjun20.head()"
   ]
  },
  {
   "cell_type": "code",
   "execution_count": null,
   "id": "b24650cf",
   "metadata": {},
   "outputs": [],
   "source": [
    "colony_counts = pd.read_csv('../data/honeybee_colonies/colony_counts.csv')"
   ]
  },
  {
   "cell_type": "code",
   "execution_count": null,
   "id": "a6f3ca08",
   "metadata": {},
   "outputs": [],
   "source": [
    "colony_counts.head()"
   ]
  },
  {
   "cell_type": "code",
   "execution_count": null,
   "id": "189a8ec8",
   "metadata": {},
   "outputs": [],
   "source": [
    "colony_counts = colony_counts.drop(columns = 'Unnamed: 0')"
   ]
  },
  {
   "cell_type": "code",
   "execution_count": null,
   "id": "195e6bfa",
   "metadata": {},
   "outputs": [],
   "source": [
    "# looks like this df works! \n",
    "colony_counts.head()"
   ]
  },
  {
   "cell_type": "code",
   "execution_count": null,
   "id": "e8451045",
   "metadata": {},
   "outputs": [],
   "source": []
  }
 ],
 "metadata": {
  "kernelspec": {
   "display_name": "Python 3 (ipykernel)",
   "language": "python",
   "name": "python3"
  },
  "language_info": {
   "codemirror_mode": {
    "name": "ipython",
    "version": 3
   },
   "file_extension": ".py",
   "mimetype": "text/x-python",
   "name": "python",
   "nbconvert_exporter": "python",
   "pygments_lexer": "ipython3",
   "version": "3.9.7"
  }
 },
 "nbformat": 4,
 "nbformat_minor": 5
}
