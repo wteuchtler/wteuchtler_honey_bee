{
 "cells": [
  {
   "cell_type": "markdown",
   "id": "01dc4208",
   "metadata": {},
   "source": [
    "### save what you scrape as a file so you dont scrape the site again and again"
   ]
  },
  {
   "cell_type": "code",
   "execution_count": null,
   "id": "999d2837",
   "metadata": {
    "scrolled": true
   },
   "outputs": [],
   "source": [
    "#pip install tabula-py (did this already)\n",
    "# pip install pdftables (could not get this to work)\n",
    "#!pip install \"camelot-py[cv]\"(did this already)\n",
    "#!apt install python3-tk ghostscript (this one did not work)"
   ]
  },
  {
   "cell_type": "code",
   "execution_count": null,
   "id": "67e505fe",
   "metadata": {
    "scrolled": true
   },
   "outputs": [],
   "source": [
    "import pandas as pd\n",
    "import tabula\n",
    "# (could not get the pip instal to work) import pdftables\n",
    "import camelot"
   ]
  },
  {
   "cell_type": "markdown",
   "id": "2e3438c8",
   "metadata": {},
   "source": [
    "## Installed and imported tabula to use read_pdf, which will read the tables in the pdf... so far its looking like a mess"
   ]
  },
  {
   "cell_type": "code",
   "execution_count": null,
   "id": "c6367586",
   "metadata": {},
   "outputs": [],
   "source": [
    "tables = tabula.read_pdf('../data/hcny0821.pdf', pages='3')"
   ]
  },
  {
   "cell_type": "code",
   "execution_count": null,
   "id": "d1d1f386",
   "metadata": {},
   "outputs": [],
   "source": [
    "# this looks bad! it does seem to have all the info though, just added columns with full nans,\n",
    "# and i will have to figure out how to get things in the correct tables... but this is all the pdf tables...\n",
    "tables"
   ]
  },
  {
   "cell_type": "code",
   "execution_count": null,
   "id": "21135b09",
   "metadata": {},
   "outputs": [],
   "source": [
    "type(tables)"
   ]
  },
  {
   "cell_type": "code",
   "execution_count": null,
   "id": "1d638260",
   "metadata": {},
   "outputs": [],
   "source": [
    "#tables_cam = camelot.read_pdf('../data/hcny0821.pdf')\n",
    "# wont work because my ghostscript install didnt work "
   ]
  },
  {
   "cell_type": "code",
   "execution_count": null,
   "id": "a383044b",
   "metadata": {
    "scrolled": true
   },
   "outputs": [],
   "source": [
    "tables[0]"
   ]
  },
  {
   "cell_type": "code",
   "execution_count": null,
   "id": "b96e8b0b",
   "metadata": {},
   "outputs": [],
   "source": [
    "tables[0].iloc[3]"
   ]
  },
  {
   "cell_type": "code",
   "execution_count": null,
   "id": "ee99b1a1",
   "metadata": {},
   "outputs": [],
   "source": [
    "tables_all = tabula.read_pdf('../data/hcny0821.pdf', pages='all')"
   ]
  },
  {
   "cell_type": "code",
   "execution_count": null,
   "id": "43a9e57d",
   "metadata": {},
   "outputs": [],
   "source": [
    "tables_all"
   ]
  },
  {
   "cell_type": "code",
   "execution_count": null,
   "id": "45bbe416",
   "metadata": {
    "scrolled": true
   },
   "outputs": [],
   "source": [
    "tables_all[0]"
   ]
  },
  {
   "cell_type": "code",
   "execution_count": null,
   "id": "001be607",
   "metadata": {},
   "outputs": [],
   "source": [
    "type(tables_all[0])"
   ]
  },
  {
   "cell_type": "code",
   "execution_count": null,
   "id": "c29cc09e",
   "metadata": {},
   "outputs": [],
   "source": [
    "tables_all[0].iloc[0]"
   ]
  },
  {
   "cell_type": "code",
   "execution_count": null,
   "id": "3304953b",
   "metadata": {},
   "outputs": [],
   "source": [
    "tables_all[1]"
   ]
  },
  {
   "cell_type": "code",
   "execution_count": null,
   "id": "05a9ac23",
   "metadata": {},
   "outputs": [],
   "source": [
    "tables_all[3]"
   ]
  },
  {
   "cell_type": "code",
   "execution_count": null,
   "id": "0a5d5dd6",
   "metadata": {},
   "outputs": [],
   "source": []
  }
 ],
 "metadata": {
  "kernelspec": {
   "display_name": "Python 3 (ipykernel)",
   "language": "python",
   "name": "python3"
  },
  "language_info": {
   "codemirror_mode": {
    "name": "ipython",
    "version": 3
   },
   "file_extension": ".py",
   "mimetype": "text/x-python",
   "name": "python",
   "nbconvert_exporter": "python",
   "pygments_lexer": "ipython3",
   "version": "3.9.7"
  }
 },
 "nbformat": 4,
 "nbformat_minor": 5
}
