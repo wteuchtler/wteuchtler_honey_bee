{
 "cells": [
  {
   "cell_type": "markdown",
   "id": "462a17fc",
   "metadata": {},
   "source": [
    "NASS Honey reports from 2017-2022. honey_yield table and expenditures table (maybe look at pollination and other income later if it is useful)\n",
    "\n",
    "data from https://usda.library.cornell.edu/concern/publications/hd76s004z?locale=en\n",
    "\n",
    "pdf converted to excel with https://www.investintech.com/pdf-to-excel/ which works well with partial tables, then converted to csv to read in"
   ]
  },
  {
   "cell_type": "markdown",
   "id": "1e0d2bbb",
   "metadata": {},
   "source": [
    "notes: any overlap period between reports, I use the most recent report (they are usually the same with minor differences)"
   ]
  },
  {
   "cell_type": "code",
   "execution_count": null,
   "id": "873c1009",
   "metadata": {},
   "outputs": [],
   "source": [
    "import pandas as pd\n",
    "import matplotlib.pyplot as plt\n",
    "import seaborn as sns"
   ]
  },
  {
   "cell_type": "markdown",
   "id": "18a8ca71",
   "metadata": {},
   "source": [
    "## Honey Yield\n",
    "\n",
    "### From hony17 (reported in 2017, for year 2015)"
   ]
  },
  {
   "cell_type": "code",
   "execution_count": null,
   "id": "bf4e3074",
   "metadata": {},
   "outputs": [],
   "source": [
    "yield_15 = pd.read_csv('../data/honey_nass/hony17.csv', skiprows = 54, nrows = 42, encoding='cp1252')"
   ]
  },
  {
   "cell_type": "code",
   "execution_count": null,
   "id": "e1afbfd9",
   "metadata": {},
   "outputs": [],
   "source": [
    "yield_15.head()"
   ]
  },
  {
   "cell_type": "code",
   "execution_count": null,
   "id": "9f1bcf70",
   "metadata": {},
   "outputs": [],
   "source": [
    "yield_15.columns = ['state', 'honey_producing_colony_thousands', 'yield_per_colony_pounds', 'production_1000_pounds', 'stocks_dec_15_1000_pounds', 'avg_price_per_pound_cents', 'value_1000_dollars', 'year']"
   ]
  },
  {
   "cell_type": "code",
   "execution_count": null,
   "id": "4015c735",
   "metadata": {},
   "outputs": [],
   "source": [
    "yield_15['year'] = 2015"
   ]
  },
  {
   "cell_type": "code",
   "execution_count": null,
   "id": "9d2a0bd7",
   "metadata": {},
   "outputs": [],
   "source": [
    "yield_15.head()"
   ]
  },
  {
   "cell_type": "markdown",
   "id": "e40c0dff",
   "metadata": {},
   "source": [
    "### From hony18 (reported in 2018, for year 2016)"
   ]
  },
  {
   "cell_type": "code",
   "execution_count": null,
   "id": "de52bf87",
   "metadata": {},
   "outputs": [],
   "source": [
    "yield_16 = pd.read_csv('../data/honey_nass/hony18.csv', skiprows = 46, nrows = 42, encoding='cp1252')"
   ]
  },
  {
   "cell_type": "code",
   "execution_count": null,
   "id": "f7a8fb5c",
   "metadata": {},
   "outputs": [],
   "source": [
    "yield_16.columns = ['state', 'honey_producing_colony_thousands', 'yield_per_colony_pounds', 'production_1000_pounds', 'stocks_dec_15_1000_pounds', 'avg_price_per_pound_cents', 'value_1000_dollars', 'year']"
   ]
  },
  {
   "cell_type": "code",
   "execution_count": null,
   "id": "2d4d692b",
   "metadata": {},
   "outputs": [],
   "source": [
    "yield_16['year'] = 2016"
   ]
  },
  {
   "cell_type": "code",
   "execution_count": null,
   "id": "3209749d",
   "metadata": {},
   "outputs": [],
   "source": [
    "yield_16.head()"
   ]
  },
  {
   "cell_type": "markdown",
   "id": "6af93bcd",
   "metadata": {},
   "source": [
    "### From hony19 (reported in 2019, for year 2017)"
   ]
  },
  {
   "cell_type": "code",
   "execution_count": null,
   "id": "6b88f86f",
   "metadata": {},
   "outputs": [],
   "source": [
    "yield_17 = pd.read_csv('../data/honey_nass/hony19.csv', skiprows = 47, nrows = 42, encoding='cp1252')"
   ]
  },
  {
   "cell_type": "code",
   "execution_count": null,
   "id": "917fd67e",
   "metadata": {},
   "outputs": [],
   "source": [
    "yield_17.columns = ['state', 'honey_producing_colony_thousands', 'yield_per_colony_pounds', 'production_1000_pounds', 'stocks_dec_15_1000_pounds', 'avg_price_per_pound_cents', 'value_1000_dollars', 'year']"
   ]
  },
  {
   "cell_type": "code",
   "execution_count": null,
   "id": "44a67c98",
   "metadata": {},
   "outputs": [],
   "source": [
    "yield_17['year'] = 2017"
   ]
  },
  {
   "cell_type": "code",
   "execution_count": null,
   "id": "370a98e4",
   "metadata": {},
   "outputs": [],
   "source": [
    "yield_17.head()"
   ]
  },
  {
   "cell_type": "markdown",
   "id": "e52ecfe5",
   "metadata": {},
   "source": [
    "### From hony20 (reported in 2020, for year 2018)"
   ]
  },
  {
   "cell_type": "code",
   "execution_count": null,
   "id": "7ca1c8ca",
   "metadata": {},
   "outputs": [],
   "source": [
    "yield_18 = pd.read_csv('../data/honey_nass/hony20.csv', skiprows = 45, nrows = 42, encoding='cp1252')"
   ]
  },
  {
   "cell_type": "code",
   "execution_count": null,
   "id": "08de515d",
   "metadata": {},
   "outputs": [],
   "source": [
    "yield_18.columns = ['state', 'honey_producing_colony_thousands', 'yield_per_colony_pounds', 'production_1000_pounds', 'stocks_dec_15_1000_pounds', 'avg_price_per_pound_dollars', 'value_1000_dollars', 'year']"
   ]
  },
  {
   "cell_type": "code",
   "execution_count": null,
   "id": "a45eba57",
   "metadata": {},
   "outputs": [],
   "source": [
    "yield_18['year'] = 2018"
   ]
  },
  {
   "cell_type": "code",
   "execution_count": null,
   "id": "28dc6d93",
   "metadata": {},
   "outputs": [],
   "source": [
    "yield_18.head()"
   ]
  },
  {
   "cell_type": "markdown",
   "id": "98c7f64a",
   "metadata": {},
   "source": [
    "### From hony21 (reported in 2021, for year 2019)"
   ]
  },
  {
   "cell_type": "code",
   "execution_count": null,
   "id": "c2e69783",
   "metadata": {},
   "outputs": [],
   "source": [
    "yield_19 = pd.read_csv('../data/honey_nass/hony21.csv', skiprows = 38, nrows = 43, encoding='cp1252')"
   ]
  },
  {
   "cell_type": "code",
   "execution_count": null,
   "id": "8e041bd6",
   "metadata": {},
   "outputs": [],
   "source": [
    "yield_19 = yield_19.drop([41])"
   ]
  },
  {
   "cell_type": "code",
   "execution_count": null,
   "id": "0c91c4fc",
   "metadata": {},
   "outputs": [],
   "source": [
    "yield_19 = yield_19.reset_index(drop = True)"
   ]
  },
  {
   "cell_type": "code",
   "execution_count": null,
   "id": "8a203652",
   "metadata": {},
   "outputs": [],
   "source": [
    "yield_19.columns = ['state', 'honey_producing_colony_thousands', 'yield_per_colony_pounds', 'production_1000_pounds', 'stocks_dec_15_1000_pounds', 'avg_price_per_pound_dollars', 'value_1000_dollars', 'year']"
   ]
  },
  {
   "cell_type": "code",
   "execution_count": null,
   "id": "da528960",
   "metadata": {},
   "outputs": [],
   "source": [
    "yield_19['year'] = 2019"
   ]
  },
  {
   "cell_type": "code",
   "execution_count": null,
   "id": "2c6bef26",
   "metadata": {},
   "outputs": [],
   "source": [
    "yield_19.head()"
   ]
  },
  {
   "cell_type": "markdown",
   "id": "eed578dc",
   "metadata": {},
   "source": [
    "### From hony22 (reported in 2022, for years 2020-2021)"
   ]
  },
  {
   "cell_type": "code",
   "execution_count": null,
   "id": "221f5130",
   "metadata": {},
   "outputs": [],
   "source": [
    "yield_20 = pd.read_csv('../data/honey_nass/hony22.csv', skiprows = 38, nrows = 43, encoding='cp1252')"
   ]
  },
  {
   "cell_type": "code",
   "execution_count": null,
   "id": "ebdcc219",
   "metadata": {},
   "outputs": [],
   "source": [
    "yield_20.tail()"
   ]
  },
  {
   "cell_type": "code",
   "execution_count": null,
   "id": "8ea5754b",
   "metadata": {},
   "outputs": [],
   "source": [
    "yield_20 = yield_20.drop([41])"
   ]
  },
  {
   "cell_type": "code",
   "execution_count": null,
   "id": "76a6a014",
   "metadata": {},
   "outputs": [],
   "source": [
    "yield_20 = yield_20.reset_index(drop = True)"
   ]
  },
  {
   "cell_type": "code",
   "execution_count": null,
   "id": "b7ff2739",
   "metadata": {},
   "outputs": [],
   "source": [
    "yield_20.columns = ['state', 'honey_producing_colony_thousands', 'yield_per_colony_pounds', 'production_1000_pounds', 'stocks_dec_15_1000_pounds', 'avg_price_per_pound_dollars', 'value_1000_dollars', 'year']"
   ]
  },
  {
   "cell_type": "code",
   "execution_count": null,
   "id": "f064fe02",
   "metadata": {},
   "outputs": [],
   "source": [
    "yield_20['year'] = 2020"
   ]
  },
  {
   "cell_type": "code",
   "execution_count": null,
   "id": "71876852",
   "metadata": {},
   "outputs": [],
   "source": [
    "yield_20.head()"
   ]
  },
  {
   "cell_type": "code",
   "execution_count": null,
   "id": "4181cf7f",
   "metadata": {},
   "outputs": [],
   "source": [
    "yield_21 = pd.read_csv('../data/honey_nass/hony22.csv', skiprows = 100, nrows = 43, encoding='cp1252')"
   ]
  },
  {
   "cell_type": "code",
   "execution_count": null,
   "id": "ab44f3d4",
   "metadata": {},
   "outputs": [],
   "source": [
    "yield_21 = yield_21.drop([41])"
   ]
  },
  {
   "cell_type": "code",
   "execution_count": null,
   "id": "0764fc94",
   "metadata": {},
   "outputs": [],
   "source": [
    "yield_21 = yield_21.reset_index(drop = True)"
   ]
  },
  {
   "cell_type": "code",
   "execution_count": null,
   "id": "0622bcaa",
   "metadata": {},
   "outputs": [],
   "source": [
    "yield_21.columns = ['state', 'honey_producing_colony_thousands', 'yield_per_colony_pounds', 'production_1000_pounds', 'stocks_dec_15_1000_pounds', 'avg_price_per_pound_dollars', 'value_1000_dollars', 'year']"
   ]
  },
  {
   "cell_type": "code",
   "execution_count": null,
   "id": "80865386",
   "metadata": {},
   "outputs": [],
   "source": [
    "yield_21['year'] = 2021"
   ]
  },
  {
   "cell_type": "code",
   "execution_count": null,
   "id": "52e83ace",
   "metadata": {},
   "outputs": [],
   "source": [
    "yield_21.tail()"
   ]
  },
  {
   "cell_type": "markdown",
   "id": "a9951dbe",
   "metadata": {},
   "source": [
    "### change yield 15 16 and 17 to have average price per pound in dollars instead of cents"
   ]
  },
  {
   "cell_type": "code",
   "execution_count": null,
   "id": "7488fd83",
   "metadata": {},
   "outputs": [],
   "source": [
    "yield_15.head()"
   ]
  },
  {
   "cell_type": "code",
   "execution_count": null,
   "id": "a4809853",
   "metadata": {},
   "outputs": [],
   "source": [
    "yield_15['avg_price_per_pound_cents'] = round(yield_15['avg_price_per_pound_cents'] / 100, 2)"
   ]
  },
  {
   "cell_type": "code",
   "execution_count": null,
   "id": "a07ef67a",
   "metadata": {},
   "outputs": [],
   "source": [
    "yield_15 = yield_15.rename(columns = {'avg_price_per_pound_cents': 'avg_price_per_pound_dollars'})"
   ]
  },
  {
   "cell_type": "code",
   "execution_count": null,
   "id": "3b3c0729",
   "metadata": {},
   "outputs": [],
   "source": [
    "yield_15.head()"
   ]
  },
  {
   "cell_type": "code",
   "execution_count": null,
   "id": "4defb8a3",
   "metadata": {},
   "outputs": [],
   "source": [
    "yield_16['avg_price_per_pound_cents'] = round(yield_16['avg_price_per_pound_cents'] / 100, 2)"
   ]
  },
  {
   "cell_type": "code",
   "execution_count": null,
   "id": "a35f35a5",
   "metadata": {},
   "outputs": [],
   "source": [
    "yield_16 = yield_16.rename(columns = {'avg_price_per_pound_cents': 'avg_price_per_pound_dollars'})"
   ]
  },
  {
   "cell_type": "code",
   "execution_count": null,
   "id": "d62d1625",
   "metadata": {},
   "outputs": [],
   "source": [
    "yield_17['avg_price_per_pound_cents'] = round(yield_17['avg_price_per_pound_cents'] / 100, 2)"
   ]
  },
  {
   "cell_type": "code",
   "execution_count": null,
   "id": "7fdae03b",
   "metadata": {},
   "outputs": [],
   "source": [
    "yield_17 = yield_17.rename(columns = {'avg_price_per_pound_cents': 'avg_price_per_pound_dollars'})"
   ]
  },
  {
   "cell_type": "code",
   "execution_count": null,
   "id": "3ba88356",
   "metadata": {},
   "outputs": [],
   "source": [
    "yield_16.head()"
   ]
  },
  {
   "cell_type": "code",
   "execution_count": null,
   "id": "8f1904c0",
   "metadata": {},
   "outputs": [],
   "source": [
    "yield_17.head()"
   ]
  },
  {
   "cell_type": "code",
   "execution_count": null,
   "id": "058346eb",
   "metadata": {},
   "outputs": [],
   "source": [
    "honey_yield = pd.concat([yield_15, yield_16, yield_17, yield_18, yield_19, yield_20, yield_21,])"
   ]
  },
  {
   "cell_type": "code",
   "execution_count": null,
   "id": "17bfbda9",
   "metadata": {},
   "outputs": [],
   "source": [
    "# 7 years x 42 rows per year = 294\n",
    "honey_yield.shape"
   ]
  },
  {
   "cell_type": "code",
   "execution_count": null,
   "id": "6d95212a",
   "metadata": {},
   "outputs": [],
   "source": [
    "honey_yield.tail()"
   ]
  },
  {
   "cell_type": "code",
   "execution_count": null,
   "id": "b3c17dec",
   "metadata": {},
   "outputs": [],
   "source": [
    "# csv for combined honey yield data\n",
    "# honey_yield.to_csv('../data/honey_nass/honey_yield.csv')"
   ]
  },
  {
   "cell_type": "markdown",
   "id": "3ae0d274",
   "metadata": {},
   "source": [
    "### From NASS Honey Reports 2017 - 2022. From Pollination and Other Income tables and Expenditures for Honey bee operations tables (later combined into Income and expenditure tables ) also added colum that shows yearly value of honey produced\n"
   ]
  },
  {
   "cell_type": "code",
   "execution_count": null,
   "id": "538cfb5d",
   "metadata": {},
   "outputs": [],
   "source": [
    "inc_exp = {'year': [2015, 2016, 2017, 2018, 2019, 2020, 2021],\n",
    "           'poll_income_1000_dollars': [340275, 337834, 280779, 301854, 309630, 254282, 268590], \n",
    "           'other_income_1000_dollars': [165732, 148523, 80566, 94644, 77677, 55773, 101688],\n",
    "           'honey_production_value_1000_dollars': [326081, 343028, 334166, 340358, 312275, 309947, 321224],\n",
    "           'varroa_control_1000_dollars': [16128, 16042, 17240, 17788, 16366, 11706, 11565],\n",
    "           'other_issues_control_1000_dollars': [6371, 6647, 5919, 4825, 4535, 3166, 3066],\n",
    "           'feed_1000_dollars': [50283, 50307, 53075, 65220, 58010, 40930, 42582],\n",
    "           'foundation_1000_dollars': [9461, 7294, 9775, 9534, 7887, 6567, 7064], \n",
    "           'hives_woodenware_1000_dollars':[11156, 9014, 9989, 13646, 11939, 11153, 9863]}"
   ]
  },
  {
   "cell_type": "code",
   "execution_count": null,
   "id": "8cabad82",
   "metadata": {},
   "outputs": [],
   "source": [
    "income_expend = pd.DataFrame(inc_exp)"
   ]
  },
  {
   "cell_type": "code",
   "execution_count": null,
   "id": "77752aa1",
   "metadata": {},
   "outputs": [],
   "source": [
    "income_expend"
   ]
  },
  {
   "cell_type": "code",
   "execution_count": null,
   "id": "bb55046c",
   "metadata": {},
   "outputs": [],
   "source": [
    "# csv for income and expenditures data\n",
    "# income_expend.to_csv('../data/honey_nass/income_expend.csv')"
   ]
  },
  {
   "cell_type": "code",
   "execution_count": null,
   "id": "6b6b1dba",
   "metadata": {},
   "outputs": [],
   "source": []
  }
 ],
 "metadata": {
  "kernelspec": {
   "display_name": "Python 3 (ipykernel)",
   "language": "python",
   "name": "python3"
  },
  "language_info": {
   "codemirror_mode": {
    "name": "ipython",
    "version": 3
   },
   "file_extension": ".py",
   "mimetype": "text/x-python",
   "name": "python",
   "nbconvert_exporter": "python",
   "pygments_lexer": "ipython3",
   "version": "3.9.7"
  }
 },
 "nbformat": 4,
 "nbformat_minor": 5
}
