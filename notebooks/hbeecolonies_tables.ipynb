{
 "cells": [
  {
   "cell_type": "markdown",
   "id": "6235c2fc",
   "metadata": {},
   "source": [
    "Combine reports from 2017 - 2021 into single df to export as csv to use for analysis. Will have colonies_count.csv and colony_stressors.csv and collapse_disorder, a small table with yearly colony collapse disorder numbers by year\n",
    "\n",
    "Data from https://usda.library.cornell.edu/concern/publications/rn301137d?locale=en \n",
    "using info for 5 or more colonies \n",
    "\n",
    "pdf converted to excel with https://www.investintech.com/pdf-to-excel/ which works well with partial tables, then converted to csv to read in"
   ]
  },
  {
   "cell_type": "markdown",
   "id": "99cd8c81",
   "metadata": {},
   "source": [
    "note: some reports over lap period (ex. 2017 report has jan-mar or 2017, 2018 report also has jan-mar of 2017) \n",
    "when this happens I will use the most recent report info (they are very similar with slight changes) assuming that it is the most updated\n",
    "\n",
    "no data available in colony counts or stressors for apr-jun period of 2019"
   ]
  },
  {
   "cell_type": "code",
   "execution_count": null,
   "id": "4414abe6",
   "metadata": {},
   "outputs": [],
   "source": [
    "import pandas as pd\n",
    "import matplotlib.pyplot as plt\n",
    "import seaborn as sns"
   ]
  },
  {
   "cell_type": "markdown",
   "id": "bd792869",
   "metadata": {},
   "source": [
    "## Colony Counts \n",
    "### From hcny0516.csv (reported in 2016, for year 2015)"
   ]
  },
  {
   "cell_type": "code",
   "execution_count": null,
   "id": "ba21d30e",
   "metadata": {},
   "outputs": [],
   "source": [
    "cc_15_janmar = pd.read_csv('../data/honeybee_colonies/hcny0516.csv', skiprows = 111, nrows = 47, encoding='cp1252')"
   ]
  },
  {
   "cell_type": "code",
   "execution_count": null,
   "id": "a373ec43",
   "metadata": {},
   "outputs": [],
   "source": [
    "cc_15_janmar.columns = ['state', 'start_colonies', 'max_colonies', 'lost_colonies', 'percent_lost', 'added_colonies', 'renovated', 'percent_renovated']"
   ]
  },
  {
   "cell_type": "code",
   "execution_count": null,
   "id": "044bf8c7",
   "metadata": {
    "scrolled": true
   },
   "outputs": [],
   "source": [
    "cc_15_janmar.head()"
   ]
  },
  {
   "cell_type": "code",
   "execution_count": null,
   "id": "4a3b70ae",
   "metadata": {},
   "outputs": [],
   "source": [
    "cc_15_janmar['year'] = 2015\n",
    "cc_15_janmar['period'] = 'jan-mar'"
   ]
  },
  {
   "cell_type": "code",
   "execution_count": null,
   "id": "aee344a8",
   "metadata": {
    "scrolled": true
   },
   "outputs": [],
   "source": [
    "cc_15_janmar.head()"
   ]
  },
  {
   "cell_type": "code",
   "execution_count": null,
   "id": "5b2f9fd3",
   "metadata": {},
   "outputs": [],
   "source": [
    "cc_15_aprjun = pd.read_csv('../data/honeybee_colonies/hcny0516.csv', skiprows = 179, nrows = 47, encoding='cp1252')"
   ]
  },
  {
   "cell_type": "code",
   "execution_count": null,
   "id": "e5720735",
   "metadata": {},
   "outputs": [],
   "source": [
    "cc_15_aprjun.columns = ['state', 'start_colonies', 'max_colonies', 'lost_colonies', 'percent_lost', 'added_colonies', 'renovated', 'percent_renovated']"
   ]
  },
  {
   "cell_type": "code",
   "execution_count": null,
   "id": "87b0b842",
   "metadata": {},
   "outputs": [],
   "source": [
    "cc_15_aprjun['year'] = 2015\n",
    "cc_15_aprjun['period'] = 'apr-jun'"
   ]
  },
  {
   "cell_type": "code",
   "execution_count": null,
   "id": "321cacaa",
   "metadata": {
    "scrolled": true
   },
   "outputs": [],
   "source": [
    "cc_15_aprjun.head()"
   ]
  },
  {
   "cell_type": "code",
   "execution_count": null,
   "id": "4d488080",
   "metadata": {},
   "outputs": [],
   "source": [
    "cc_15_julsep = pd.read_csv('../data/honeybee_colonies/hcny0516.csv', skiprows = 245, nrows = 47, encoding='cp1252')"
   ]
  },
  {
   "cell_type": "code",
   "execution_count": null,
   "id": "00583e91",
   "metadata": {},
   "outputs": [],
   "source": [
    "cc_15_julsep.columns = ['state', 'start_colonies', 'max_colonies', 'lost_colonies', 'percent_lost', 'added_colonies', 'renovated', 'percent_renovated']"
   ]
  },
  {
   "cell_type": "code",
   "execution_count": null,
   "id": "8a89c521",
   "metadata": {},
   "outputs": [],
   "source": [
    "cc_15_julsep['year'] = 2015\n",
    "cc_15_julsep['period'] = 'jul-sep'"
   ]
  },
  {
   "cell_type": "code",
   "execution_count": null,
   "id": "4894494b",
   "metadata": {
    "scrolled": true
   },
   "outputs": [],
   "source": [
    "cc_15_julsep.head()"
   ]
  },
  {
   "cell_type": "code",
   "execution_count": null,
   "id": "56f7de1a",
   "metadata": {},
   "outputs": [],
   "source": [
    "cc_15_octdec = pd.read_csv('../data/honeybee_colonies/hcny0516.csv', skiprows = 312, nrows = 47, encoding='cp1252')"
   ]
  },
  {
   "cell_type": "code",
   "execution_count": null,
   "id": "3b956fd4",
   "metadata": {},
   "outputs": [],
   "source": [
    "cc_15_octdec.columns = ['state', 'start_colonies', 'max_colonies', 'lost_colonies', 'percent_lost', 'added_colonies', 'renovated', 'percent_renovated']"
   ]
  },
  {
   "cell_type": "code",
   "execution_count": null,
   "id": "3c4d29fb",
   "metadata": {},
   "outputs": [],
   "source": [
    "cc_15_octdec['year'] = 2015\n",
    "cc_15_octdec['period'] = 'oct-dec'"
   ]
  },
  {
   "cell_type": "code",
   "execution_count": null,
   "id": "aa9970e9",
   "metadata": {},
   "outputs": [],
   "source": [
    "cc_15_octdec.head()"
   ]
  },
  {
   "cell_type": "markdown",
   "id": "85ac5ee0",
   "metadata": {},
   "source": [
    "### From hcny0817.csv (reported in 2017, for year 2016)"
   ]
  },
  {
   "cell_type": "code",
   "execution_count": null,
   "id": "c77299b3",
   "metadata": {},
   "outputs": [],
   "source": [
    "cc_16_janmar = pd.read_csv('../data/honeybee_colonies/hcny0817.csv', skiprows = 124, nrows = 47, encoding='cp1252')"
   ]
  },
  {
   "cell_type": "code",
   "execution_count": null,
   "id": "cb5c5e12",
   "metadata": {},
   "outputs": [],
   "source": [
    "cc_16_janmar.columns = ['state', 'start_colonies', 'max_colonies', 'lost_colonies', 'percent_lost', 'added_colonies', 'renovated', 'percent_renovated']"
   ]
  },
  {
   "cell_type": "code",
   "execution_count": null,
   "id": "0e24e81a",
   "metadata": {},
   "outputs": [],
   "source": [
    "cc_16_janmar.head()"
   ]
  },
  {
   "cell_type": "code",
   "execution_count": null,
   "id": "7948a2de",
   "metadata": {},
   "outputs": [],
   "source": [
    "cc_16_janmar['year'] = 2016"
   ]
  },
  {
   "cell_type": "code",
   "execution_count": null,
   "id": "078a0985",
   "metadata": {},
   "outputs": [],
   "source": [
    "cc_16_janmar['period'] = 'jan-mar'"
   ]
  },
  {
   "cell_type": "code",
   "execution_count": null,
   "id": "b477d38b",
   "metadata": {},
   "outputs": [],
   "source": [
    "cc_16_janmar.head()"
   ]
  },
  {
   "cell_type": "code",
   "execution_count": null,
   "id": "225d47d5",
   "metadata": {},
   "outputs": [],
   "source": [
    "cc_16_aprjun = pd.read_csv('../data/honeybee_colonies/hcny0817.csv', skiprows = 192, nrows = 47, encoding='cp1252')"
   ]
  },
  {
   "cell_type": "code",
   "execution_count": null,
   "id": "5b6c60ec",
   "metadata": {},
   "outputs": [],
   "source": [
    "cc_16_aprjun.columns = ['state', 'start_colonies', 'max_colonies', 'lost_colonies', 'percent_lost', 'added_colonies', 'renovated', 'percent_renovated']"
   ]
  },
  {
   "cell_type": "code",
   "execution_count": null,
   "id": "83d421a2",
   "metadata": {},
   "outputs": [],
   "source": [
    "cc_16_aprjun['year'] = 2016\n",
    "cc_16_aprjun['period'] = 'apr-jun'"
   ]
  },
  {
   "cell_type": "code",
   "execution_count": null,
   "id": "c13fde9f",
   "metadata": {},
   "outputs": [],
   "source": [
    "cc_16_aprjun.head()"
   ]
  },
  {
   "cell_type": "code",
   "execution_count": null,
   "id": "da99a17a",
   "metadata": {},
   "outputs": [],
   "source": [
    "cc_16_julsep = pd.read_csv('../data/honeybee_colonies/hcny0817.csv', skiprows = 260, nrows = 47, encoding='cp1252')"
   ]
  },
  {
   "cell_type": "code",
   "execution_count": null,
   "id": "848c6d21",
   "metadata": {},
   "outputs": [],
   "source": [
    "cc_16_julsep.columns = ['state', 'start_colonies', 'max_colonies', 'lost_colonies', 'percent_lost', 'added_colonies', 'renovated', 'percent_renovated']"
   ]
  },
  {
   "cell_type": "code",
   "execution_count": null,
   "id": "d4475986",
   "metadata": {},
   "outputs": [],
   "source": [
    "cc_16_julsep['year'] = 2016\n",
    "cc_16_julsep['period'] = 'jul-sep'"
   ]
  },
  {
   "cell_type": "code",
   "execution_count": null,
   "id": "10db7c39",
   "metadata": {},
   "outputs": [],
   "source": [
    "cc_16_julsep.head()"
   ]
  },
  {
   "cell_type": "code",
   "execution_count": null,
   "id": "8bf9ed7f",
   "metadata": {},
   "outputs": [],
   "source": [
    "cc_16_octdec = pd.read_csv('../data/honeybee_colonies/hcny0817.csv', skiprows = 327, nrows = 47, encoding='cp1252')"
   ]
  },
  {
   "cell_type": "code",
   "execution_count": null,
   "id": "a1eb8581",
   "metadata": {},
   "outputs": [],
   "source": [
    "cc_16_octdec.columns = ['state', 'start_colonies', 'max_colonies', 'lost_colonies', 'percent_lost', 'added_colonies', 'renovated', 'percent_renovated']"
   ]
  },
  {
   "cell_type": "code",
   "execution_count": null,
   "id": "4664fdb1",
   "metadata": {},
   "outputs": [],
   "source": [
    "cc_16_octdec['year'] = 2016\n",
    "cc_16_octdec['period'] = 'oct-dec'"
   ]
  },
  {
   "cell_type": "code",
   "execution_count": null,
   "id": "f63640a0",
   "metadata": {},
   "outputs": [],
   "source": [
    "cc_16_octdec.head()"
   ]
  },
  {
   "cell_type": "markdown",
   "id": "ea4be252",
   "metadata": {},
   "source": [
    "### From hcny0818.csv (reported in 2018, for year 2017)"
   ]
  },
  {
   "cell_type": "code",
   "execution_count": null,
   "id": "81389848",
   "metadata": {},
   "outputs": [],
   "source": [
    "cc_17_janmar = pd.read_csv('../data/honeybee_colonies/hcny0818.csv', skiprows = 124, nrows = 47, encoding='cp1252')"
   ]
  },
  {
   "cell_type": "code",
   "execution_count": null,
   "id": "69b39adc",
   "metadata": {},
   "outputs": [],
   "source": [
    "cc_17_janmar.columns = ['state', 'start_colonies', 'max_colonies', 'lost_colonies', 'percent_lost', 'added_colonies', 'renovated', 'percent_renovated']"
   ]
  },
  {
   "cell_type": "code",
   "execution_count": null,
   "id": "98fd3903",
   "metadata": {},
   "outputs": [],
   "source": [
    "cc_17_janmar['year'] = 2017\n",
    "cc_17_janmar['period'] = 'jan-mar'"
   ]
  },
  {
   "cell_type": "code",
   "execution_count": null,
   "id": "c3a37724",
   "metadata": {},
   "outputs": [],
   "source": [
    "cc_17_janmar.head()"
   ]
  },
  {
   "cell_type": "code",
   "execution_count": null,
   "id": "fb30d6c3",
   "metadata": {},
   "outputs": [],
   "source": [
    "cc_17_aprjun = pd.read_csv('../data/honeybee_colonies/hcny0818.csv', skiprows = 192, nrows = 47, encoding='cp1252')"
   ]
  },
  {
   "cell_type": "code",
   "execution_count": null,
   "id": "d31b94b0",
   "metadata": {},
   "outputs": [],
   "source": [
    "cc_17_aprjun.columns = ['state', 'start_colonies', 'max_colonies', 'lost_colonies', 'percent_lost', 'added_colonies', 'renovated', 'percent_renovated']"
   ]
  },
  {
   "cell_type": "code",
   "execution_count": null,
   "id": "376ec92b",
   "metadata": {},
   "outputs": [],
   "source": [
    "cc_17_aprjun['year'] = 2017\n",
    "cc_17_aprjun['period'] = 'apr-jun'"
   ]
  },
  {
   "cell_type": "code",
   "execution_count": null,
   "id": "73ea4c63",
   "metadata": {},
   "outputs": [],
   "source": [
    "cc_17_aprjun.head()"
   ]
  },
  {
   "cell_type": "code",
   "execution_count": null,
   "id": "47fcd407",
   "metadata": {},
   "outputs": [],
   "source": [
    "cc_17_julsep = pd.read_csv('../data/honeybee_colonies/hcny0818.csv', skiprows = 258, nrows = 47, encoding='cp1252')"
   ]
  },
  {
   "cell_type": "code",
   "execution_count": null,
   "id": "70e14619",
   "metadata": {},
   "outputs": [],
   "source": [
    "cc_17_julsep.columns = ['state', 'start_colonies', 'max_colonies', 'lost_colonies', 'percent_lost', 'added_colonies', 'renovated', 'percent_renovated']"
   ]
  },
  {
   "cell_type": "code",
   "execution_count": null,
   "id": "5ab593ec",
   "metadata": {},
   "outputs": [],
   "source": [
    "cc_17_julsep['year'] = 2017\n",
    "cc_17_julsep['period'] = 'jul-sep'"
   ]
  },
  {
   "cell_type": "code",
   "execution_count": null,
   "id": "964ccb9b",
   "metadata": {},
   "outputs": [],
   "source": [
    "cc_17_julsep.head()"
   ]
  },
  {
   "cell_type": "code",
   "execution_count": null,
   "id": "fc930253",
   "metadata": {},
   "outputs": [],
   "source": [
    "cc_17_octdec = pd.read_csv('../data/honeybee_colonies/hcny0818.csv', skiprows = 325, nrows = 47, encoding='cp1252')"
   ]
  },
  {
   "cell_type": "code",
   "execution_count": null,
   "id": "698a1b64",
   "metadata": {},
   "outputs": [],
   "source": [
    "cc_17_octdec.columns = ['state', 'start_colonies', 'max_colonies', 'lost_colonies', 'percent_lost', 'added_colonies', 'renovated', 'percent_renovated']"
   ]
  },
  {
   "cell_type": "code",
   "execution_count": null,
   "id": "cbfc7eab",
   "metadata": {},
   "outputs": [],
   "source": [
    "cc_17_octdec['year'] = 2017\n",
    "cc_17_octdec['period'] = 'oct-dec'"
   ]
  },
  {
   "cell_type": "code",
   "execution_count": null,
   "id": "d5449f4b",
   "metadata": {},
   "outputs": [],
   "source": [
    "cc_17_octdec.head()"
   ]
  },
  {
   "cell_type": "markdown",
   "id": "056622d7",
   "metadata": {},
   "source": [
    "### From hcny0819.csv (reported in 2019, for year 2018)"
   ]
  },
  {
   "cell_type": "code",
   "execution_count": null,
   "id": "26756be4",
   "metadata": {},
   "outputs": [],
   "source": [
    "cc_18_janmar = pd.read_csv('../data/honeybee_colonies/hcny0819.csv', skiprows = 81, nrows = 47, encoding='cp1252')"
   ]
  },
  {
   "cell_type": "code",
   "execution_count": null,
   "id": "cae5d880",
   "metadata": {},
   "outputs": [],
   "source": [
    "cc_18_janmar.columns = ['state', 'start_colonies', 'max_colonies', 'lost_colonies', 'percent_lost', 'added_colonies', 'renovated', 'percent_renovated']"
   ]
  },
  {
   "cell_type": "code",
   "execution_count": null,
   "id": "5ccb6ef7",
   "metadata": {},
   "outputs": [],
   "source": [
    "cc_18_janmar['year'] = 2018\n",
    "cc_18_janmar['period'] = 'jan-mar'"
   ]
  },
  {
   "cell_type": "code",
   "execution_count": null,
   "id": "119a5c75",
   "metadata": {},
   "outputs": [],
   "source": [
    "cc_18_janmar.head()"
   ]
  },
  {
   "cell_type": "code",
   "execution_count": null,
   "id": "d335317d",
   "metadata": {},
   "outputs": [],
   "source": [
    "cc_18_aprjun = pd.read_csv('../data/honeybee_colonies/hcny0819.csv', skiprows = 150, nrows = 47, encoding='cp1252')"
   ]
  },
  {
   "cell_type": "code",
   "execution_count": null,
   "id": "0271b618",
   "metadata": {},
   "outputs": [],
   "source": [
    "cc_18_aprjun.columns = ['state', 'start_colonies', 'max_colonies', 'lost_colonies', 'percent_lost', 'added_colonies', 'renovated', 'percent_renovated']"
   ]
  },
  {
   "cell_type": "code",
   "execution_count": null,
   "id": "7e780ccd",
   "metadata": {},
   "outputs": [],
   "source": [
    "cc_18_aprjun['year'] = 2018\n",
    "cc_18_aprjun['period'] = 'apr-jun'"
   ]
  },
  {
   "cell_type": "code",
   "execution_count": null,
   "id": "b1e108c8",
   "metadata": {},
   "outputs": [],
   "source": [
    "cc_18_aprjun.head()"
   ]
  },
  {
   "cell_type": "code",
   "execution_count": null,
   "id": "4a06a990",
   "metadata": {},
   "outputs": [],
   "source": [
    "cc_18_julsep = pd.read_csv('../data/honeybee_colonies/hcny0819.csv', skiprows = 217, nrows = 47, encoding='cp1252')"
   ]
  },
  {
   "cell_type": "code",
   "execution_count": null,
   "id": "5c6aec28",
   "metadata": {},
   "outputs": [],
   "source": [
    "cc_18_julsep.columns = ['state', 'start_colonies', 'max_colonies', 'lost_colonies', 'percent_lost', 'added_colonies', 'renovated', 'percent_renovated']"
   ]
  },
  {
   "cell_type": "code",
   "execution_count": null,
   "id": "377cc1fa",
   "metadata": {},
   "outputs": [],
   "source": [
    "cc_18_julsep['year'] = 2018\n",
    "cc_18_julsep['period'] = 'jul-sep'"
   ]
  },
  {
   "cell_type": "code",
   "execution_count": null,
   "id": "edc72da9",
   "metadata": {},
   "outputs": [],
   "source": [
    "cc_18_julsep.head()"
   ]
  },
  {
   "cell_type": "code",
   "execution_count": null,
   "id": "a7fa414d",
   "metadata": {},
   "outputs": [],
   "source": [
    "cc_18_octdec = pd.read_csv('../data/honeybee_colonies/hcny0819.csv', skiprows = 285, nrows = 47, encoding='cp1252')"
   ]
  },
  {
   "cell_type": "code",
   "execution_count": null,
   "id": "3cd5d107",
   "metadata": {},
   "outputs": [],
   "source": [
    "cc_18_octdec.columns = ['state', 'start_colonies', 'max_colonies', 'lost_colonies', 'percent_lost', 'added_colonies', 'renovated', 'percent_renovated']"
   ]
  },
  {
   "cell_type": "code",
   "execution_count": null,
   "id": "9e43443a",
   "metadata": {},
   "outputs": [],
   "source": [
    "cc_18_octdec['year'] = 2018\n",
    "cc_18_octdec['period'] = 'oct-dec'"
   ]
  },
  {
   "cell_type": "code",
   "execution_count": null,
   "id": "4d22552b",
   "metadata": {},
   "outputs": [],
   "source": [
    "cc_18_octdec.head()"
   ]
  },
  {
   "cell_type": "markdown",
   "id": "5ef33c3d",
   "metadata": {},
   "source": [
    "### From hcny0820.csv (reported in 2020, for year 2019)"
   ]
  },
  {
   "cell_type": "code",
   "execution_count": null,
   "id": "fb141edd",
   "metadata": {},
   "outputs": [],
   "source": [
    "cc_19_janmar = pd.read_csv('../data/honeybee_colonies/hcny0820.csv', skiprows = 81, nrows = 47, encoding='cp1252')"
   ]
  },
  {
   "cell_type": "code",
   "execution_count": null,
   "id": "55477c69",
   "metadata": {},
   "outputs": [],
   "source": [
    "cc_19_janmar.columns = ['state', 'start_colonies', 'max_colonies', 'lost_colonies', 'percent_lost', 'added_colonies', 'renovated', 'percent_renovated']"
   ]
  },
  {
   "cell_type": "code",
   "execution_count": null,
   "id": "aea275ad",
   "metadata": {},
   "outputs": [],
   "source": [
    "cc_19_janmar['year'] = 2019\n",
    "cc_19_janmar['period'] = 'jan-mar'"
   ]
  },
  {
   "cell_type": "code",
   "execution_count": null,
   "id": "8c5b409f",
   "metadata": {},
   "outputs": [],
   "source": [
    "cc_19_janmar.head()"
   ]
  },
  {
   "cell_type": "markdown",
   "id": "86aa6e1f",
   "metadata": {},
   "source": [
    "### no data for colony counts in apr-jun period of 2019"
   ]
  },
  {
   "cell_type": "code",
   "execution_count": null,
   "id": "c21e3481",
   "metadata": {},
   "outputs": [],
   "source": [
    "cc_19_julsep = pd.read_csv('../data/honeybee_colonies/hcny0820.csv', skiprows = 218, nrows = 47, encoding='cp1252')"
   ]
  },
  {
   "cell_type": "code",
   "execution_count": null,
   "id": "58fefa0e",
   "metadata": {},
   "outputs": [],
   "source": [
    "cc_19_julsep.columns = ['state', 'start_colonies', 'max_colonies', 'lost_colonies', 'percent_lost', 'added_colonies', 'renovated', 'percent_renovated']"
   ]
  },
  {
   "cell_type": "code",
   "execution_count": null,
   "id": "e1149593",
   "metadata": {},
   "outputs": [],
   "source": [
    "cc_19_julsep['year'] = 2019\n",
    "cc_19_julsep['period'] = 'jul-sep'"
   ]
  },
  {
   "cell_type": "code",
   "execution_count": null,
   "id": "cda11478",
   "metadata": {},
   "outputs": [],
   "source": [
    "cc_19_julsep.head()"
   ]
  },
  {
   "cell_type": "code",
   "execution_count": null,
   "id": "318178f1",
   "metadata": {},
   "outputs": [],
   "source": [
    "cc_19_octdec = pd.read_csv('../data/honeybee_colonies/hcny0820.csv', skiprows = 285, nrows = 47, encoding='cp1252')"
   ]
  },
  {
   "cell_type": "code",
   "execution_count": null,
   "id": "e557874b",
   "metadata": {},
   "outputs": [],
   "source": [
    "cc_19_octdec.columns = ['state', 'start_colonies', 'max_colonies', 'lost_colonies', 'percent_lost', 'added_colonies', 'renovated', 'percent_renovated']"
   ]
  },
  {
   "cell_type": "code",
   "execution_count": null,
   "id": "847db32f",
   "metadata": {},
   "outputs": [],
   "source": [
    "cc_19_octdec['year'] = 2019\n",
    "cc_19_octdec['period'] = 'oct-dec'"
   ]
  },
  {
   "cell_type": "code",
   "execution_count": null,
   "id": "e4d7974f",
   "metadata": {
    "scrolled": true
   },
   "outputs": [],
   "source": [
    "cc_19_octdec.head()"
   ]
  },
  {
   "cell_type": "markdown",
   "id": "daf71623",
   "metadata": {},
   "source": [
    "### From hcny0821.csv (reported in 2021, for year 2020-2021)"
   ]
  },
  {
   "cell_type": "code",
   "execution_count": null,
   "id": "06fcd563",
   "metadata": {},
   "outputs": [],
   "source": [
    "cc_20_janmar = pd.read_csv('../data/honeybee_colonies/hcny0821.csv', skiprows = 81, nrows = 47, encoding='cp1252')"
   ]
  },
  {
   "cell_type": "code",
   "execution_count": null,
   "id": "3613e3c8",
   "metadata": {},
   "outputs": [],
   "source": [
    "cc_20_janmar.columns = ['state', 'start_colonies', 'max_colonies', 'lost_colonies', 'percent_lost', 'added_colonies', 'renovated', 'percent_renovated']"
   ]
  },
  {
   "cell_type": "code",
   "execution_count": null,
   "id": "4bbd9cc0",
   "metadata": {},
   "outputs": [],
   "source": [
    "cc_20_janmar['year'] = 2020\n",
    "cc_20_janmar['period'] = 'jan-mar'"
   ]
  },
  {
   "cell_type": "code",
   "execution_count": null,
   "id": "55235efb",
   "metadata": {},
   "outputs": [],
   "source": [
    "cc_20_janmar.head()"
   ]
  },
  {
   "cell_type": "code",
   "execution_count": null,
   "id": "32b3494e",
   "metadata": {},
   "outputs": [],
   "source": [
    "cc_20_aprjun = pd.read_csv('../data/honeybee_colonies/hcny0821.csv', skiprows = 150, nrows = 47, encoding='cp1252')"
   ]
  },
  {
   "cell_type": "code",
   "execution_count": null,
   "id": "5b1d11c1",
   "metadata": {},
   "outputs": [],
   "source": [
    "cc_20_aprjun.columns = ['state', 'start_colonies', 'max_colonies', 'lost_colonies', 'percent_lost', 'added_colonies', 'renovated', 'percent_renovated']"
   ]
  },
  {
   "cell_type": "code",
   "execution_count": null,
   "id": "52b45fde",
   "metadata": {},
   "outputs": [],
   "source": [
    "cc_20_aprjun['year'] = 2020\n",
    "cc_20_aprjun['period'] = 'apr-jun'"
   ]
  },
  {
   "cell_type": "code",
   "execution_count": null,
   "id": "9424ce45",
   "metadata": {},
   "outputs": [],
   "source": [
    "cc_20_aprjun.head()"
   ]
  },
  {
   "cell_type": "code",
   "execution_count": null,
   "id": "27a5d928",
   "metadata": {},
   "outputs": [],
   "source": [
    "cc_20_julsep = pd.read_csv('../data/honeybee_colonies/hcny0821.csv', skiprows = 218, nrows = 47, encoding='cp1252')"
   ]
  },
  {
   "cell_type": "code",
   "execution_count": null,
   "id": "2d93a212",
   "metadata": {},
   "outputs": [],
   "source": [
    "cc_20_julsep.columns = ['state', 'start_colonies', 'max_colonies', 'lost_colonies', 'percent_lost', 'added_colonies', 'renovated', 'percent_renovated']"
   ]
  },
  {
   "cell_type": "code",
   "execution_count": null,
   "id": "fc3b0457",
   "metadata": {},
   "outputs": [],
   "source": [
    "cc_20_julsep['year'] = 2020\n",
    "cc_20_julsep['period'] = 'jul-sep'"
   ]
  },
  {
   "cell_type": "code",
   "execution_count": null,
   "id": "790f6f4f",
   "metadata": {},
   "outputs": [],
   "source": [
    "cc_20_julsep.head()"
   ]
  },
  {
   "cell_type": "code",
   "execution_count": null,
   "id": "bcc530d9",
   "metadata": {},
   "outputs": [],
   "source": [
    "cc_20_octdec = pd.read_csv('../data/honeybee_colonies/hcny0821.csv', skiprows = 286, nrows = 47, encoding='cp1252')"
   ]
  },
  {
   "cell_type": "code",
   "execution_count": null,
   "id": "90b019ee",
   "metadata": {},
   "outputs": [],
   "source": [
    "cc_20_octdec.columns = ['state', 'start_colonies', 'max_colonies', 'lost_colonies', 'percent_lost', 'added_colonies', 'renovated', 'percent_renovated']"
   ]
  },
  {
   "cell_type": "code",
   "execution_count": null,
   "id": "4e2c8166",
   "metadata": {},
   "outputs": [],
   "source": [
    "cc_20_octdec['year'] = 2020\n",
    "cc_20_octdec['period'] = 'oct-dec'"
   ]
  },
  {
   "cell_type": "code",
   "execution_count": null,
   "id": "44ebeded",
   "metadata": {},
   "outputs": [],
   "source": [
    "cc_20_octdec.head()"
   ]
  },
  {
   "cell_type": "code",
   "execution_count": null,
   "id": "30c6c9bb",
   "metadata": {},
   "outputs": [],
   "source": [
    "cc_21_janmar = pd.read_csv('../data/honeybee_colonies/hcny0821.csv', skiprows = 355, nrows = 47, encoding='cp1252')"
   ]
  },
  {
   "cell_type": "code",
   "execution_count": null,
   "id": "24f04bda",
   "metadata": {},
   "outputs": [],
   "source": [
    "cc_21_janmar.columns = ['state', 'start_colonies', 'max_colonies', 'lost_colonies', 'percent_lost', 'added_colonies', 'renovated', 'percent_renovated']"
   ]
  },
  {
   "cell_type": "code",
   "execution_count": null,
   "id": "4b5acb0a",
   "metadata": {},
   "outputs": [],
   "source": [
    "cc_21_janmar['year'] = 2021\n",
    "cc_21_janmar['period'] = 'jan-mar'"
   ]
  },
  {
   "cell_type": "code",
   "execution_count": null,
   "id": "28085cc0",
   "metadata": {},
   "outputs": [],
   "source": [
    "cc_21_janmar.head()"
   ]
  },
  {
   "cell_type": "code",
   "execution_count": null,
   "id": "a69981e1",
   "metadata": {},
   "outputs": [],
   "source": [
    "cc_21_aprjun = pd.read_csv('../data/honeybee_colonies/hcny0821.csv', skiprows = 424, nrows = 47, encoding='cp1252')"
   ]
  },
  {
   "cell_type": "code",
   "execution_count": null,
   "id": "1e596ae9",
   "metadata": {},
   "outputs": [],
   "source": [
    "cc_21_aprjun.columns = ['state', 'start_colonies', 'max_colonies', 'lost_colonies', 'percent_lost', 'added_colonies', 'renovated', 'percent_renovated']"
   ]
  },
  {
   "cell_type": "code",
   "execution_count": null,
   "id": "11d655c3",
   "metadata": {},
   "outputs": [],
   "source": [
    "cc_21_aprjun['year'] = 2021\n",
    "cc_21_aprjun['period'] = 'apr-jun'"
   ]
  },
  {
   "cell_type": "code",
   "execution_count": null,
   "id": "8470d0bc",
   "metadata": {},
   "outputs": [],
   "source": [
    "cc_21_aprjun.head()"
   ]
  },
  {
   "cell_type": "code",
   "execution_count": null,
   "id": "661a8a02",
   "metadata": {},
   "outputs": [],
   "source": [
    "colony_counts = pd.concat([cc_15_janmar, cc_15_aprjun, cc_15_julsep, cc_15_octdec, cc_16_janmar,  cc_16_aprjun, cc_16_julsep,  cc_16_octdec, cc_17_janmar,  cc_17_aprjun, cc_17_julsep,  cc_17_octdec,  cc_18_janmar, cc_18_aprjun, cc_18_julsep, cc_18_octdec, cc_19_janmar, cc_19_julsep,  cc_19_octdec, cc_20_janmar, cc_20_aprjun,  cc_20_julsep, cc_20_octdec, cc_21_janmar, cc_21_aprjun], axis = 0)"
   ]
  },
  {
   "cell_type": "code",
   "execution_count": null,
   "id": "82076faf",
   "metadata": {},
   "outputs": [],
   "source": [
    "# 47(rows per period) x 25(periods) = 1175\n",
    "colony_counts.shape"
   ]
  },
  {
   "cell_type": "code",
   "execution_count": null,
   "id": "79dccc34",
   "metadata": {},
   "outputs": [],
   "source": [
    "colony_counts.period.unique()"
   ]
  },
  {
   "cell_type": "code",
   "execution_count": null,
   "id": "95ff9ef2",
   "metadata": {},
   "outputs": [],
   "source": [
    "# csv for combined colony counts data\n",
    "# colony_counts.to_csv('../data/honeybee_colonies/colony_counts.csv')"
   ]
  },
  {
   "cell_type": "markdown",
   "id": "f87a0dc2",
   "metadata": {},
   "source": [
    "## Stressors \n",
    "### From hcny0516.csv (reported in 2016, for year 2015)"
   ]
  },
  {
   "cell_type": "code",
   "execution_count": null,
   "id": "3de9d095",
   "metadata": {},
   "outputs": [],
   "source": [
    "stress_15_janmar = pd.read_csv('../data/honeybee_colonies/hcny0516.csv', skiprows = 448, nrows = 47, encoding='cp1252')"
   ]
  },
  {
   "cell_type": "code",
   "execution_count": null,
   "id": "1f974b11",
   "metadata": {},
   "outputs": [],
   "source": [
    "stress_15_janmar.columns = ['state', 'varroa_mites', 'other_pest_parasites', 'diseases', 'pesticides', 'other', 'unknown', 'year']"
   ]
  },
  {
   "cell_type": "code",
   "execution_count": null,
   "id": "75766cd9",
   "metadata": {},
   "outputs": [],
   "source": [
    "stress_15_janmar['year'] = 2015\n",
    "stress_15_janmar['period'] = 'jan-mar'"
   ]
  },
  {
   "cell_type": "code",
   "execution_count": null,
   "id": "0e303f1a",
   "metadata": {
    "scrolled": true
   },
   "outputs": [],
   "source": [
    "stress_15_janmar.head()"
   ]
  },
  {
   "cell_type": "code",
   "execution_count": null,
   "id": "fd14446b",
   "metadata": {},
   "outputs": [],
   "source": [
    "stress_15_aprjun = pd.read_csv('../data/honeybee_colonies/hcny0516.csv', skiprows = 512, nrows = 47, encoding='cp1252')"
   ]
  },
  {
   "cell_type": "code",
   "execution_count": null,
   "id": "b9513f64",
   "metadata": {},
   "outputs": [],
   "source": [
    "stress_15_aprjun.columns = ['state', 'varroa_mites', 'other_pest_parasites', 'diseases', 'pesticides', 'other', 'unknown', 'year']"
   ]
  },
  {
   "cell_type": "code",
   "execution_count": null,
   "id": "4bd1ef3a",
   "metadata": {},
   "outputs": [],
   "source": [
    "stress_15_aprjun['year'] = 2015\n",
    "stress_15_aprjun['period'] = 'apr-jun'"
   ]
  },
  {
   "cell_type": "code",
   "execution_count": null,
   "id": "c367c432",
   "metadata": {
    "scrolled": true
   },
   "outputs": [],
   "source": [
    "stress_15_aprjun.head()"
   ]
  },
  {
   "cell_type": "code",
   "execution_count": null,
   "id": "6b151362",
   "metadata": {},
   "outputs": [],
   "source": [
    "stress_15_julsep = pd.read_csv('../data/honeybee_colonies/hcny0516.csv', skiprows = 576, nrows = 47, encoding='cp1252')"
   ]
  },
  {
   "cell_type": "code",
   "execution_count": null,
   "id": "dc752f00",
   "metadata": {},
   "outputs": [],
   "source": [
    "stress_15_julsep.columns = ['state', 'varroa_mites', 'other_pest_parasites', 'diseases', 'pesticides', 'other', 'unknown', 'year']"
   ]
  },
  {
   "cell_type": "code",
   "execution_count": null,
   "id": "d74985fd",
   "metadata": {},
   "outputs": [],
   "source": [
    "stress_15_julsep['year'] = 2015\n",
    "stress_15_julsep['period'] = 'jul-sep'"
   ]
  },
  {
   "cell_type": "code",
   "execution_count": null,
   "id": "50ad75c0",
   "metadata": {
    "scrolled": true
   },
   "outputs": [],
   "source": [
    "stress_15_julsep.head()"
   ]
  },
  {
   "cell_type": "code",
   "execution_count": null,
   "id": "35e37a56",
   "metadata": {},
   "outputs": [],
   "source": [
    "stress_15_octdec = pd.read_csv('../data/honeybee_colonies/hcny0516.csv', skiprows = 641, nrows = 47, encoding='cp1252')"
   ]
  },
  {
   "cell_type": "code",
   "execution_count": null,
   "id": "4e506be4",
   "metadata": {},
   "outputs": [],
   "source": [
    "stress_15_octdec.columns = ['state', 'varroa_mites', 'other_pest_parasites', 'diseases', 'pesticides', 'other', 'unknown', 'year']"
   ]
  },
  {
   "cell_type": "code",
   "execution_count": null,
   "id": "332ee6aa",
   "metadata": {},
   "outputs": [],
   "source": [
    "stress_15_octdec['year'] = 2015\n",
    "stress_15_octdec['period'] = 'oct-dec'"
   ]
  },
  {
   "cell_type": "code",
   "execution_count": null,
   "id": "5ad5d580",
   "metadata": {},
   "outputs": [],
   "source": [
    "stress_15_octdec.head()"
   ]
  },
  {
   "cell_type": "markdown",
   "id": "bfc68d5d",
   "metadata": {},
   "source": [
    "### From hcny0817.csv (reported in 2017, for year 2016)"
   ]
  },
  {
   "cell_type": "code",
   "execution_count": null,
   "id": "9ee86e7a",
   "metadata": {},
   "outputs": [],
   "source": [
    "stress_16_janmar = pd.read_csv('../data/honeybee_colonies/hcny0817.csv', skiprows = 529, nrows = 47, encoding='cp1252')"
   ]
  },
  {
   "cell_type": "code",
   "execution_count": null,
   "id": "a6f246d6",
   "metadata": {},
   "outputs": [],
   "source": [
    "stress_16_janmar.columns = ['state', 'varroa_mites', 'other_pest_parasites', 'diseases', 'pesticides', 'other', 'unknown', 'year']"
   ]
  },
  {
   "cell_type": "code",
   "execution_count": null,
   "id": "7840f559",
   "metadata": {},
   "outputs": [],
   "source": [
    "stress_16_janmar['year'] = 2016\n",
    "stress_16_janmar['period'] = 'jan-mar'"
   ]
  },
  {
   "cell_type": "code",
   "execution_count": null,
   "id": "b2a74050",
   "metadata": {},
   "outputs": [],
   "source": [
    "stress_16_janmar.head()"
   ]
  },
  {
   "cell_type": "code",
   "execution_count": null,
   "id": "15a92750",
   "metadata": {},
   "outputs": [],
   "source": [
    "stress_16_aprjun = pd.read_csv('../data/honeybee_colonies/hcny0817.csv', skiprows = 594, nrows = 47, encoding='cp1252')"
   ]
  },
  {
   "cell_type": "code",
   "execution_count": null,
   "id": "b106e6e2",
   "metadata": {},
   "outputs": [],
   "source": [
    "stress_16_aprjun.columns = ['state', 'varroa_mites', 'other_pest_parasites', 'diseases', 'pesticides', 'other', 'unknown', 'year']"
   ]
  },
  {
   "cell_type": "code",
   "execution_count": null,
   "id": "122acc5e",
   "metadata": {},
   "outputs": [],
   "source": [
    "stress_16_aprjun['year'] = 2016\n",
    "stress_16_aprjun['period'] = 'apr-jun'"
   ]
  },
  {
   "cell_type": "code",
   "execution_count": null,
   "id": "563106bb",
   "metadata": {},
   "outputs": [],
   "source": [
    "stress_16_aprjun.head()"
   ]
  },
  {
   "cell_type": "code",
   "execution_count": null,
   "id": "4e4e6cb5",
   "metadata": {},
   "outputs": [],
   "source": [
    "stress_16_julsep = pd.read_csv('../data/honeybee_colonies/hcny0817.csv', skiprows = 659, nrows = 47, encoding='cp1252')"
   ]
  },
  {
   "cell_type": "code",
   "execution_count": null,
   "id": "e74e6d4a",
   "metadata": {},
   "outputs": [],
   "source": [
    "stress_16_julsep.columns = ['state', 'varroa_mites', 'other_pest_parasites', 'diseases', 'pesticides', 'other', 'unknown', 'year']"
   ]
  },
  {
   "cell_type": "code",
   "execution_count": null,
   "id": "44b20e09",
   "metadata": {},
   "outputs": [],
   "source": [
    "stress_16_julsep['year'] = 2016\n",
    "stress_16_julsep['period'] = 'jul-sep'"
   ]
  },
  {
   "cell_type": "code",
   "execution_count": null,
   "id": "036090df",
   "metadata": {},
   "outputs": [],
   "source": [
    "stress_16_julsep.head()"
   ]
  },
  {
   "cell_type": "code",
   "execution_count": null,
   "id": "b011abd5",
   "metadata": {},
   "outputs": [],
   "source": [
    "stress_16_octdec = pd.read_csv('../data/honeybee_colonies/hcny0817.csv', skiprows = 725, nrows = 47, encoding='cp1252')"
   ]
  },
  {
   "cell_type": "code",
   "execution_count": null,
   "id": "b2b04d80",
   "metadata": {},
   "outputs": [],
   "source": [
    "stress_16_octdec.columns = ['state', 'varroa_mites', 'other_pest_parasites', 'diseases', 'pesticides', 'other', 'unknown', 'year']"
   ]
  },
  {
   "cell_type": "code",
   "execution_count": null,
   "id": "2bf4b6c1",
   "metadata": {},
   "outputs": [],
   "source": [
    "stress_16_octdec['year'] = 2016\n",
    "stress_16_octdec['period'] = 'oct-dec'"
   ]
  },
  {
   "cell_type": "code",
   "execution_count": null,
   "id": "2f8a5e2c",
   "metadata": {},
   "outputs": [],
   "source": [
    "stress_16_octdec.head()"
   ]
  },
  {
   "cell_type": "markdown",
   "id": "591d9594",
   "metadata": {},
   "source": [
    "### From hcny0818.csv (reported in 2018, for year 2017)"
   ]
  },
  {
   "cell_type": "code",
   "execution_count": null,
   "id": "23cc7ce8",
   "metadata": {},
   "outputs": [],
   "source": [
    "stress_17_janmar = pd.read_csv('../data/honeybee_colonies/hcny0818.csv', skiprows = 527, nrows = 47, encoding='cp1252')"
   ]
  },
  {
   "cell_type": "code",
   "execution_count": null,
   "id": "d268260e",
   "metadata": {},
   "outputs": [],
   "source": [
    "stress_17_janmar.columns = ['state', 'varroa_mites', 'other_pest_parasites', 'diseases', 'pesticides', 'other', 'unknown', 'year']"
   ]
  },
  {
   "cell_type": "code",
   "execution_count": null,
   "id": "787c1902",
   "metadata": {},
   "outputs": [],
   "source": [
    "stress_17_janmar['year'] = 2017\n",
    "stress_17_janmar['period'] = 'jan-mar'"
   ]
  },
  {
   "cell_type": "code",
   "execution_count": null,
   "id": "cb2d6bd4",
   "metadata": {},
   "outputs": [],
   "source": [
    "stress_17_janmar.head()"
   ]
  },
  {
   "cell_type": "code",
   "execution_count": null,
   "id": "e198f2cb",
   "metadata": {},
   "outputs": [],
   "source": [
    "stress_17_aprjun = pd.read_csv('../data/honeybee_colonies/hcny0818.csv', skiprows = 592, nrows = 47, encoding='cp1252')"
   ]
  },
  {
   "cell_type": "code",
   "execution_count": null,
   "id": "dff53c71",
   "metadata": {},
   "outputs": [],
   "source": [
    "stress_17_aprjun.columns = ['state', 'varroa_mites', 'other_pest_parasites', 'diseases', 'pesticides', 'other', 'unknown', 'year']"
   ]
  },
  {
   "cell_type": "code",
   "execution_count": null,
   "id": "34a0d3a8",
   "metadata": {},
   "outputs": [],
   "source": [
    "stress_17_aprjun['year'] = 2017\n",
    "stress_17_aprjun['period'] = 'apr-jun'"
   ]
  },
  {
   "cell_type": "code",
   "execution_count": null,
   "id": "03308b87",
   "metadata": {},
   "outputs": [],
   "source": [
    "stress_17_aprjun.head()"
   ]
  },
  {
   "cell_type": "code",
   "execution_count": null,
   "id": "527b1267",
   "metadata": {},
   "outputs": [],
   "source": [
    "stress_17_julsep = pd.read_csv('../data/honeybee_colonies/hcny0818.csv', skiprows = 657, nrows = 47, encoding='cp1252')"
   ]
  },
  {
   "cell_type": "code",
   "execution_count": null,
   "id": "03586bf1",
   "metadata": {},
   "outputs": [],
   "source": [
    "stress_17_julsep.columns = ['state', 'varroa_mites', 'other_pest_parasites', 'diseases', 'pesticides', 'other', 'unknown', 'year']"
   ]
  },
  {
   "cell_type": "code",
   "execution_count": null,
   "id": "282dbda1",
   "metadata": {},
   "outputs": [],
   "source": [
    "stress_17_julsep['year'] = 2017\n",
    "stress_17_julsep['period'] = 'jul-sep'"
   ]
  },
  {
   "cell_type": "code",
   "execution_count": null,
   "id": "5c63cd37",
   "metadata": {},
   "outputs": [],
   "source": [
    "stress_17_julsep.head()"
   ]
  },
  {
   "cell_type": "code",
   "execution_count": null,
   "id": "693bb5e7",
   "metadata": {},
   "outputs": [],
   "source": [
    "stress_17_octdec = pd.read_csv('../data/honeybee_colonies/hcny0818.csv', skiprows = 723, nrows = 47, encoding='cp1252')"
   ]
  },
  {
   "cell_type": "code",
   "execution_count": null,
   "id": "3d583f5a",
   "metadata": {},
   "outputs": [],
   "source": [
    "stress_17_octdec.columns = ['state', 'varroa_mites', 'other_pest_parasites', 'diseases', 'pesticides', 'other', 'unknown', 'year']"
   ]
  },
  {
   "cell_type": "code",
   "execution_count": null,
   "id": "a99392f8",
   "metadata": {},
   "outputs": [],
   "source": [
    "stress_17_octdec['year'] = 2017\n",
    "stress_17_octdec['period'] = 'oct-dec'"
   ]
  },
  {
   "cell_type": "code",
   "execution_count": null,
   "id": "fb582f75",
   "metadata": {},
   "outputs": [],
   "source": [
    "stress_17_octdec.head()"
   ]
  },
  {
   "cell_type": "markdown",
   "id": "69b15ec5",
   "metadata": {},
   "source": [
    "### From hcny0819.csv (reported in 2019, for year 2018)"
   ]
  },
  {
   "cell_type": "code",
   "execution_count": null,
   "id": "4e21d076",
   "metadata": {},
   "outputs": [],
   "source": [
    "stress_18_janmar = pd.read_csv('../data/honeybee_colonies/hcny0819.csv', skiprows = 422, nrows = 47, encoding='cp1252')"
   ]
  },
  {
   "cell_type": "code",
   "execution_count": null,
   "id": "d7859760",
   "metadata": {},
   "outputs": [],
   "source": [
    "stress_18_janmar.columns = ['state', 'varroa_mites', 'other_pest_parasites', 'diseases', 'pesticides', 'other', 'unknown', 'year']"
   ]
  },
  {
   "cell_type": "code",
   "execution_count": null,
   "id": "86d5664c",
   "metadata": {},
   "outputs": [],
   "source": [
    "stress_18_janmar['year'] = 2018\n",
    "stress_18_janmar['period'] = 'jan-mar'"
   ]
  },
  {
   "cell_type": "code",
   "execution_count": null,
   "id": "07f42798",
   "metadata": {},
   "outputs": [],
   "source": [
    "stress_18_janmar.head()"
   ]
  },
  {
   "cell_type": "code",
   "execution_count": null,
   "id": "3667733b",
   "metadata": {},
   "outputs": [],
   "source": [
    "stress_18_aprjun = pd.read_csv('../data/honeybee_colonies/hcny0819.csv', skiprows = 487, nrows = 47, encoding='cp1252')"
   ]
  },
  {
   "cell_type": "code",
   "execution_count": null,
   "id": "e532bc80",
   "metadata": {},
   "outputs": [],
   "source": [
    "stress_18_aprjun.columns = ['state', 'varroa_mites', 'other_pest_parasites', 'diseases', 'pesticides', 'other', 'unknown', 'year']"
   ]
  },
  {
   "cell_type": "code",
   "execution_count": null,
   "id": "394a0498",
   "metadata": {},
   "outputs": [],
   "source": [
    "stress_18_aprjun['year'] = 2018\n",
    "stress_18_aprjun['period'] = 'apr-jun'"
   ]
  },
  {
   "cell_type": "code",
   "execution_count": null,
   "id": "ce43c7eb",
   "metadata": {},
   "outputs": [],
   "source": [
    "stress_18_aprjun.head()"
   ]
  },
  {
   "cell_type": "code",
   "execution_count": null,
   "id": "0b898564",
   "metadata": {},
   "outputs": [],
   "source": [
    "stress_18_julsep = pd.read_csv('../data/honeybee_colonies/hcny0819.csv', skiprows = 552, nrows = 47, encoding='cp1252')"
   ]
  },
  {
   "cell_type": "code",
   "execution_count": null,
   "id": "de36c1de",
   "metadata": {},
   "outputs": [],
   "source": [
    "stress_18_julsep.columns = ['state', 'varroa_mites', 'other_pest_parasites', 'diseases', 'pesticides', 'other', 'unknown', 'year']"
   ]
  },
  {
   "cell_type": "code",
   "execution_count": null,
   "id": "83e34f7d",
   "metadata": {},
   "outputs": [],
   "source": [
    "stress_18_julsep['year'] = 2018\n",
    "stress_18_julsep['period'] = 'jul-sep'"
   ]
  },
  {
   "cell_type": "code",
   "execution_count": null,
   "id": "77c7350d",
   "metadata": {},
   "outputs": [],
   "source": [
    "stress_18_julsep.head()"
   ]
  },
  {
   "cell_type": "code",
   "execution_count": null,
   "id": "3519b3f4",
   "metadata": {},
   "outputs": [],
   "source": [
    "stress_18_octdec = pd.read_csv('../data/honeybee_colonies/hcny0819.csv', skiprows = 618, nrows = 47, encoding='cp1252')"
   ]
  },
  {
   "cell_type": "code",
   "execution_count": null,
   "id": "a4ef319d",
   "metadata": {},
   "outputs": [],
   "source": [
    "stress_18_octdec.columns = ['state', 'varroa_mites', 'other_pest_parasites', 'diseases', 'pesticides', 'other', 'unknown', 'year']"
   ]
  },
  {
   "cell_type": "code",
   "execution_count": null,
   "id": "c2382d37",
   "metadata": {},
   "outputs": [],
   "source": [
    "stress_18_octdec['year'] = 2018\n",
    "stress_18_octdec['period'] = 'oct-dec'"
   ]
  },
  {
   "cell_type": "code",
   "execution_count": null,
   "id": "d11e999b",
   "metadata": {},
   "outputs": [],
   "source": [
    "stress_18_octdec.head()"
   ]
  },
  {
   "cell_type": "markdown",
   "id": "f7d98532",
   "metadata": {},
   "source": [
    "### From hcny0820.csv (reported in 2020, for year 2019)"
   ]
  },
  {
   "cell_type": "code",
   "execution_count": null,
   "id": "7c876d0f",
   "metadata": {},
   "outputs": [],
   "source": [
    "stress_19_janmar = pd.read_csv('../data/honeybee_colonies/hcny0820.csv', skiprows = 490, nrows = 47, encoding='cp1252')"
   ]
  },
  {
   "cell_type": "code",
   "execution_count": null,
   "id": "17b68ebd",
   "metadata": {},
   "outputs": [],
   "source": [
    "stress_19_janmar.columns = ['state', 'varroa_mites', 'other_pest_parasites', 'diseases', 'pesticides', 'other', 'unknown', 'year']"
   ]
  },
  {
   "cell_type": "code",
   "execution_count": null,
   "id": "70d2f9de",
   "metadata": {},
   "outputs": [],
   "source": [
    "stress_19_janmar['year'] = 2019\n",
    "stress_19_janmar['period'] = 'jan-mar'"
   ]
  },
  {
   "cell_type": "code",
   "execution_count": null,
   "id": "39ac5d0d",
   "metadata": {},
   "outputs": [],
   "source": [
    "stress_19_janmar.head()"
   ]
  },
  {
   "cell_type": "markdown",
   "id": "65bce6d6",
   "metadata": {},
   "source": [
    "#### no data on stressors for arp-jun period in 2019"
   ]
  },
  {
   "cell_type": "code",
   "execution_count": null,
   "id": "8c4c561a",
   "metadata": {},
   "outputs": [],
   "source": [
    "stress_19_julsep = pd.read_csv('../data/honeybee_colonies/hcny0820.csv', skiprows = 618, nrows = 47, encoding='cp1252')"
   ]
  },
  {
   "cell_type": "code",
   "execution_count": null,
   "id": "31de835a",
   "metadata": {},
   "outputs": [],
   "source": [
    "stress_19_julsep.columns = ['state', 'varroa_mites', 'other_pest_parasites', 'diseases', 'pesticides', 'other', 'unknown', 'year']"
   ]
  },
  {
   "cell_type": "code",
   "execution_count": null,
   "id": "a59e51dd",
   "metadata": {},
   "outputs": [],
   "source": [
    "stress_19_julsep['year'] = 2019\n",
    "stress_19_julsep['period'] = 'jul-sep'"
   ]
  },
  {
   "cell_type": "code",
   "execution_count": null,
   "id": "52f3447e",
   "metadata": {},
   "outputs": [],
   "source": [
    "stress_19_julsep.head()"
   ]
  },
  {
   "cell_type": "code",
   "execution_count": null,
   "id": "c78b522d",
   "metadata": {},
   "outputs": [],
   "source": [
    "stress_19_octdec = pd.read_csv('../data/honeybee_colonies/hcny0820.csv', skiprows = 682, nrows = 47, encoding='cp1252')"
   ]
  },
  {
   "cell_type": "code",
   "execution_count": null,
   "id": "b617dfa5",
   "metadata": {},
   "outputs": [],
   "source": [
    "stress_19_octdec.columns = ['state', 'varroa_mites', 'other_pest_parasites', 'diseases', 'pesticides', 'other', 'unknown', 'year']"
   ]
  },
  {
   "cell_type": "code",
   "execution_count": null,
   "id": "5a9ab508",
   "metadata": {},
   "outputs": [],
   "source": [
    "stress_19_octdec['year'] = 2019\n",
    "stress_19_octdec['period'] = 'oct-dec'"
   ]
  },
  {
   "cell_type": "code",
   "execution_count": null,
   "id": "a3dff829",
   "metadata": {},
   "outputs": [],
   "source": [
    "stress_19_octdec.head()"
   ]
  },
  {
   "cell_type": "markdown",
   "id": "ffec8e3e",
   "metadata": {},
   "source": [
    "### From hcny0821.csv (reported in 2021, for year 2020-2021)"
   ]
  },
  {
   "cell_type": "code",
   "execution_count": null,
   "id": "0ef42dec",
   "metadata": {},
   "outputs": [],
   "source": [
    "stress_20_janmar = pd.read_csv('../data/honeybee_colonies/hcny0821.csv', skiprows = 490, nrows = 47, encoding='cp1252')"
   ]
  },
  {
   "cell_type": "code",
   "execution_count": null,
   "id": "b9c89e43",
   "metadata": {},
   "outputs": [],
   "source": [
    "stress_20_janmar.columns = ['state', 'varroa_mites', 'other_pest_parasites', 'diseases', 'pesticides', 'other', 'unknown', 'year']"
   ]
  },
  {
   "cell_type": "code",
   "execution_count": null,
   "id": "e0d65d21",
   "metadata": {},
   "outputs": [],
   "source": [
    "stress_20_janmar['year'] = 2020\n",
    "stress_20_janmar['period'] = 'jan-mar'"
   ]
  },
  {
   "cell_type": "code",
   "execution_count": null,
   "id": "ed70e9e9",
   "metadata": {},
   "outputs": [],
   "source": [
    "stress_20_janmar.head()"
   ]
  },
  {
   "cell_type": "code",
   "execution_count": null,
   "id": "afdff536",
   "metadata": {},
   "outputs": [],
   "source": [
    "stress_20_aprjun = pd.read_csv('../data/honeybee_colonies/hcny0821.csv', skiprows = 554, nrows = 47, encoding='cp1252')"
   ]
  },
  {
   "cell_type": "code",
   "execution_count": null,
   "id": "42c223ad",
   "metadata": {},
   "outputs": [],
   "source": [
    "stress_20_aprjun.columns = ['state', 'varroa_mites', 'other_pest_parasites', 'diseases', 'pesticides', 'other', 'unknown', 'year']"
   ]
  },
  {
   "cell_type": "code",
   "execution_count": null,
   "id": "b2c7cd22",
   "metadata": {},
   "outputs": [],
   "source": [
    "stress_20_aprjun['year'] = 2020\n",
    "stress_20_aprjun['period'] = 'apr-jun'"
   ]
  },
  {
   "cell_type": "code",
   "execution_count": null,
   "id": "75ee6b80",
   "metadata": {},
   "outputs": [],
   "source": [
    "stress_20_aprjun.head()"
   ]
  },
  {
   "cell_type": "code",
   "execution_count": null,
   "id": "a7f074a1",
   "metadata": {},
   "outputs": [],
   "source": [
    "stress_20_julsep = pd.read_csv('../data/honeybee_colonies/hcny0821.csv', skiprows = 618, nrows = 47, encoding='cp1252')"
   ]
  },
  {
   "cell_type": "code",
   "execution_count": null,
   "id": "b44f7689",
   "metadata": {},
   "outputs": [],
   "source": [
    "stress_20_julsep.columns = ['state', 'varroa_mites', 'other_pest_parasites', 'diseases', 'pesticides', 'other', 'unknown', 'year']"
   ]
  },
  {
   "cell_type": "code",
   "execution_count": null,
   "id": "ea6b5742",
   "metadata": {},
   "outputs": [],
   "source": [
    "stress_20_julsep['year'] = 2020\n",
    "stress_20_julsep['period'] = 'jul-sep'"
   ]
  },
  {
   "cell_type": "code",
   "execution_count": null,
   "id": "a6e51245",
   "metadata": {},
   "outputs": [],
   "source": [
    "stress_20_julsep.head()"
   ]
  },
  {
   "cell_type": "code",
   "execution_count": null,
   "id": "3bad74ad",
   "metadata": {},
   "outputs": [],
   "source": [
    "stress_20_octdec = pd.read_csv('../data/honeybee_colonies/hcny0821.csv', skiprows = 682, nrows = 47, encoding='cp1252')"
   ]
  },
  {
   "cell_type": "code",
   "execution_count": null,
   "id": "92418f57",
   "metadata": {},
   "outputs": [],
   "source": [
    "stress_20_octdec.columns = ['state', 'varroa_mites', 'other_pest_parasites', 'diseases', 'pesticides', 'other', 'unknown', 'year']"
   ]
  },
  {
   "cell_type": "code",
   "execution_count": null,
   "id": "c2b630c4",
   "metadata": {},
   "outputs": [],
   "source": [
    "stress_20_octdec['year'] = 2020\n",
    "stress_20_octdec['period'] = 'oct-dec'"
   ]
  },
  {
   "cell_type": "code",
   "execution_count": null,
   "id": "73323929",
   "metadata": {},
   "outputs": [],
   "source": [
    "stress_20_octdec.head()"
   ]
  },
  {
   "cell_type": "code",
   "execution_count": null,
   "id": "ffbd866f",
   "metadata": {},
   "outputs": [],
   "source": [
    "stress_21_janmar = pd.read_csv('../data/honeybee_colonies/hcny0821.csv', skiprows = 747, nrows = 47, encoding='cp1252')"
   ]
  },
  {
   "cell_type": "code",
   "execution_count": null,
   "id": "46c95f8c",
   "metadata": {},
   "outputs": [],
   "source": [
    "stress_21_janmar.columns = ['state', 'varroa_mites', 'other_pest_parasites', 'diseases', 'pesticides', 'other', 'unknown', 'year']"
   ]
  },
  {
   "cell_type": "code",
   "execution_count": null,
   "id": "ffd67739",
   "metadata": {},
   "outputs": [],
   "source": [
    "stress_21_janmar['year'] = 2021\n",
    "stress_21_janmar['period'] = 'jan-mar'"
   ]
  },
  {
   "cell_type": "code",
   "execution_count": null,
   "id": "f9bd345c",
   "metadata": {},
   "outputs": [],
   "source": [
    "stress_21_janmar.head()"
   ]
  },
  {
   "cell_type": "code",
   "execution_count": null,
   "id": "c8052fcd",
   "metadata": {},
   "outputs": [],
   "source": [
    "stress_21_aprjun = pd.read_csv('../data/honeybee_colonies/hcny0821.csv', skiprows = 811, nrows = 47, encoding='cp1252')"
   ]
  },
  {
   "cell_type": "code",
   "execution_count": null,
   "id": "bda00883",
   "metadata": {},
   "outputs": [],
   "source": [
    "stress_21_aprjun.columns = ['state', 'varroa_mites', 'other_pest_parasites', 'diseases', 'pesticides', 'other', 'unknown', 'year']"
   ]
  },
  {
   "cell_type": "code",
   "execution_count": null,
   "id": "d763748e",
   "metadata": {},
   "outputs": [],
   "source": [
    "stress_21_aprjun['year'] = 2021\n",
    "stress_21_aprjun['period'] = 'apr-jun'"
   ]
  },
  {
   "cell_type": "code",
   "execution_count": null,
   "id": "41b789ef",
   "metadata": {},
   "outputs": [],
   "source": [
    "stress_21_aprjun.head()"
   ]
  },
  {
   "cell_type": "code",
   "execution_count": null,
   "id": "a1e98d2c",
   "metadata": {},
   "outputs": [],
   "source": [
    "stressors = pd.concat([stress_15_janmar, stress_15_aprjun, stress_15_julsep, stress_15_octdec, stress_16_janmar, stress_16_aprjun, stress_16_julsep, stress_16_octdec, stress_17_janmar, stress_17_aprjun, stress_17_julsep, stress_17_octdec, stress_18_janmar, stress_18_aprjun, stress_18_julsep, stress_18_octdec, stress_19_janmar, stress_19_julsep, stress_19_octdec, stress_20_janmar, stress_20_aprjun, stress_20_julsep, stress_20_octdec, stress_21_janmar, stress_21_aprjun], axis = 0)"
   ]
  },
  {
   "cell_type": "code",
   "execution_count": null,
   "id": "f31e6886",
   "metadata": {},
   "outputs": [],
   "source": [
    "# 47(rows per period) x 25(periods) = 1175\n",
    "stressors.shape"
   ]
  },
  {
   "cell_type": "code",
   "execution_count": null,
   "id": "8d5113c5",
   "metadata": {},
   "outputs": [],
   "source": [
    "stressors.period.unique()"
   ]
  },
  {
   "cell_type": "code",
   "execution_count": null,
   "id": "b1a03a73",
   "metadata": {},
   "outputs": [],
   "source": [
    "stressors.head()"
   ]
  },
  {
   "cell_type": "code",
   "execution_count": null,
   "id": "a1d5b644",
   "metadata": {},
   "outputs": [],
   "source": [
    "# csv for combined stressors data\n",
    "# stressors.to_csv('../data/honeybee_colonies/stressors.csv')"
   ]
  },
  {
   "cell_type": "markdown",
   "id": "a70b58f9",
   "metadata": {},
   "source": [
    "## Collapse Disorder \n",
    "### From hcny0516.csv (reported in 2016, for year 2015)"
   ]
  },
  {
   "cell_type": "code",
   "execution_count": null,
   "id": "17be829a",
   "metadata": {},
   "outputs": [],
   "source": [
    "collapse15 = pd.read_csv('../data/honeybee_colonies/hcny0516.csv', skiprows = 772, nrows = 1, encoding='cp1252')"
   ]
  },
  {
   "cell_type": "code",
   "execution_count": null,
   "id": "3280c05f",
   "metadata": {},
   "outputs": [],
   "source": [
    "collapse15"
   ]
  },
  {
   "cell_type": "code",
   "execution_count": null,
   "id": "87a4e147",
   "metadata": {},
   "outputs": [],
   "source": [
    "collapse15 = collapse15.drop(columns = ['(number)', '(number).4', 'Unnamed: 7'])"
   ]
  },
  {
   "cell_type": "code",
   "execution_count": null,
   "id": "6a3d4f6d",
   "metadata": {},
   "outputs": [],
   "source": [
    "collapse15.columns = ['year', 'jan-mar', 'apr-jun', 'jul-sep', 'oct-dec']"
   ]
  },
  {
   "cell_type": "code",
   "execution_count": null,
   "id": "e864c5c0",
   "metadata": {
    "scrolled": true
   },
   "outputs": [],
   "source": [
    "collapse15"
   ]
  },
  {
   "cell_type": "code",
   "execution_count": null,
   "id": "7e1547c4",
   "metadata": {},
   "outputs": [],
   "source": [
    "collapse15['year'] = 2015"
   ]
  },
  {
   "cell_type": "code",
   "execution_count": null,
   "id": "9d0fa08b",
   "metadata": {},
   "outputs": [],
   "source": [
    "collapse15"
   ]
  },
  {
   "cell_type": "markdown",
   "id": "af6eea1f",
   "metadata": {},
   "source": [
    "### From hcny0817.csv (reported in 2017, for year 2016)"
   ]
  },
  {
   "cell_type": "code",
   "execution_count": null,
   "id": "d3d6d52d",
   "metadata": {},
   "outputs": [],
   "source": [
    "collapse16 = pd.read_csv('../data/honeybee_colonies/hcny0817.csv', skiprows = 923, nrows = 1, encoding='cp1252')"
   ]
  },
  {
   "cell_type": "code",
   "execution_count": null,
   "id": "9ecb6862",
   "metadata": {},
   "outputs": [],
   "source": [
    "collapse16"
   ]
  },
  {
   "cell_type": "code",
   "execution_count": null,
   "id": "ffd44cc8",
   "metadata": {},
   "outputs": [],
   "source": [
    "collapse16 = collapse16.drop(columns = ['Unnamed: 1', '(number).2', 'Unnamed: 7'])"
   ]
  },
  {
   "cell_type": "code",
   "execution_count": null,
   "id": "5d045000",
   "metadata": {},
   "outputs": [],
   "source": [
    "collapse16.columns = ['year', 'jan-mar', 'apr-jun', 'jul-sep', 'oct-dec']"
   ]
  },
  {
   "cell_type": "code",
   "execution_count": null,
   "id": "d3ada30b",
   "metadata": {},
   "outputs": [],
   "source": [
    "collapse16"
   ]
  },
  {
   "cell_type": "markdown",
   "id": "ddcdffa0",
   "metadata": {},
   "source": [
    "### From hcny0818.csv (reported in 2018, for year 2017)"
   ]
  },
  {
   "cell_type": "code",
   "execution_count": null,
   "id": "6a6d8f0c",
   "metadata": {},
   "outputs": [],
   "source": [
    "collapse17 = pd.read_csv('../data/honeybee_colonies/hcny0818.csv', skiprows = 921, nrows = 1, encoding='cp1252')"
   ]
  },
  {
   "cell_type": "code",
   "execution_count": null,
   "id": "f3078893",
   "metadata": {},
   "outputs": [],
   "source": [
    "collapse17"
   ]
  },
  {
   "cell_type": "code",
   "execution_count": null,
   "id": "00ff339f",
   "metadata": {},
   "outputs": [],
   "source": [
    "collapse17 = collapse17.drop(columns = ['Unnamed: 1', '(number).2', 'Unnamed: 7'])"
   ]
  },
  {
   "cell_type": "code",
   "execution_count": null,
   "id": "4a44a59c",
   "metadata": {},
   "outputs": [],
   "source": [
    "collapse17.columns = ['year', 'jan-mar', 'apr-jun', 'jul-sep', 'oct-dec']"
   ]
  },
  {
   "cell_type": "code",
   "execution_count": null,
   "id": "62e7ed38",
   "metadata": {},
   "outputs": [],
   "source": [
    "collapse17"
   ]
  },
  {
   "cell_type": "markdown",
   "id": "0e42e3e7",
   "metadata": {},
   "source": [
    "### From hcny0819.csv (reported in 2019, for year 2018)"
   ]
  },
  {
   "cell_type": "code",
   "execution_count": null,
   "id": "2e396a7e",
   "metadata": {},
   "outputs": [],
   "source": [
    "collapse18 = pd.read_csv('../data/honeybee_colonies/hcny0819.csv', skiprows = 751, nrows = 1, encoding='cp1252')"
   ]
  },
  {
   "cell_type": "code",
   "execution_count": null,
   "id": "540c4ae5",
   "metadata": {},
   "outputs": [],
   "source": [
    "collapse18"
   ]
  },
  {
   "cell_type": "code",
   "execution_count": null,
   "id": "c1b288c6",
   "metadata": {},
   "outputs": [],
   "source": [
    "collapse18 = collapse18.drop(columns = ['Unnamed: 5', 'Unnamed: 6', 'Unnamed: 7'])"
   ]
  },
  {
   "cell_type": "code",
   "execution_count": null,
   "id": "ddf8a97a",
   "metadata": {},
   "outputs": [],
   "source": [
    "collapse18.columns = ['year', 'jan-mar', 'apr-jun', 'jul-sep', 'oct-dec']"
   ]
  },
  {
   "cell_type": "code",
   "execution_count": null,
   "id": "1145f168",
   "metadata": {},
   "outputs": [],
   "source": [
    "collapse18"
   ]
  },
  {
   "cell_type": "markdown",
   "id": "1cec58c0",
   "metadata": {},
   "source": [
    "### From hcny0820.csv (reported in 2020, for year 2019)"
   ]
  },
  {
   "cell_type": "code",
   "execution_count": null,
   "id": "10148e02",
   "metadata": {},
   "outputs": [],
   "source": [
    "collapse19 = pd.read_csv('../data/honeybee_colonies/hcny0820.csv', skiprows = 876, nrows = 1, encoding='cp1252')"
   ]
  },
  {
   "cell_type": "code",
   "execution_count": null,
   "id": "896c15b7",
   "metadata": {},
   "outputs": [],
   "source": [
    "collapse19"
   ]
  },
  {
   "cell_type": "code",
   "execution_count": null,
   "id": "e9b493b8",
   "metadata": {},
   "outputs": [],
   "source": [
    "collapse19 = collapse19.drop(columns = ['Unnamed: 5', 'Unnamed: 6', 'Unnamed: 7'])"
   ]
  },
  {
   "cell_type": "code",
   "execution_count": null,
   "id": "b228b4fa",
   "metadata": {},
   "outputs": [],
   "source": [
    "collapse19.columns = ['year', 'jan-mar', 'apr-jun', 'jul-sep', 'oct-dec']"
   ]
  },
  {
   "cell_type": "code",
   "execution_count": null,
   "id": "f68ca2a1",
   "metadata": {},
   "outputs": [],
   "source": [
    "collapse19"
   ]
  },
  {
   "cell_type": "markdown",
   "id": "683a91e1",
   "metadata": {},
   "source": [
    "### From hcny0821.csv (reported in 2021, for year 2020 and part of 2021)"
   ]
  },
  {
   "cell_type": "code",
   "execution_count": null,
   "id": "81595cfe",
   "metadata": {},
   "outputs": [],
   "source": [
    "collapse20_21 = pd.read_csv('../data/honeybee_colonies/hcny0821.csv', skiprows = 876, nrows = 2, encoding='cp1252')"
   ]
  },
  {
   "cell_type": "code",
   "execution_count": null,
   "id": "e208ba0e",
   "metadata": {},
   "outputs": [],
   "source": [
    "collapse20_21"
   ]
  },
  {
   "cell_type": "code",
   "execution_count": null,
   "id": "ae1817dd",
   "metadata": {},
   "outputs": [],
   "source": [
    "collapse20_21 = collapse20_21.drop(columns = ['Unnamed: 5', 'Unnamed: 6', 'Unnamed: 7'])"
   ]
  },
  {
   "cell_type": "code",
   "execution_count": null,
   "id": "f3a27f97",
   "metadata": {},
   "outputs": [],
   "source": [
    "collapse20_21.columns = ['year', 'jan-mar', 'apr-jun', 'jul-sep', 'oct-dec']"
   ]
  },
  {
   "cell_type": "code",
   "execution_count": null,
   "id": "d2215cb9",
   "metadata": {},
   "outputs": [],
   "source": [
    "collapse20_21"
   ]
  },
  {
   "cell_type": "code",
   "execution_count": null,
   "id": "998ef40b",
   "metadata": {},
   "outputs": [],
   "source": [
    "collapse_disorder = pd.concat([collapse15, collapse16, collapse17, collapse18, collapse19, collapse20_21], axis = 0)"
   ]
  },
  {
   "cell_type": "code",
   "execution_count": null,
   "id": "0bea185a",
   "metadata": {},
   "outputs": [],
   "source": [
    "collapse_disorder = collapse_disorder.reset_index(drop = True)"
   ]
  },
  {
   "cell_type": "code",
   "execution_count": null,
   "id": "a1f14168",
   "metadata": {},
   "outputs": [],
   "source": [
    "collapse_disorder"
   ]
  },
  {
   "cell_type": "code",
   "execution_count": null,
   "id": "ee0f646c",
   "metadata": {},
   "outputs": [],
   "source": [
    "# csv for collapse disorder data\n",
    "# collapse_disorder.to_csv('../data/honeybee_colonies/collapse_disorder.csv')"
   ]
  },
  {
   "cell_type": "code",
   "execution_count": null,
   "id": "c8906d94",
   "metadata": {},
   "outputs": [],
   "source": []
  }
 ],
 "metadata": {
  "kernelspec": {
   "display_name": "Python 3 (ipykernel)",
   "language": "python",
   "name": "python3"
  },
  "language_info": {
   "codemirror_mode": {
    "name": "ipython",
    "version": 3
   },
   "file_extension": ".py",
   "mimetype": "text/x-python",
   "name": "python",
   "nbconvert_exporter": "python",
   "pygments_lexer": "ipython3",
   "version": "3.9.7"
  }
 },
 "nbformat": 4,
 "nbformat_minor": 5
}
