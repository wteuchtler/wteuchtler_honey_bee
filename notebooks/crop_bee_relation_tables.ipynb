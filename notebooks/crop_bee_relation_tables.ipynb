{
 "cells": [
  {
   "cell_type": "markdown",
   "id": "4f294a13",
   "metadata": {},
   "source": [
    "2018 Report of attractiveness of Apis(honey) bee of crops grown in the US and whether crop requires bee pollination, and if managed pollinators are used\n",
    "\n",
    "data from https://www.usda.gov/pollinators, under the Office of Pest Management Policy link\n",
    "\n",
    "pdf converted to excel with ilovepdf (had best formatting for these tables) and read in with excel instead of csv (again, just the most straight forward formatting for these tables)\n",
    "\n",
    "crop_bee list uses crops selected by USDA to represent major U.S crops\n",
    "cropcfr_bee list uses crops from title 40 Code of Federal Regulations as additional USDA recognized U.S crops "
   ]
  },
  {
   "cell_type": "code",
   "execution_count": null,
   "id": "ccc4bca2",
   "metadata": {},
   "outputs": [],
   "source": [
    "import pandas as pd\n",
    "import matplotlib.pyplot as plt\n",
    "import seaborn as sns"
   ]
  },
  {
   "cell_type": "code",
   "execution_count": null,
   "id": "c513d94a",
   "metadata": {},
   "outputs": [],
   "source": [
    "crop_bee = pd.read_excel('../data/crop_bee_relation.xlsx', sheet_name = 'Table 1', skiprows = 73)"
   ]
  },
  {
   "cell_type": "code",
   "execution_count": null,
   "id": "63f9df4c",
   "metadata": {},
   "outputs": [],
   "source": [
    "crop_bee.head()"
   ]
  },
  {
   "cell_type": "code",
   "execution_count": null,
   "id": "abc621b8",
   "metadata": {},
   "outputs": [],
   "source": [
    "crop_bee = crop_bee.drop(columns = ['Unnamed: 3', 'Unnamed: 5', 'Unnamed: 7', 'Unnamed: 13'])"
   ]
  },
  {
   "cell_type": "code",
   "execution_count": null,
   "id": "466d1920",
   "metadata": {},
   "outputs": [],
   "source": [
    "crop_bee.head()"
   ]
  },
  {
   "cell_type": "code",
   "execution_count": null,
   "id": "1c47fb73",
   "metadata": {},
   "outputs": [],
   "source": [
    "crop_bee.columns = ['crop', 'description', 'hb_poll', 'hb_nec', 'bumblebee', 'solitary_bees', 'requires_bee_poll', 'managed_poll', 'ref_no', 'us_bearing_acreage', 'seed_production', 'harvest_prior_bloom', 'notes']"
   ]
  },
  {
   "cell_type": "code",
   "execution_count": null,
   "id": "766d54b7",
   "metadata": {},
   "outputs": [],
   "source": [
    "crop_bee.tail()"
   ]
  },
  {
   "cell_type": "code",
   "execution_count": null,
   "id": "805ad914",
   "metadata": {},
   "outputs": [],
   "source": [
    "crop_bee = crop_bee.drop([103])"
   ]
  },
  {
   "cell_type": "code",
   "execution_count": null,
   "id": "9c7dca16",
   "metadata": {},
   "outputs": [],
   "source": [
    "crop_bee.tail()"
   ]
  },
  {
   "cell_type": "code",
   "execution_count": null,
   "id": "e229e048",
   "metadata": {},
   "outputs": [],
   "source": [
    "crop_bee.shape"
   ]
  },
  {
   "cell_type": "code",
   "execution_count": null,
   "id": "87952a82",
   "metadata": {},
   "outputs": [],
   "source": [
    "# csv for crop_bee data\n",
    "# crop_bee.to_csv('../data/crop_bee.csv')"
   ]
  },
  {
   "cell_type": "markdown",
   "id": "4af2b4b8",
   "metadata": {},
   "source": [
    "### table for title 40 CFR crops (just more crops, USDA categorized in a different way) maybe the crop_bee and crop_cfr_bee should be joined at some point"
   ]
  },
  {
   "cell_type": "code",
   "execution_count": null,
   "id": "fa2123bb",
   "metadata": {},
   "outputs": [],
   "source": [
    "cropcfr_bee = pd.read_excel('../data/crop_bee_relation.xlsx', sheet_name = 'Table 2', skiprows = 2)"
   ]
  },
  {
   "cell_type": "code",
   "execution_count": null,
   "id": "89af7926",
   "metadata": {},
   "outputs": [],
   "source": [
    "cropcfr_bee.head()"
   ]
  },
  {
   "cell_type": "code",
   "execution_count": null,
   "id": "0eb89015",
   "metadata": {},
   "outputs": [],
   "source": [
    "cropcfr_bee = cropcfr_bee.drop(cropcfr_bee[cropcfr_bee['HB\\nPoll1'] == 'Uncertaintya'].index)"
   ]
  },
  {
   "cell_type": "code",
   "execution_count": null,
   "id": "6d3f31bf",
   "metadata": {},
   "outputs": [],
   "source": [
    "cropcfr_bee"
   ]
  },
  {
   "cell_type": "code",
   "execution_count": null,
   "id": "4e3828b8",
   "metadata": {},
   "outputs": [],
   "source": [
    "cropcfr2_bee = pd.read_excel('../data/crop_bee_relation.xlsx', sheet_name = 'Table 3')"
   ]
  },
  {
   "cell_type": "code",
   "execution_count": null,
   "id": "51baf28a",
   "metadata": {},
   "outputs": [],
   "source": [
    "cropcfr2_bee"
   ]
  },
  {
   "cell_type": "code",
   "execution_count": null,
   "id": "ce2000d8",
   "metadata": {},
   "outputs": [],
   "source": [
    "cropcfr2_bee = cropcfr2_bee.drop([18, 19, 20])"
   ]
  },
  {
   "cell_type": "code",
   "execution_count": null,
   "id": "24a6b510",
   "metadata": {},
   "outputs": [],
   "source": [
    "crop_cfr_bee = pd.concat([cropcfr_bee, cropcfr2_bee])"
   ]
  },
  {
   "cell_type": "code",
   "execution_count": null,
   "id": "d2beff1b",
   "metadata": {},
   "outputs": [],
   "source": [
    "crop_cfr_bee.head()"
   ]
  },
  {
   "cell_type": "code",
   "execution_count": null,
   "id": "68b01141",
   "metadata": {},
   "outputs": [],
   "source": [
    "crop_cfr_bee.columns = ['crop', 'crop_group', 'hb_poll', 'hb_nec', 'bumblebee', 'solitary_bees', 'requires_bee_poll', 'managed_poll', 'ref_no', 'notes']"
   ]
  },
  {
   "cell_type": "code",
   "execution_count": null,
   "id": "10d96887",
   "metadata": {},
   "outputs": [],
   "source": [
    "crop_cfr_bee = crop_cfr_bee.reset_index(drop = True)"
   ]
  },
  {
   "cell_type": "code",
   "execution_count": null,
   "id": "322fa9b1",
   "metadata": {},
   "outputs": [],
   "source": [
    "crop_cfr_bee.head()"
   ]
  },
  {
   "cell_type": "code",
   "execution_count": null,
   "id": "de17544c",
   "metadata": {},
   "outputs": [],
   "source": [
    "# csv for cfr crops data\n",
    "# crop_cfr_bee.to_csv('../data/crop_cfr_bee.csv')"
   ]
  }
 ],
 "metadata": {
  "kernelspec": {
   "display_name": "Python 3 (ipykernel)",
   "language": "python",
   "name": "python3"
  },
  "language_info": {
   "codemirror_mode": {
    "name": "ipython",
    "version": 3
   },
   "file_extension": ".py",
   "mimetype": "text/x-python",
   "name": "python",
   "nbconvert_exporter": "python",
   "pygments_lexer": "ipython3",
   "version": "3.9.7"
  }
 },
 "nbformat": 4,
 "nbformat_minor": 5
}
