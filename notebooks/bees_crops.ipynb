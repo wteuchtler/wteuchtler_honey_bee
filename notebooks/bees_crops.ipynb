{
 "cells": [
  {
   "cell_type": "markdown",
   "id": "c0426da8",
   "metadata": {},
   "source": [
    "Determine how important honey bees are by using Attractiveness of Agricultural Crops to show percent and types of crops that bees pollinate (could this be compared to data of how important these crops are to agriculture?)\n",
    "\n",
    "-\tCompare that to the plants attractiveness to honeybees to get an idea of the symbiotic nature of crop pollination, and colony stability with that crop available\n",
    "-\tDetermine percent of crops that use managed pollinators (ie employ commercial colonies) to produce crops\n"
   ]
  },
  {
   "cell_type": "markdown",
   "id": "7e0c0441",
   "metadata": {},
   "source": [
    "notes: including harvested prior to bloom plants because they are often still used for propagation harvests\n",
    "\n",
    "managed pollinators refers to managed honey bee colonies as stated in intro of attractiveness of agrigulture crops to pollinating bees report \n",
    "\n",
    "i will combine crop and crf crop because they are only separate on the USDA page because info was obtained through different sources, but the crop importance and impact is the same"
   ]
  },
  {
   "cell_type": "code",
   "execution_count": null,
   "id": "93e95afd",
   "metadata": {},
   "outputs": [],
   "source": [
    "import pandas as pd\n",
    "import matplotlib.pyplot as plt\n",
    "import seaborn as sns"
   ]
  },
  {
   "cell_type": "markdown",
   "id": "8eca2549",
   "metadata": {},
   "source": [
    "### Combine crops and cfr crops"
   ]
  },
  {
   "cell_type": "code",
   "execution_count": null,
   "id": "470c5480",
   "metadata": {},
   "outputs": [],
   "source": [
    "crop_bee = pd.read_csv('../data/crop_bee.csv')"
   ]
  },
  {
   "cell_type": "code",
   "execution_count": null,
   "id": "22302593",
   "metadata": {},
   "outputs": [],
   "source": [
    "crop_bee.head(2)"
   ]
  },
  {
   "cell_type": "code",
   "execution_count": null,
   "id": "777ab2b8",
   "metadata": {},
   "outputs": [],
   "source": [
    "crop_bee = crop_bee.drop(columns = ['Unnamed: 0'])"
   ]
  },
  {
   "cell_type": "code",
   "execution_count": null,
   "id": "475766d6",
   "metadata": {},
   "outputs": [],
   "source": [
    "crop_bee = crop_bee.reset_index(drop = True)"
   ]
  },
  {
   "cell_type": "code",
   "execution_count": null,
   "id": "803adbd1",
   "metadata": {},
   "outputs": [],
   "source": [
    "crop_bee.shape"
   ]
  },
  {
   "cell_type": "code",
   "execution_count": null,
   "id": "460f786a",
   "metadata": {},
   "outputs": [],
   "source": [
    "crop_cfr_bee = pd.read_csv('../data/crop_cfr_bee.csv')"
   ]
  },
  {
   "cell_type": "code",
   "execution_count": null,
   "id": "e80f06b3",
   "metadata": {},
   "outputs": [],
   "source": [
    "crop_cfr_bee = crop_cfr_bee.drop(columns = ['Unnamed: 0'])"
   ]
  },
  {
   "cell_type": "code",
   "execution_count": null,
   "id": "2d5d3027",
   "metadata": {
    "scrolled": true
   },
   "outputs": [],
   "source": [
    "crop_bee.head(2)"
   ]
  },
  {
   "cell_type": "code",
   "execution_count": null,
   "id": "e9de3526",
   "metadata": {},
   "outputs": [],
   "source": [
    "crop_cfr_bee.shape"
   ]
  },
  {
   "cell_type": "code",
   "execution_count": null,
   "id": "4eb85975",
   "metadata": {},
   "outputs": [],
   "source": [
    "crop_merge = crop_bee[['crop', 'hb_poll', 'hb_nec', 'bumblebee', 'solitary_bees', 'requires_bee_poll', 'managed_poll']]\n",
    "crop_cfr_merge = crop_cfr_bee[['crop', 'hb_poll', 'hb_nec', 'bumblebee', 'solitary_bees', 'requires_bee_poll', 'managed_poll']]"
   ]
  },
  {
   "cell_type": "code",
   "execution_count": null,
   "id": "ebe7d78a",
   "metadata": {},
   "outputs": [],
   "source": [
    "crops = pd.concat([crop_merge, crop_cfr_merge])"
   ]
  },
  {
   "cell_type": "code",
   "execution_count": null,
   "id": "13b2ec57",
   "metadata": {
    "scrolled": false
   },
   "outputs": [],
   "source": [
    "crops.head(3)"
   ]
  },
  {
   "cell_type": "markdown",
   "id": "bed3a954",
   "metadata": {},
   "source": [
    "### Determine % of crop types that require bee pollination and % of crop types that employ managed pollinators (managed honey bee colonies)"
   ]
  },
  {
   "cell_type": "code",
   "execution_count": null,
   "id": "9f05042c",
   "metadata": {},
   "outputs": [],
   "source": [
    "crops.requires_bee_poll.unique()"
   ]
  },
  {
   "cell_type": "code",
   "execution_count": null,
   "id": "95a84ee3",
   "metadata": {},
   "outputs": [],
   "source": [
    "crops['requires_bee_poll'] = crops['requires_bee_poll'].str[:3]"
   ]
  },
  {
   "cell_type": "code",
   "execution_count": null,
   "id": "eafa1598",
   "metadata": {},
   "outputs": [],
   "source": [
    "crops.requires_bee_poll.unique()"
   ]
  },
  {
   "cell_type": "code",
   "execution_count": null,
   "id": "86a475b1",
   "metadata": {},
   "outputs": [],
   "source": [
    "crops['requires_bee_poll'] = crops['requires_bee_poll'].str.replace('For', 'For Seed Production Only')\n",
    "crops['requires_bee_poll'] = crops['requires_bee_poll'].str.replace('N/A', 'not available')"
   ]
  },
  {
   "cell_type": "code",
   "execution_count": null,
   "id": "5b61fae7",
   "metadata": {},
   "outputs": [],
   "source": [
    "crops.requires_bee_poll.unique()"
   ]
  },
  {
   "cell_type": "code",
   "execution_count": null,
   "id": "59cabce6",
   "metadata": {},
   "outputs": [],
   "source": [
    "req_poll_counts = crops.requires_bee_poll.value_counts().reset_index()"
   ]
  },
  {
   "cell_type": "code",
   "execution_count": null,
   "id": "aa6872e5",
   "metadata": {},
   "outputs": [],
   "source": [
    "req_poll_counts.columns = ['requires_bee_poll', 'count']"
   ]
  },
  {
   "cell_type": "code",
   "execution_count": null,
   "id": "927011e2",
   "metadata": {},
   "outputs": [],
   "source": [
    "# gonna take off the 2 crops where there is no data on pollination requirements \n",
    "req_poll_counts = req_poll_counts.nlargest(3, 'count')"
   ]
  },
  {
   "cell_type": "code",
   "execution_count": null,
   "id": "8db2e61a",
   "metadata": {},
   "outputs": [],
   "source": [
    "req_poll_counts['percent'] = (req_poll_counts['count'] / req_poll_counts['count'].sum()) * 100"
   ]
  },
  {
   "cell_type": "code",
   "execution_count": null,
   "id": "b1454449",
   "metadata": {},
   "outputs": [],
   "source": [
    "req_poll_counts"
   ]
  },
  {
   "cell_type": "code",
   "execution_count": null,
   "id": "24b1c6d8",
   "metadata": {},
   "outputs": [],
   "source": [
    "# looks better when manually put in, this data is from percent column of req_poll_counts\n",
    "data = [39, 13, 48]\n",
    "labels = ['Yes', 'Seed Only', 'No']\n",
    "explode = (0.1, 0.0, 0.0)\n",
    "\n",
    "colors = sns.color_palette('pastel')\n",
    "\n",
    "plt.pie(data, labels = labels, colors = colors,autopct='%.0f%%',\n",
    "        explode=explode, shadow= True);\n",
    "\n",
    "plt.title('Percent of USDA Listed Crops that Require Bee Pollination');"
   ]
  },
  {
   "cell_type": "code",
   "execution_count": null,
   "id": "0181aacf",
   "metadata": {},
   "outputs": [],
   "source": [
    "crops.head(3)"
   ]
  },
  {
   "cell_type": "code",
   "execution_count": null,
   "id": "f83f87cb",
   "metadata": {},
   "outputs": [],
   "source": [
    "crops.managed_poll.unique()"
   ]
  },
  {
   "cell_type": "code",
   "execution_count": null,
   "id": "e272fe16",
   "metadata": {},
   "outputs": [],
   "source": [
    "crops['managed_poll'] = crops['managed_poll'].str[:3]"
   ]
  },
  {
   "cell_type": "code",
   "execution_count": null,
   "id": "c38c3bd4",
   "metadata": {},
   "outputs": [],
   "source": [
    "crops.managed_poll.unique()"
   ]
  },
  {
   "cell_type": "code",
   "execution_count": null,
   "id": "3a36547b",
   "metadata": {},
   "outputs": [],
   "source": [
    "crops['managed_poll'] = crops['managed_poll'].str.replace('For', 'For Seed Production Only')\n",
    "crops['managed_poll'] = crops['managed_poll'].str.replace('N/A', 'not available')"
   ]
  },
  {
   "cell_type": "code",
   "execution_count": null,
   "id": "86860233",
   "metadata": {},
   "outputs": [],
   "source": [
    "managed_counts = crops.managed_poll.value_counts().reset_index()"
   ]
  },
  {
   "cell_type": "code",
   "execution_count": null,
   "id": "62b818fc",
   "metadata": {},
   "outputs": [],
   "source": [
    "managed_counts.columns = ['managed_poll', 'count']"
   ]
  },
  {
   "cell_type": "code",
   "execution_count": null,
   "id": "62efa9c2",
   "metadata": {},
   "outputs": [],
   "source": [
    "# only include crops where there is data available on managed crops (only drops 9 crops)\n",
    "managed_counts = managed_counts.nlargest(3, 'count')"
   ]
  },
  {
   "cell_type": "code",
   "execution_count": null,
   "id": "7df5cae2",
   "metadata": {},
   "outputs": [],
   "source": [
    "managed_counts['percent'] = (managed_counts['count'] / managed_counts['count'].sum()) * 100"
   ]
  },
  {
   "cell_type": "code",
   "execution_count": null,
   "id": "26542b3b",
   "metadata": {},
   "outputs": [],
   "source": [
    "managed_counts"
   ]
  },
  {
   "cell_type": "markdown",
   "id": "115caedb",
   "metadata": {},
   "source": [
    "## for presentation, it may be interesting to note that less crop types employ managed pollinators than crops that need bees for pollination, why would this be (bee lol)?"
   ]
  },
  {
   "cell_type": "code",
   "execution_count": null,
   "id": "adc8d205",
   "metadata": {},
   "outputs": [],
   "source": [
    "# looks better when manually put in, this data is from percent column of managed_counts\n",
    "data = [12, 9, 79]\n",
    "labels = ['Yes', 'Seed Only', 'No']\n",
    "explode = (0.1, 0.0, 0.0)\n",
    "\n",
    "colors = sns.color_palette('pastel')\n",
    "\n",
    "plt.pie(data, labels = labels, colors = colors,autopct='%.0f%%',\n",
    "        explode=explode, shadow= True);\n",
    "\n",
    "plt.title('Percent of USDA Listed Crops that Used Managed Pollinators');"
   ]
  },
  {
   "cell_type": "markdown",
   "id": "511cbe5d",
   "metadata": {},
   "source": [
    "#### Compare crops that require bee pollination (including crops that only need pollination for seed production) to the plants attractiveness to honeybees to get an idea of the symbiotic nature of crop pollination, and colony stability with that crop available"
   ]
  },
  {
   "cell_type": "code",
   "execution_count": null,
   "id": "f01072d7",
   "metadata": {},
   "outputs": [],
   "source": [
    "crops.head(3)"
   ]
  },
  {
   "cell_type": "code",
   "execution_count": null,
   "id": "c34148ca",
   "metadata": {},
   "outputs": [],
   "source": [
    "crops.hb_poll.value_counts()"
   ]
  },
  {
   "cell_type": "code",
   "execution_count": null,
   "id": "ac9e8f16",
   "metadata": {},
   "outputs": [],
   "source": [
    "crops.hb_nec.value_counts()"
   ]
  },
  {
   "cell_type": "code",
   "execution_count": null,
   "id": "c16a94c0",
   "metadata": {},
   "outputs": [],
   "source": [
    "# make dataframe of crops that need bee pollinators, find rows where honey bees \n",
    "# are attracted to the crops for pollen or nectar\n",
    "crops_need_poll = crops.loc[(crops['requires_bee_poll'] == 'For Seed Production Only') | (crops['requires_bee_poll'] == 'Yes')]"
   ]
  },
  {
   "cell_type": "code",
   "execution_count": null,
   "id": "14944737",
   "metadata": {},
   "outputs": [],
   "source": [
    "crops_need_poll"
   ]
  },
  {
   "cell_type": "code",
   "execution_count": null,
   "id": "19b6f73c",
   "metadata": {},
   "outputs": [],
   "source": [
    "crops_need_poll.hb_poll.value_counts()"
   ]
  },
  {
   "cell_type": "code",
   "execution_count": null,
   "id": "b6db207c",
   "metadata": {},
   "outputs": [],
   "source": [
    "crops_need_poll.hb_nec.value_counts()"
   ]
  },
  {
   "cell_type": "code",
   "execution_count": null,
   "id": "990ee20b",
   "metadata": {},
   "outputs": [],
   "source": [
    "crops_need_poll.loc[(crops_need_poll['hb_poll'] == '+') | (crops_need_poll['hb_poll'] == '++') | (crops_need_poll['hb_nec'] == '+') | (crops_need_poll['hb_nec'] == '++')]"
   ]
  },
  {
   "cell_type": "code",
   "execution_count": null,
   "id": "1365dda4",
   "metadata": {},
   "outputs": [],
   "source": [
    "crops_need_poll.shape"
   ]
  },
  {
   "cell_type": "markdown",
   "id": "ffe4be0c",
   "metadata": {},
   "source": [
    "### the above two cells basically demonstrate that 144/150 (96%) crops that require bee pollination also attract bees to their pollen or nectar. This establishes a symbiotic relationship between bees and US agriculture/ crop growth. By using comparison of crops using managed bees being lower than crops that need bee pollination, it can be suggested that by increasing use of managed bees will not only boost crop yields, but will also boost bee population stability"
   ]
  },
  {
   "cell_type": "code",
   "execution_count": null,
   "id": "382d3b7a",
   "metadata": {},
   "outputs": [],
   "source": []
  }
 ],
 "metadata": {
  "kernelspec": {
   "display_name": "Python 3 (ipykernel)",
   "language": "python",
   "name": "python3"
  },
  "language_info": {
   "codemirror_mode": {
    "name": "ipython",
    "version": 3
   },
   "file_extension": ".py",
   "mimetype": "text/x-python",
   "name": "python",
   "nbconvert_exporter": "python",
   "pygments_lexer": "ipython3",
   "version": "3.9.7"
  }
 },
 "nbformat": 4,
 "nbformat_minor": 5
}
